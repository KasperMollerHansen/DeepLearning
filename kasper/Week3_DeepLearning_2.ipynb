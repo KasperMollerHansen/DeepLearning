{
  "cells": [
    {
      "cell_type": "markdown",
      "metadata": {
        "id": "5CC4Njqm0AYf"
      },
      "source": [
        "# Import relevant packages"
      ]
    },
    {
      "cell_type": "code",
      "execution_count": 1,
      "metadata": {
        "id": "9LfpxDA3Jed_"
      },
      "outputs": [],
      "source": [
        "import torch\n",
        "from torch import nn\n",
        "from torch.utils.data import DataLoader\n",
        "from torchvision import datasets\n",
        "from torchvision.transforms import ToTensor\n",
        "import matplotlib.pyplot as plt\n",
        "from torchsummary import summary\n"
      ]
    },
    {
      "cell_type": "markdown",
      "metadata": {
        "id": "9-yUxFxpJpkc"
      },
      "source": [
        "# Download training data from open datasets\n",
        "\n",
        "\n"
      ]
    },
    {
      "cell_type": "code",
      "execution_count": 2,
      "metadata": {
        "id": "j-AVYafPJnvj"
      },
      "outputs": [],
      "source": [
        "# Download training data from open datasets.\n",
        "training_data = datasets.MNIST(\n",
        "    root=\"data\",\n",
        "    train=True,\n",
        "    download=True,\n",
        "    transform=ToTensor(),\n",
        ")\n",
        "\n",
        "# Download test data from open datasets.\n",
        "test_data = datasets.MNIST(\n",
        "    root=\"data\",\n",
        "    train=False,\n",
        "    download=True,\n",
        "    transform=ToTensor(),\n",
        ")"
      ]
    },
    {
      "cell_type": "markdown",
      "metadata": {
        "id": "06Ig_Lk-znMG"
      },
      "source": [
        "# Check some of the properties of the data set"
      ]
    },
    {
      "cell_type": "code",
      "execution_count": 3,
      "metadata": {
        "id": "O1gXL8U5PLKa"
      },
      "outputs": [
        {
          "name": "stdout",
          "output_type": "stream",
          "text": [
            "['0 - zero', '1 - one', '2 - two', '3 - three', '4 - four', '5 - five', '6 - six', '7 - seven', '8 - eight', '9 - nine']\n",
            "Number of samples in the training data: 60000\n",
            "Number of samples in the test data: 10000\n"
          ]
        }
      ],
      "source": [
        "classes = training_data.classes\n",
        "print(classes)\n",
        "\n",
        "num_training_samples = len(training_data)\n",
        "print(f\"Number of samples in the training data: {num_training_samples}\")\n",
        "\n",
        "num_test_samples = len(test_data)\n",
        "print(f\"Number of samples in the test data: {num_test_samples}\")\n"
      ]
    },
    {
      "cell_type": "markdown",
      "metadata": {
        "id": "P97qpDJ70qxc"
      },
      "source": [
        "# Setting up the data sets for training and testing"
      ]
    },
    {
      "cell_type": "code",
      "execution_count": 4,
      "metadata": {
        "id": "kZsdlAR4JtWJ"
      },
      "outputs": [
        {
          "name": "stdout",
          "output_type": "stream",
          "text": [
            "Shape of X [N, C, H, W]: torch.Size([64, 1, 28, 28])\n",
            "Shape of y: torch.Size([64]) torch.int64\n"
          ]
        },
        {
          "data": {
            "image/png": "[encoded data removed]",
            "text/plain": [
              "<Figure size 1000x1000 with 6 Axes>"
            ]
          },
          "metadata": {},
          "output_type": "display_data"
        }
      ],
      "source": [
        "batch_size = 64 # we will talk about it later\n",
        "\n",
        "# Create data loaders.\n",
        "train_dataloader = DataLoader(training_data, batch_size=batch_size)\n",
        "test_dataloader = DataLoader(test_data, batch_size=batch_size)\n",
        "\n",
        "for X, y in train_dataloader:\n",
        "    print(f\"Shape of X [N, C, H, W]: {X.shape}\")\n",
        "    print(f\"Shape of y: {y.shape} {y.dtype}\")\n",
        "\n",
        "    fig, axes = plt.subplots(1, 6, figsize=(10, 10))\n",
        "    axes = axes.flatten()\n",
        "\n",
        "    for i in range(6):\n",
        "        img = X[i].squeeze().numpy()\n",
        "        axes[i].imshow(img, cmap=\"gray\")\n",
        "        axes[i].set_title(f\"Label: {y[i]}\")\n",
        "        axes[i].axis('off')\n",
        "\n",
        "    plt.tight_layout()\n",
        "    plt.show()\n",
        "\n",
        "    break"
      ]
    },
    {
      "cell_type": "markdown",
      "metadata": {
        "id": "IV56qMuS08vY"
      },
      "source": [
        "# Defining a simple MLP network architecture\n",
        "\n",
        "| Layer type   | size    | Output channels  | Stride |\n",
        "|--------------|---------|------------------|--------|\n",
        "| fully connected   |      | 784               |       |\n",
        "| ReLU   |      | 784               |       |\n",
        "| fully connected   |      | 512               |       |\n",
        "| ReLU   |      | 512               |       |\n",
        "| fully connected   |      | 10               |       |\n",
        "\n"
      ]
    },
    {
      "cell_type": "code",
      "execution_count": 13,
      "metadata": {
        "id": "XHKzQb1hJw-J"
      },
      "outputs": [
        {
          "name": "stdout",
          "output_type": "stream",
          "text": [
            "Using cpu device\n",
            "NeuralNetwork(\n",
            "  (flatten): Flatten(start_dim=1, end_dim=-1)\n",
            "  (linear_relu_stack): Sequential(\n",
            "    (0): Linear(in_features=784, out_features=512, bias=True)\n",
            "    (1): ReLU(inplace=True)\n",
            "    (2): Linear(in_features=512, out_features=512, bias=True)\n",
            "    (3): ReLU(inplace=True)\n",
            "    (4): Linear(in_features=512, out_features=10, bias=True)\n",
            "  )\n",
            ")\n"
          ]
        }
      ],
      "source": [
        "# Get cpu, gpu or mps device for training.\n",
        "device = (\n",
        "    \"cuda\" if torch.cuda.is_available()\n",
        "     else \"cpu\"\n",
        ")\n",
        "print(f\"Using {device} device\")\n",
        "\n",
        "# Define model\n",
        "class NeuralNetwork(nn.Module):\n",
        "    def __init__(self):\n",
        "        super().__init__()\n",
        "        self.flatten = nn.Flatten()\n",
        "        self.linear_relu_stack = nn.Sequential(\n",
        "            nn.Linear(28*28, 512),\n",
        "            nn.ReLU(inplace=True),\n",
        "            nn.Linear(512, 512),\n",
        "            nn.ReLU(inplace=True),\n",
        "            nn.Linear(512, 10)\n",
        "        )\n",
        "\n",
        "    def forward(self, x):\n",
        "        x = self.flatten(x)\n",
        "        logits = self.linear_relu_stack(x)\n",
        "        return logits\n",
        "\n",
        "model = NeuralNetwork().to(device)\n",
        "print(model)\n"
      ]
    },
    {
      "cell_type": "markdown",
      "metadata": {
        "id": "SDO1LFHr1dga"
      },
      "source": [
        "# We can also see the model parameters and the size at each layer of the model\n",
        "This is done by using the pytorchsummary package https://github.com/sksq96/pytorch-summary"
      ]
    },
    {
      "cell_type": "code",
      "execution_count": 14,
      "metadata": {
        "id": "7Cr7x8411mgH"
      },
      "outputs": [
        {
          "name": "stdout",
          "output_type": "stream",
          "text": [
            "----------------------------------------------------------------\n",
            "        Layer (type)               Output Shape         Param #\n",
            "================================================================\n",
            "           Flatten-1                  [-1, 784]               0\n",
            "            Linear-2                  [-1, 512]         401,920\n",
            "              ReLU-3                  [-1, 512]               0\n",
            "            Linear-4                  [-1, 512]         262,656\n",
            "              ReLU-5                  [-1, 512]               0\n",
            "            Linear-6                   [-1, 10]           5,130\n",
            "================================================================\n",
            "Total params: 669,706\n",
            "Trainable params: 669,706\n",
            "Non-trainable params: 0\n",
            "----------------------------------------------------------------\n",
            "Input size (MB): 0.00\n",
            "Forward/backward pass size (MB): 0.02\n",
            "Params size (MB): 2.55\n",
            "Estimated Total Size (MB): 2.58\n",
            "----------------------------------------------------------------\n"
          ]
        }
      ],
      "source": [
        "summary(model, input_size=(1, 28, 28), device=device)"
      ]
    },
    {
      "cell_type": "markdown",
      "metadata": {
        "id": "_Pz1xrqt2CBx"
      },
      "source": [
        "## Defining a loss-function\n",
        "\n",
        "Let’s use a Classification Cross-Entropy loss SGD.\n",
        "Our labels are one-hot encoded, which means that for each image, we have a target vector with 10 entries (one for each class).\n",
        "This target vector contains only zeros except for the entry of the class to which the image belongs.\n",
        "\n",
        "\\begin{equation}\n",
        "H(y,\\hat y) = -\\sum_j y_j \\cdot log(\\hat y_j)\n",
        "\\end{equation}\n",
        "\n",
        "$j \\in \\{1, 2, \\dots, n_{\\text{classes}}\\}$ and $\\hat{y}_j = \\begin{cases}\n",
        "    1 & \\text{if } j = \\text{true class}, \\\\\n",
        "    0 & \\text{otherwise}\n",
        "\\end{cases}$\n",
        "\n",
        "Explanation: Let’s assume a simple case where we have three classes. The true label vector y for a given sample is [0, 0, 1] (indicating class 3 is the correct label), and the model outputs a probability distribution p = [0.1, 0.3, 0.6].\n",
        "\n",
        "\\begin{equation}\n",
        "\\text{Loss} = -[0 \\times \\log(0.1) + 0 \\times \\log(0.3) + 1 \\times \\log(0.6)] = -\\log(0.6) = 0.51\n",
        "\\end{equation}\n",
        "\n"
      ]
    },
    {
      "cell_type": "code",
      "execution_count": 7,
      "metadata": {
        "id": "EsUl35RULuU5"
      },
      "outputs": [],
      "source": [
        "loss_fn = nn.CrossEntropyLoss()\n",
        "optimizer = torch.optim.SGD(model.parameters(), lr=1e-3) # Let's use stocastic gradient descent (We will talk about it in the coming weeks)"
      ]
    },
    {
      "cell_type": "code",
      "execution_count": 8,
      "metadata": {
        "id": "xNKUlGGVMSYe"
      },
      "outputs": [],
      "source": [
        "train_losses = []\n",
        "test_losses = []\n",
        "train_accuracies = []\n",
        "test_accuracies = []\n",
        "\n",
        "\n",
        "def train(dataloader, model, loss_fn, optimizer):\n",
        "    size = len(dataloader.dataset)\n",
        "    model.train()\n",
        "    total_loss, correct = 0, 0  # Track the total loss for the epoch\n",
        "\n",
        "    for batch, (X, y) in enumerate(dataloader):\n",
        "        X, y = X.to(device), y.to(device)\n",
        "\n",
        "        # Compute prediction error\n",
        "        pred = model(X)\n",
        "        loss = loss_fn(pred, y)\n",
        "        total_loss += loss.item()  # Accumulate loss\n",
        "\n",
        "        # Backpropagation\n",
        "        loss.backward()\n",
        "        optimizer.step()\n",
        "        optimizer.zero_grad()\n",
        "\n",
        "        # Calculate accuracy\n",
        "        correct += (pred.argmax(1) == y).type(torch.float).sum().item()\n",
        "\n",
        "        if batch % 100 == 0:\n",
        "            loss, current = loss.item(), (batch + 1) * len(X)\n",
        "            print(f\"loss: {loss:>7f}  [{current:>5d}/{size:>5d}]\")\n",
        "    avg_loss = total_loss / len(dataloader)  # Calculate average loss for the epoch\n",
        "    avg_accuracy = correct / size\n",
        "\n",
        "    train_losses.append(avg_loss)  # Store the average loss for the epoch\n",
        "    train_accuracies.append(avg_accuracy) # Store the average accuracy for the epoch\n",
        "\n",
        "    print(f\"Train loss: {avg_loss:>7f}, Accuracy: {(100*avg_accuracy):>0.1f}%\")\n"
      ]
    },
    {
      "cell_type": "code",
      "execution_count": 9,
      "metadata": {
        "id": "w2ruGBdKMTic"
      },
      "outputs": [],
      "source": [
        "def test(dataloader, model, loss_fn):\n",
        "    size = len(dataloader.dataset)\n",
        "    num_batches = len(dataloader)\n",
        "    model.eval()\n",
        "    test_loss, correct = 0, 0\n",
        "    with torch.no_grad():\n",
        "        for X, y in dataloader:\n",
        "            X, y = X.to(device), y.to(device)\n",
        "            pred = model(X)\n",
        "            test_loss += loss_fn(pred, y).item()\n",
        "            correct += (pred.argmax(1) == y).type(torch.float).sum().item()\n",
        "    test_loss /= num_batches\n",
        "    correct /= size\n",
        "    test_losses.append(test_loss)  # Store the test loss for the epoch\n",
        "    test_accuracies.append(correct)\n",
        "\n",
        "    print(f\"Test Error: \\n Avg loss: {test_loss:>8f}, Accuracy: {(100*correct):>0.1f}% \\n\")\n"
      ]
    },
    {
      "cell_type": "code",
      "execution_count": 10,
      "metadata": {
        "id": "RuzT0ZERMpU6"
      },
      "outputs": [
        {
          "name": "stdout",
          "output_type": "stream",
          "text": [
            "Epoch 1\n",
            "-------------------------------\n",
            "loss: 2.312438  [   64/60000]\n",
            "loss: 2.312032  [ 6464/60000]\n",
            "loss: 2.294428  [12864/60000]\n",
            "loss: 2.285954  [19264/60000]\n",
            "loss: 2.281173  [25664/60000]\n",
            "loss: 2.281466  [32064/60000]\n",
            "loss: 2.278563  [38464/60000]\n",
            "loss: 2.286638  [44864/60000]\n",
            "loss: 2.270593  [51264/60000]\n",
            "loss: 2.253247  [57664/60000]\n",
            "Train loss: 2.287345, Accuracy: 17.1%\n",
            "Test Error: \n",
            " Avg loss: 2.265406, Accuracy: 24.5% \n",
            "\n",
            "Epoch 2\n",
            "-------------------------------\n",
            "loss: 2.269046  [   64/60000]\n",
            "loss: 2.265707  [ 6464/60000]\n",
            "loss: 2.258364  [12864/60000]\n",
            "loss: 2.233469  [19264/60000]\n",
            "loss: 2.237173  [25664/60000]\n",
            "loss: 2.235090  [32064/60000]\n",
            "loss: 2.223617  [38464/60000]\n",
            "loss: 2.246672  [44864/60000]\n",
            "loss: 2.216422  [51264/60000]\n",
            "loss: 2.197747  [57664/60000]\n",
            "Train loss: 2.240070, Accuracy: 38.6%\n",
            "Test Error: \n",
            " Avg loss: 2.207217, Accuracy: 54.9% \n",
            "\n",
            "Epoch 3\n",
            "-------------------------------\n",
            "loss: 2.207785  [   64/60000]\n",
            "loss: 2.201118  [ 6464/60000]\n",
            "loss: 2.205912  [12864/60000]\n",
            "loss: 2.153787  [19264/60000]\n",
            "loss: 2.168804  [25664/60000]\n",
            "loss: 2.162359  [32064/60000]\n",
            "loss: 2.137171  [38464/60000]\n",
            "loss: 2.179220  [44864/60000]\n",
            "loss: 2.125895  [51264/60000]\n",
            "loss: 2.104168  [57664/60000]\n",
            "Train loss: 2.166119, Accuracy: 64.1%\n",
            "Test Error: \n",
            " Avg loss: 2.109647, Accuracy: 69.5% \n",
            "\n",
            "Epoch 4\n",
            "-------------------------------\n",
            "loss: 2.106331  [   64/60000]\n",
            "loss: 2.091805  [ 6464/60000]\n",
            "loss: 2.116576  [12864/60000]\n",
            "loss: 2.017842  [19264/60000]\n",
            "loss: 2.048719  [25664/60000]\n",
            "loss: 2.034550  [32064/60000]\n",
            "loss: 1.988313  [38464/60000]\n",
            "loss: 2.054569  [44864/60000]\n",
            "loss: 1.965615  [51264/60000]\n",
            "loss: 1.939875  [57664/60000]\n",
            "Train loss: 2.037156, Accuracy: 70.4%\n",
            "Test Error: \n",
            " Avg loss: 1.937626, Accuracy: 71.7% \n",
            "\n",
            "Epoch 5\n",
            "-------------------------------\n",
            "loss: 1.931173  [   64/60000]\n",
            "loss: 1.900235  [ 6464/60000]\n",
            "loss: 1.955083  [12864/60000]\n",
            "loss: 1.793180  [19264/60000]\n",
            "loss: 1.836041  [25664/60000]\n",
            "loss: 1.809995  [32064/60000]\n",
            "loss: 1.744756  [38464/60000]\n",
            "loss: 1.843406  [44864/60000]\n",
            "loss: 1.707060  [51264/60000]\n",
            "loss: 1.679628  [57664/60000]\n",
            "Train loss: 1.818827, Accuracy: 72.3%\n",
            "Test Error: \n",
            " Avg loss: 1.664511, Accuracy: 73.7% \n",
            "\n",
            "Done!\n"
          ]
        }
      ],
      "source": [
        "epochs = 5\n",
        "for t in range(epochs):\n",
        "    print(f\"Epoch {t+1}\\n-------------------------------\")\n",
        "    train(train_dataloader, model, loss_fn, optimizer)\n",
        "    test(test_dataloader, model, loss_fn)\n",
        "print(\"Done!\")\n"
      ]
    },
    {
      "cell_type": "markdown",
      "metadata": {
        "id": "sjggPjPH9pZP"
      },
      "source": [
        "# Check the performance of the network through train and test loss and accuracy curves"
      ]
    },
    {
      "cell_type": "code",
      "execution_count": 11,
      "metadata": {
        "id": "A-sQ_Y8W9ou_"
      },
      "outputs": [
        {
          "data": {
            "image/png": "[encoded data removed]",
            "text/plain": [
              "<Figure size 640x480 with 1 Axes>"
            ]
          },
          "metadata": {},
          "output_type": "display_data"
        },
        {
          "data": {
            "image/png": "[encoded data removed]",
            "text/plain": [
              "<Figure size 640x480 with 1 Axes>"
            ]
          },
          "metadata": {},
          "output_type": "display_data"
        }
      ],
      "source": [
        "plt.subplot(2,1,1)\n",
        "plt.plot(range(1, epochs+1), train_losses, label=\"Train Loss\")\n",
        "plt.plot(range(1, epochs+1), test_losses, label=\"Test Loss\")\n",
        "plt.xlabel(\"Epochs\")\n",
        "plt.ylabel(\"Loss\")\n",
        "plt.title(\"Training and Testing Loss over Epochs\")\n",
        "plt.legend()\n",
        "plt.show()\n",
        "\n",
        "plt.subplot(2,1,2)\n",
        "plt.plot(range(1, epochs+1), train_accuracies, label=\"Train Accuracy\")\n",
        "plt.plot(range(1, epochs+1), test_accuracies, label=\"Test Accuracy\")\n",
        "plt.xlabel(\"Epochs\")\n",
        "plt.ylabel(\"Accuracy\")\n",
        "plt.title(\"Training and Testing Accuracy over Epochs\")\n",
        "plt.legend()\n",
        "plt.show()\n"
      ]
    },
    {
      "cell_type": "markdown",
      "metadata": {
        "id": "O0hwwom2AmhO"
      },
      "source": [
        "# Check result for one image"
      ]
    },
    {
      "cell_type": "code",
      "execution_count": 12,
      "metadata": {
        "id": "TeoXfW24MrrH"
      },
      "outputs": [
        {
          "name": "stdout",
          "output_type": "stream",
          "text": [
            "Predicted: \"7 - seven\", Actual: \"7 - seven\"\n"
          ]
        },
        {
          "data": {
            "image/png": "[encoded data removed]",
            "text/plain": [
              "<Figure size 640x480 with 1 Axes>"
            ]
          },
          "metadata": {},
          "output_type": "display_data"
        }
      ],
      "source": [
        "model.eval()\n",
        "idx = 0\n",
        "x, y = test_data[idx][0], test_data[idx][1]\n",
        "plt.imshow(x.permute(1,2,0), cmap = 'gray')\n",
        "with torch.no_grad():\n",
        "    x = x.to(device)\n",
        "    pred = model(x)\n",
        "    predicted, actual = classes[pred[0].argmax(0)], classes[y]\n",
        "    print(f'Predicted: \"{predicted}\", Actual: \"{actual}\"')\n"
      ]
    }
  ],
  "metadata": {
    "accelerator": "GPU",
    "colab": {
      "gpuType": "T4",
      "provenance": []
    },
    "kernelspec": {
      "display_name": "Python 3",
      "name": "python3"
    },
    "language_info": {
      "codemirror_mode": {
        "name": "ipython",
        "version": 3
      },
      "file_extension": ".py",
      "mimetype": "text/x-python",
      "name": "python",
      "nbconvert_exporter": "python",
      "pygments_lexer": "ipython3",
      "version": "3.10.11"
    }
  },
  "nbformat": 4,
  "nbformat_minor": 0
}
