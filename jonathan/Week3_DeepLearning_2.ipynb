{
  "cells": [
    {
      "cell_type": "markdown",
      "metadata": {
        "id": "5CC4Njqm0AYf"
      },
      "source": [
        "# Import relevant packages"
      ]
    },
    {
      "cell_type": "code",
      "execution_count": 1,
      "metadata": {
        "id": "9LfpxDA3Jed_"
      },
      "outputs": [],
      "source": [
        "#Pytorch\n",
        "import torch\n",
        "import torch.nn as nn\n",
        "from torch.utils.data import Dataset\n",
        "from torch.utils.data import DataLoader\n",
        "from torchvision import datasets\n",
        "from torchvision.transforms import ToTensor\n",
        "from torchsummary import summary\n",
        "\n",
        "#Sci-kit learn\n",
        "import sklearn.model_selection\n",
        "\n",
        "#Numpy\n",
        "import numpy as np\n",
        "\n",
        "#Matplotlib\n",
        "import matplotlib.pyplot as plt\n",
        "\n",
        "#Dataset\n",
        "from mlxtend.data import mnist_data\n",
        "\n"
      ]
    },
    {
      "cell_type": "code",
      "execution_count": 2,
      "metadata": {},
      "outputs": [
        {
          "data": {
            "text/plain": [
              "<torch._C.Generator at 0x1feff572f50>"
            ]
          },
          "execution_count": 2,
          "metadata": {},
          "output_type": "execute_result"
        }
      ],
      "source": [
        "random_seed = 1\n",
        "torch.backends.cudnn.enabled = False\n",
        "torch.manual_seed(random_seed)"
      ]
    },
    {
      "cell_type": "markdown",
      "metadata": {
        "id": "9-yUxFxpJpkc"
      },
      "source": [
        "# Download training data from open datasets\n",
        "\n",
        "\n"
      ]
    },
    {
      "cell_type": "code",
      "execution_count": 3,
      "metadata": {
        "id": "j-AVYafPJnvj"
      },
      "outputs": [],
      "source": [
        "# Download training data from open datasets.\n",
        "training_data = datasets.MNIST(\n",
        "    root=\"data\",\n",
        "    train=True,\n",
        "    download=True,\n",
        "    transform=ToTensor(),\n",
        ")\n",
        "\n",
        "# Download test data from open datasets.\n",
        "test_data = datasets.MNIST(\n",
        "    root=\"data\",\n",
        "    train=False,\n",
        "    download=True,\n",
        "    transform=ToTensor(),\n",
        ")"
      ]
    },
    {
      "cell_type": "markdown",
      "metadata": {
        "id": "06Ig_Lk-znMG"
      },
      "source": [
        "# Check some of the properties of the data set"
      ]
    },
    {
      "cell_type": "code",
      "execution_count": 4,
      "metadata": {
        "id": "O1gXL8U5PLKa"
      },
      "outputs": [
        {
          "name": "stdout",
          "output_type": "stream",
          "text": [
            "['0 - zero', '1 - one', '2 - two', '3 - three', '4 - four', '5 - five', '6 - six', '7 - seven', '8 - eight', '9 - nine']\n",
            "Number of samples in the training data: 60000\n",
            "Number of samples in the test data: 10000\n"
          ]
        }
      ],
      "source": [
        "classes = training_data.classes\n",
        "print(classes)\n",
        "\n",
        "num_training_samples = len(training_data)\n",
        "print(f\"Number of samples in the training data: {num_training_samples}\")\n",
        "\n",
        "num_test_samples = len(test_data)\n",
        "print(f\"Number of samples in the test data: {num_test_samples}\")\n"
      ]
    },
    {
      "cell_type": "markdown",
      "metadata": {
        "id": "P97qpDJ70qxc"
      },
      "source": [
        "# Setting up the data sets for training and testing"
      ]
    },
    {
      "cell_type": "code",
      "execution_count": 5,
      "metadata": {
        "id": "kZsdlAR4JtWJ"
      },
      "outputs": [
        {
          "name": "stdout",
          "output_type": "stream",
          "text": [
            "Shape of X [N, C, H, W]: torch.Size([64, 1, 28, 28])\n",
            "Shape of y: torch.Size([64]) torch.int64\n"
          ]
        },
        {
          "data": {
            "image/png": "[encoded data removed]",
            "text/plain": [
              "<Figure size 1000x1000 with 6 Axes>"
            ]
          },
          "metadata": {},
          "output_type": "display_data"
        }
      ],
      "source": [
        "batch_size = 64 # we will talk about it later\n",
        "\n",
        "# Create data loaders.\n",
        "train_dataloader = DataLoader(training_data, batch_size=batch_size)\n",
        "test_dataloader = DataLoader(test_data, batch_size=batch_size)\n",
        "\n",
        "for X, y in train_dataloader:\n",
        "    print(f\"Shape of X [N, C, H, W]: {X.shape}\")\n",
        "    print(f\"Shape of y: {y.shape} {y.dtype}\")\n",
        "\n",
        "    fig, axes = plt.subplots(1, 6, figsize=(10, 10))\n",
        "    axes = axes.flatten()\n",
        "\n",
        "    for i in range(6):\n",
        "        img = X[i].squeeze().numpy()\n",
        "        axes[i].imshow(img, cmap=\"gray\")\n",
        "        axes[i].set_title(f\"Label: {y[i]}\")\n",
        "        axes[i].axis('off')\n",
        "\n",
        "    plt.tight_layout()\n",
        "    plt.show()\n",
        "\n",
        "    break"
      ]
    },
    {
      "cell_type": "markdown",
      "metadata": {
        "id": "IV56qMuS08vY"
      },
      "source": [
        "# Defining a simple MLP network architecture\n",
        "\n",
        "| Layer type   | size    | Output channels  | Stride |\n",
        "|--------------|---------|------------------|--------|\n",
        "| fully connected   |      | 784               |       |\n",
        "| ReLU   |      | 784               |       |\n",
        "| fully connected   |      | 512               |       |\n",
        "| ReLU   |      | 512               |       |\n",
        "| fully connected   |      | 10               |       |\n",
        "\n"
      ]
    },
    {
      "cell_type": "code",
      "execution_count": 6,
      "metadata": {
        "id": "XHKzQb1hJw-J"
      },
      "outputs": [
        {
          "name": "stdout",
          "output_type": "stream",
          "text": [
            "Using cuda device\n",
            "NeuralNetwork(\n",
            "  (flatten): Flatten(start_dim=1, end_dim=-1)\n",
            "  (linear_relu_stack): Sequential(\n",
            "    (0): Linear(in_features=784, out_features=512, bias=True)\n",
            "    (1): ReLU(inplace=True)\n",
            "    (2): Linear(in_features=512, out_features=512, bias=True)\n",
            "    (3): ReLU(inplace=True)\n",
            "    (4): Linear(in_features=512, out_features=10, bias=True)\n",
            "  )\n",
            ")\n"
          ]
        }
      ],
      "source": [
        "# Get cpu, gpu or mps device for training.\n",
        "device = (\n",
        "    \"cuda\" if torch.cuda.is_available()\n",
        "     else \"cpu\"\n",
        ")\n",
        "print(f\"Using {device} device\")\n",
        "\n",
        "# Define model\n",
        "class NeuralNetwork(nn.Module):\n",
        "    def __init__(self):\n",
        "        super().__init__()\n",
        "        self.flatten = nn.Flatten()\n",
        "        self.linear_relu_stack = nn.Sequential(\n",
        "            nn.Linear(28*28, 512),\n",
        "            nn.ReLU(inplace=True),\n",
        "            nn.Linear(512, 512),\n",
        "            nn.ReLU(inplace=True),\n",
        "            nn.Linear(512, 10)\n",
        "        )\n",
        "\n",
        "    def forward(self, x):\n",
        "        x = self.flatten(x)\n",
        "        logits = self.linear_relu_stack(x)\n",
        "        return logits\n",
        "\n",
        "model = NeuralNetwork().to(device)\n",
        "print(model)\n"
      ]
    },
    {
      "cell_type": "markdown",
      "metadata": {
        "id": "SDO1LFHr1dga"
      },
      "source": [
        "# We can also see the model parameters and the size at each layer of the model\n",
        "This is done by using the pytorchsummary package https://github.com/sksq96/pytorch-summary"
      ]
    },
    {
      "cell_type": "code",
      "execution_count": 7,
      "metadata": {
        "id": "7Cr7x8411mgH"
      },
      "outputs": [
        {
          "name": "stdout",
          "output_type": "stream",
          "text": [
            "----------------------------------------------------------------\n",
            "        Layer (type)               Output Shape         Param #\n",
            "================================================================\n",
            "           Flatten-1                  [-1, 784]               0\n",
            "            Linear-2                  [-1, 512]         401,920\n",
            "              ReLU-3                  [-1, 512]               0\n",
            "            Linear-4                  [-1, 512]         262,656\n",
            "              ReLU-5                  [-1, 512]               0\n",
            "            Linear-6                   [-1, 10]           5,130\n",
            "================================================================\n",
            "Total params: 669,706\n",
            "Trainable params: 669,706\n",
            "Non-trainable params: 0\n",
            "----------------------------------------------------------------\n",
            "Input size (MB): 0.00\n",
            "Forward/backward pass size (MB): 0.02\n",
            "Params size (MB): 2.55\n",
            "Estimated Total Size (MB): 2.58\n",
            "----------------------------------------------------------------\n"
          ]
        }
      ],
      "source": [
        "summary(model, input_size=(1, 28, 28), device=device)"
      ]
    },
    {
      "cell_type": "markdown",
      "metadata": {
        "id": "_Pz1xrqt2CBx"
      },
      "source": [
        "## Defining a loss-function\n",
        "\n",
        "Let’s use a Classification Cross-Entropy loss SGD.\n",
        "Our labels are one-hot encoded, which means that for each image, we have a target vector with 10 entries (one for each class).\n",
        "This target vector contains only zeros except for the entry of the class to which the image belongs.\n",
        "\n",
        "\\begin{equation}\n",
        "H(y,\\hat y) = -\\sum_j y_j \\cdot log(\\hat y_j)\n",
        "\\end{equation}\n",
        "\n",
        "$j \\in \\{1, 2, \\dots, n_{\\text{classes}}\\}$ and $\\hat{y}_j = \\begin{cases}\n",
        "    1 & \\text{if } j = \\text{true class}, \\\\\n",
        "    0 & \\text{otherwise}\n",
        "\\end{cases}$\n",
        "\n",
        "Explanation: Let’s assume a simple case where we have three classes. The true label vector y for a given sample is [0, 0, 1] (indicating class 3 is the correct label), and the model outputs a probability distribution p = [0.1, 0.3, 0.6].\n",
        "\n",
        "\\begin{equation}\n",
        "\\text{Loss} = -[0 \\times \\log(0.1) + 0 \\times \\log(0.3) + 1 \\times \\log(0.6)] = -\\log(0.6) = 0.51\n",
        "\\end{equation}\n",
        "\n"
      ]
    },
    {
      "cell_type": "code",
      "execution_count": 9,
      "metadata": {
        "id": "xNKUlGGVMSYe"
      },
      "outputs": [],
      "source": [
        "def train(dataloader, model, loss_fn, optimizer):\n",
        "    size = len(dataloader.dataset)\n",
        "    model.train()\n",
        "    total_loss, correct = 0, 0  # Track the total loss for the epoch\n",
        "\n",
        "    for batch, (X, y) in enumerate(dataloader):\n",
        "        X, y = X.to(device), y.to(device)\n",
        "\n",
        "        # Compute prediction error\n",
        "        pred = model(X)\n",
        "        loss = loss_fn(pred, y)\n",
        "        total_loss += loss.item()  # Accumulate loss\n",
        "\n",
        "        # Backpropagation\n",
        "        loss.backward()\n",
        "        optimizer.step()\n",
        "        optimizer.zero_grad()\n",
        "\n",
        "        # Calculate accuracy\n",
        "        correct += (pred.argmax(1) == y).type(torch.float).sum().item()\n",
        "\n",
        "        if batch % 100 == 0:\n",
        "            loss, current = loss.item(), (batch + 1) * len(X)\n",
        "            print(f\"loss: {loss:>7f}  [{current:>5d}/{size:>5d}]\")\n",
        "    avg_loss = total_loss / len(dataloader)  # Calculate average loss for the epoch\n",
        "    avg_accuracy = correct / size\n",
        "\n",
        "    train_losses.append(avg_loss)  # Store the average loss for the epoch\n",
        "    train_accuracies.append(avg_accuracy) # Store the average accuracy for the epoch\n",
        "\n",
        "    print(f\"Train loss: {avg_loss:>7f}, Accuracy: {(100*avg_accuracy):>0.1f}%\")\n"
      ]
    },
    {
      "cell_type": "code",
      "execution_count": 10,
      "metadata": {
        "id": "w2ruGBdKMTic"
      },
      "outputs": [],
      "source": [
        "def test(dataloader, model, loss_fn):\n",
        "    size = len(dataloader.dataset)\n",
        "    num_batches = len(dataloader)\n",
        "    model.eval()\n",
        "    test_loss, correct = 0, 0\n",
        "    with torch.no_grad():\n",
        "        for X, y in dataloader:\n",
        "            X, y = X.to(device), y.to(device)\n",
        "            pred = model(X)\n",
        "            test_loss += loss_fn(pred, y).item()\n",
        "            correct += (pred.argmax(1) == y).type(torch.float).sum().item()\n",
        "    test_loss /= num_batches\n",
        "    correct /= size\n",
        "    test_losses.append(test_loss)  # Store the test loss for the epoch\n",
        "    test_accuracies.append(correct)\n",
        "\n",
        "    print(f\"Test Error: \\n Avg loss: {test_loss:>8f}, Accuracy: {(100*correct):>0.1f}% \\n\")\n"
      ]
    },
    {
      "cell_type": "code",
      "execution_count": 20,
      "metadata": {
        "id": "RuzT0ZERMpU6"
      },
      "outputs": [
        {
          "name": "stdout",
          "output_type": "stream",
          "text": [
            "Epoch 1\n",
            "-------------------------------\n",
            "loss: 2.294176  [   64/60000]\n",
            "loss: 2.290126  [ 6464/60000]\n",
            "loss: 2.310973  [12864/60000]\n",
            "loss: 2.285190  [19264/60000]\n",
            "loss: 2.296711  [25664/60000]\n",
            "loss: 2.290039  [32064/60000]\n",
            "loss: 2.271708  [38464/60000]\n",
            "loss: 2.280930  [44864/60000]\n",
            "loss: 2.263357  [51264/60000]\n",
            "loss: 2.268822  [57664/60000]\n",
            "Train loss: 2.283624, Accuracy: 22.7%\n",
            "Test Error: \n",
            " Avg loss: 2.259125, Accuracy: 32.6% \n",
            "\n",
            "Epoch 2\n",
            "-------------------------------\n",
            "loss: 2.246928  [   64/60000]\n",
            "loss: 2.241829  [ 6464/60000]\n",
            "loss: 2.268723  [12864/60000]\n",
            "loss: 2.224913  [19264/60000]\n",
            "loss: 2.244639  [25664/60000]\n",
            "loss: 2.236887  [32064/60000]\n",
            "loss: 2.207916  [38464/60000]\n",
            "loss: 2.235794  [44864/60000]\n",
            "loss: 2.200858  [51264/60000]\n",
            "loss: 2.202530  [57664/60000]\n",
            "Train loss: 2.229673, Accuracy: 40.7%\n",
            "Test Error: \n",
            " Avg loss: 2.192997, Accuracy: 48.8% \n",
            "\n",
            "Epoch 3\n",
            "-------------------------------\n",
            "loss: 2.181400  [   64/60000]\n",
            "loss: 2.171682  [ 6464/60000]\n",
            "loss: 2.207730  [12864/60000]\n",
            "loss: 2.136661  [19264/60000]\n",
            "loss: 2.165612  [25664/60000]\n",
            "loss: 2.151524  [32064/60000]\n",
            "loss: 2.107411  [38464/60000]\n",
            "loss: 2.161012  [44864/60000]\n",
            "loss: 2.098527  [51264/60000]\n",
            "loss: 2.094448  [57664/60000]\n",
            "Train loss: 2.146005, Accuracy: 55.5%\n",
            "Test Error: \n",
            " Avg loss: 2.081931, Accuracy: 62.0% \n",
            "\n",
            "Epoch 4\n",
            "-------------------------------\n",
            "loss: 2.069589  [   64/60000]\n",
            "loss: 2.048939  [ 6464/60000]\n",
            "loss: 2.102015  [12864/60000]\n",
            "loss: 1.988936  [19264/60000]\n",
            "loss: 2.027263  [25664/60000]\n",
            "loss: 2.001816  [32064/60000]\n",
            "loss: 1.937172  [38464/60000]\n",
            "loss: 2.025377  [44864/60000]\n",
            "loss: 1.922803  [51264/60000]\n",
            "loss: 1.908380  [57664/60000]\n",
            "Train loss: 2.000970, Accuracy: 65.3%\n",
            "Test Error: \n",
            " Avg loss: 1.889466, Accuracy: 68.9% \n",
            "\n",
            "Epoch 5\n",
            "-------------------------------\n",
            "loss: 1.878180  [   64/60000]\n",
            "loss: 1.836516  [ 6464/60000]\n",
            "loss: 1.914040  [12864/60000]\n",
            "loss: 1.748315  [19264/60000]\n",
            "loss: 1.790058  [25664/60000]\n",
            "loss: 1.751949  [32064/60000]\n",
            "loss: 1.668051  [38464/60000]\n",
            "loss: 1.796979  [44864/60000]\n",
            "loss: 1.652394  [51264/60000]\n",
            "loss: 1.623724  [57664/60000]\n",
            "Train loss: 1.762127, Accuracy: 70.3%\n",
            "Test Error: \n",
            " Avg loss: 1.596698, Accuracy: 72.6% \n",
            "\n",
            "Done!\n"
          ]
        }
      ],
      "source": [
        "train_losses = []\n",
        "test_losses = []\n",
        "train_accuracies = []\n",
        "test_accuracies = []\n",
        "\n",
        "epochs = 5\n",
        "\n",
        "model = NeuralNetwork().to(device)\n",
        "\n",
        "loss_fn = nn.CrossEntropyLoss()\n",
        "\n",
        "optimizer = torch.optim.SGD(model.parameters(), lr=1e-3) # Let's use stocastic gradient descent (We will talk about it in the coming weeks)\n",
        "\n",
        "\n",
        "for t in range(epochs):\n",
        "    print(f\"Epoch {t+1}\\n-------------------------------\")\n",
        "    train(train_dataloader, model, loss_fn, optimizer)\n",
        "    test(test_dataloader, model, loss_fn)\n",
        "print(\"Done!\")\n"
      ]
    },
    {
      "cell_type": "markdown",
      "metadata": {
        "id": "sjggPjPH9pZP"
      },
      "source": [
        "# Check the performance of the network through train and test loss and accuracy curves"
      ]
    },
    {
      "cell_type": "code",
      "execution_count": 21,
      "metadata": {
        "id": "A-sQ_Y8W9ou_"
      },
      "outputs": [
        {
          "data": {
            "image/png": "[encoded data removed]",
            "text/plain": [
              "<Figure size 640x480 with 1 Axes>"
            ]
          },
          "metadata": {},
          "output_type": "display_data"
        },
        {
          "data": {
            "image/png": "[encoded data removed]",
            "text/plain": [
              "<Figure size 640x480 with 1 Axes>"
            ]
          },
          "metadata": {},
          "output_type": "display_data"
        }
      ],
      "source": [
        "plt.subplot(2,1,1)\n",
        "plt.plot(range(1, epochs+1), train_losses, label=\"Train Loss\")\n",
        "plt.plot(range(1, epochs+1), test_losses, label=\"Test Loss\")\n",
        "plt.xlabel(\"Epochs\")\n",
        "plt.ylabel(\"Loss\")\n",
        "plt.title(\"Training and Testing Loss over Epochs\")\n",
        "plt.legend()\n",
        "plt.show()\n",
        "\n",
        "plt.subplot(2,1,2)\n",
        "plt.plot(range(1, epochs+1), train_accuracies, label=\"Train Accuracy\")\n",
        "plt.plot(range(1, epochs+1), test_accuracies, label=\"Test Accuracy\")\n",
        "plt.xlabel(\"Epochs\")\n",
        "plt.ylabel(\"Accuracy\")\n",
        "plt.title(\"Training and Testing Accuracy over Epochs\")\n",
        "plt.legend()\n",
        "plt.show()\n"
      ]
    },
    {
      "cell_type": "markdown",
      "metadata": {
        "id": "O0hwwom2AmhO"
      },
      "source": [
        "# Check result for one image"
      ]
    },
    {
      "cell_type": "code",
      "execution_count": 23,
      "metadata": {
        "id": "TeoXfW24MrrH"
      },
      "outputs": [
        {
          "name": "stdout",
          "output_type": "stream",
          "text": [
            "Predicted: \"7 - seven\", Actual: \"7 - seven\"\n"
          ]
        },
        {
          "data": {
            "image/png": "[encoded data removed]",
            "text/plain": [
              "<Figure size 640x480 with 1 Axes>"
            ]
          },
          "metadata": {},
          "output_type": "display_data"
        }
      ],
      "source": [
        "model.eval()\n",
        "idx = 0\n",
        "x, y = test_data[idx][0], test_data[idx][1]\n",
        "plt.imshow(x.permute(1,2,0), cmap = 'gray')\n",
        "with torch.no_grad():\n",
        "    x = x.to(device)\n",
        "    pred = model(x)\n",
        "    predicted, actual = classes[pred[0].argmax(0)], classes[y]\n",
        "    print(f'Predicted: \"{predicted}\", Actual: \"{actual}\"')\n"
      ]
    }
  ],
  "metadata": {
    "accelerator": "GPU",
    "colab": {
      "gpuType": "T4",
      "provenance": []
    },
    "kernelspec": {
      "display_name": "Python 3",
      "name": "python3"
    },
    "language_info": {
      "codemirror_mode": {
        "name": "ipython",
        "version": 3
      },
      "file_extension": ".py",
      "mimetype": "text/x-python",
      "name": "python",
      "nbconvert_exporter": "python",
      "pygments_lexer": "ipython3",
      "version": "3.10.11"
    }
  },
  "nbformat": 4,
  "nbformat_minor": 0
}
