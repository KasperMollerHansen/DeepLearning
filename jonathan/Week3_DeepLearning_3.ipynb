{
  "nbformat": 4,
  "nbformat_minor": 0,
  "metadata": {
    "colab": {
      "provenance": [],
      "gpuType": "V28"
    },
    "kernelspec": {
      "name": "python3",
      "display_name": "Python 3"
    },
    "language_info": {
      "name": "python"
    },
    "accelerator": "TPU"
  },
  "cells": [
    {
      "cell_type": "markdown",
      "source": [
        "# Exercise: Below is the same code as we discussed for the MLP. Please modify and extend it as below:\n",
        "\n",
        "## 1. Instead of an MLP, initialize a CNN as below and train the model:\n",
        "\n",
        "| Layer type   | size    | Output channels  | Stride |\n",
        "|--------------|---------|------------------|--------|\n",
        "| conv         | 5x5     | 6                | 1      |\n",
        "| relu         |     |                  |       |\n",
        "| pool         | 2x2     |                  | 2      |\n",
        "| conv         | 5x5     | 16               | 1      |\n",
        "| relu         |     |                  |       |\n",
        "| pool         | 2x2     |                  | 2      |\n",
        "| fully connected   |      | 256               |       |\n",
        "| relu         |     |                  |       |\n",
        "| fully connected   |      | 120               |       |\n",
        "| relu         |     |                  |       |\n",
        "| fully connected   |      | 84               |       |\n",
        "| relu         |     |                  |       |\n",
        "| fully connected   |      | 10               |       |\n",
        "\n",
        "## 2. We already show one example from the test set and it's prediction. Can you get the prediction results for all images in the test set and show some examples where the predictions are wrong?"
      ],
      "metadata": {
        "id": "aY4hTYhxJlfs"
      }
    },
    {
      "cell_type": "markdown",
      "source": [
        "### Import relevant packages"
      ],
      "metadata": {
        "id": "YnamwHmyJhDA"
      }
    },
    {
      "cell_type": "code",
      "execution_count": null,
      "metadata": {
        "id": "9LfpxDA3Jed_"
      },
      "outputs": [],
      "source": [
        "import torch\n",
        "from torch import nn\n",
        "from torch.utils.data import DataLoader\n",
        "from torchvision import datasets\n",
        "from torchvision.transforms import ToTensor\n",
        "import matplotlib.pyplot as plt\n",
        "from torchsummary import summary\n"
      ]
    },
    {
      "cell_type": "markdown",
      "source": [
        "### Download training data from open datasets\n",
        "\n",
        "\n"
      ],
      "metadata": {
        "id": "9-yUxFxpJpkc"
      }
    },
    {
      "cell_type": "code",
      "source": [
        "# Download training data from open datasets.\n",
        "training_data = datasets.MNIST(\n",
        "    root=\"data\",\n",
        "    train=True,\n",
        "    download=True,\n",
        "    transform=ToTensor(),\n",
        ")\n",
        "\n",
        "# Download test data from open datasets.\n",
        "test_data = datasets.MNIST(\n",
        "    root=\"data\",\n",
        "    train=False,\n",
        "    download=True,\n",
        "    transform=ToTensor(),\n",
        ")"
      ],
      "metadata": {
        "colab": {
          "base_uri": "https://localhost:8080/"
        },
        "id": "j-AVYafPJnvj",
        "outputId": "cb969d81-452a-49cf-e23e-1627a1e98510"
      },
      "execution_count": null,
      "outputs": [
        {
          "output_type": "stream",
          "name": "stdout",
          "text": [
            "Downloading http://yann.lecun.com/exdb/mnist/train-images-idx3-ubyte.gz\n",
            "Failed to download (trying next):\n",
            "HTTP Error 403: Forbidden\n",
            "\n",
            "Downloading https://ossci-datasets.s3.amazonaws.com/mnist/train-images-idx3-ubyte.gz\n",
            "Downloading https://ossci-datasets.s3.amazonaws.com/mnist/train-images-idx3-ubyte.gz to data/MNIST/raw/train-images-idx3-ubyte.gz\n"
          ]
        },
        {
          "output_type": "stream",
          "name": "stderr",
          "text": [
            "100%|██████████| 9912422/9912422 [00:00<00:00, 19874521.97it/s]\n"
          ]
        },
        {
          "output_type": "stream",
          "name": "stdout",
          "text": [
            "Extracting data/MNIST/raw/train-images-idx3-ubyte.gz to data/MNIST/raw\n",
            "\n",
            "Downloading http://yann.lecun.com/exdb/mnist/train-labels-idx1-ubyte.gz\n",
            "Failed to download (trying next):\n",
            "HTTP Error 403: Forbidden\n",
            "\n",
            "Downloading https://ossci-datasets.s3.amazonaws.com/mnist/train-labels-idx1-ubyte.gz\n",
            "Downloading https://ossci-datasets.s3.amazonaws.com/mnist/train-labels-idx1-ubyte.gz to data/MNIST/raw/train-labels-idx1-ubyte.gz\n"
          ]
        },
        {
          "output_type": "stream",
          "name": "stderr",
          "text": [
            "100%|██████████| 28881/28881 [00:00<00:00, 739633.49it/s]\n"
          ]
        },
        {
          "output_type": "stream",
          "name": "stdout",
          "text": [
            "Extracting data/MNIST/raw/train-labels-idx1-ubyte.gz to data/MNIST/raw\n",
            "\n",
            "Downloading http://yann.lecun.com/exdb/mnist/t10k-images-idx3-ubyte.gz\n",
            "Failed to download (trying next):\n",
            "HTTP Error 403: Forbidden\n",
            "\n",
            "Downloading https://ossci-datasets.s3.amazonaws.com/mnist/t10k-images-idx3-ubyte.gz\n",
            "Downloading https://ossci-datasets.s3.amazonaws.com/mnist/t10k-images-idx3-ubyte.gz to data/MNIST/raw/t10k-images-idx3-ubyte.gz\n"
          ]
        },
        {
          "output_type": "stream",
          "name": "stderr",
          "text": [
            "100%|██████████| 1648877/1648877 [00:00<00:00, 5394602.66it/s]\n"
          ]
        },
        {
          "output_type": "stream",
          "name": "stdout",
          "text": [
            "Extracting data/MNIST/raw/t10k-images-idx3-ubyte.gz to data/MNIST/raw\n",
            "\n",
            "Downloading http://yann.lecun.com/exdb/mnist/t10k-labels-idx1-ubyte.gz\n",
            "Failed to download (trying next):\n",
            "HTTP Error 403: Forbidden\n",
            "\n",
            "Downloading https://ossci-datasets.s3.amazonaws.com/mnist/t10k-labels-idx1-ubyte.gz\n",
            "Downloading https://ossci-datasets.s3.amazonaws.com/mnist/t10k-labels-idx1-ubyte.gz to data/MNIST/raw/t10k-labels-idx1-ubyte.gz\n"
          ]
        },
        {
          "output_type": "stream",
          "name": "stderr",
          "text": [
            "100%|██████████| 4542/4542 [00:00<00:00, 3605323.39it/s]"
          ]
        },
        {
          "output_type": "stream",
          "name": "stdout",
          "text": [
            "Extracting data/MNIST/raw/t10k-labels-idx1-ubyte.gz to data/MNIST/raw\n",
            "\n"
          ]
        },
        {
          "output_type": "stream",
          "name": "stderr",
          "text": [
            "\n"
          ]
        }
      ]
    },
    {
      "cell_type": "markdown",
      "source": [
        "### Check some of the properties of the data set"
      ],
      "metadata": {
        "id": "06Ig_Lk-znMG"
      }
    },
    {
      "cell_type": "code",
      "source": [
        "classes = training_data.classes\n",
        "print(classes)\n",
        "\n",
        "num_training_samples = len(training_data)\n",
        "print(f\"Number of samples in the training data: {num_training_samples}\")\n",
        "\n",
        "num_test_samples = len(test_data)\n",
        "print(f\"Number of samples in the test data: {num_test_samples}\")\n"
      ],
      "metadata": {
        "colab": {
          "base_uri": "https://localhost:8080/"
        },
        "id": "O1gXL8U5PLKa",
        "outputId": "86b97f0c-ccfb-4167-e441-e6509ee09254"
      },
      "execution_count": null,
      "outputs": [
        {
          "output_type": "stream",
          "name": "stdout",
          "text": [
            "['0 - zero', '1 - one', '2 - two', '3 - three', '4 - four', '5 - five', '6 - six', '7 - seven', '8 - eight', '9 - nine']\n",
            "Number of samples in the training data: 60000\n",
            "Number of samples in the test data: 10000\n"
          ]
        }
      ]
    },
    {
      "cell_type": "markdown",
      "source": [
        "### Setting up the data sets for training and testing"
      ],
      "metadata": {
        "id": "P97qpDJ70qxc"
      }
    },
    {
      "cell_type": "code",
      "source": [
        "batch_size = 64 # we will talk about it later\n",
        "\n",
        "# Create data loaders.\n",
        "train_dataloader = DataLoader(training_data, batch_size=batch_size)\n",
        "test_dataloader = DataLoader(test_data, batch_size=batch_size)\n",
        "\n",
        "for X, y in train_dataloader:\n",
        "    print(f\"Shape of X [N, C, H, W]: {X.shape}\")\n",
        "    print(f\"Shape of y: {y.shape} {y.dtype}\")\n",
        "\n",
        "    fig, axes = plt.subplots(1, 6, figsize=(10, 10))\n",
        "    axes = axes.flatten()\n",
        "\n",
        "    for i in range(6):\n",
        "        img = X[i].squeeze().numpy()\n",
        "        axes[i].imshow(img, cmap=\"gray\")\n",
        "        axes[i].set_title(f\"Label: {y[i]}\")\n",
        "        axes[i].axis('off')\n",
        "\n",
        "    plt.tight_layout()\n",
        "    plt.show()\n",
        "\n",
        "    break"
      ],
      "metadata": {
        "colab": {
          "base_uri": "https://localhost:8080/",
          "height": 243
        },
        "id": "kZsdlAR4JtWJ",
        "outputId": "54604735-d70d-4be4-9745-606fb76d0010"
      },
      "execution_count": null,
      "outputs": [
        {
          "output_type": "stream",
          "name": "stdout",
          "text": [
            "Shape of X [N, C, H, W]: torch.Size([64, 1, 28, 28])\n",
            "Shape of y: torch.Size([64]) torch.int64\n"
          ]
        },
        {
          "output_type": "display_data",
          "data": {
            "text/plain": [
              "<Figure size 1000x1000 with 6 Axes>"
            ],
            "image/png": "[encoded data removed]"
          },
          "metadata": {}
        }
      ]
    },
    {
      "cell_type": "markdown",
      "source": [
        "### Defining a simple convolutional network architecture\n",
        "\n",
        "| Layer type   | size    | Output channels  | Stride |\n",
        "|--------------|---------|------------------|--------|\n",
        "| conv         | 5x5     | 6                | 1      |\n",
        "| relu         |     |                  |       |\n",
        "| pool         | 2x2     |                  | 2      |\n",
        "| conv         | 5x5     | 16               | 1      |\n",
        "| relu         |     |                  |       |\n",
        "| pool         | 2x2     |                  | 2      |\n",
        "| fully connected   |      | 256               |       |\n",
        "| relu         |     |                  |       |\n",
        "| fully connected   |      | 120               |       |\n",
        "| relu         |     |                  |       |\n",
        "| fully connected   |      | 84               |       |\n",
        "| relu         |     |                  |       |\n",
        "| fully connected   |      | 10               |       |\n",
        "\n",
        "\n"
      ],
      "metadata": {
        "id": "IV56qMuS08vY"
      }
    },
    {
      "cell_type": "code",
      "source": [
        "# Get cpu, gpu or mps device for training.\n",
        "device = (\n",
        "    \"cuda\" if torch.cuda.is_available()\n",
        "     else \"cpu\"\n",
        ")\n",
        "print(f\"Using {device} device\")\n",
        "\n",
        "# Define model\n",
        "class NeuralNetwork(nn.Module):\n",
        "    def __init__(self):\n",
        "        super().__init__()\n",
        "        self.flatten = nn.Flatten()\n",
        "        self.linear_relu_stack = nn.Sequential(\n",
        "            nn.Linear(28*28, 512),\n",
        "            nn.ReLU(inplace=True),\n",
        "            nn.Linear(512, 512),\n",
        "            nn.ReLU(inplace=True),\n",
        "            nn.Linear(512, 10)\n",
        "        )\n",
        "\n",
        "    def forward(self, x):\n",
        "        x = self.flatten(x)\n",
        "        logits = self.linear_relu_stack(x)\n",
        "        return logits\n",
        "\n",
        "model = NeuralNetwork().to(device)\n",
        "print(model)\n"
      ],
      "metadata": {
        "id": "XHKzQb1hJw-J"
      },
      "execution_count": null,
      "outputs": []
    },
    {
      "cell_type": "markdown",
      "source": [
        "### We can also see the model parameters and the size at each layer of the model\n",
        "This is done by using the pytorchsummary package https://github.com/sksq96/pytorch-summary"
      ],
      "metadata": {
        "id": "SDO1LFHr1dga"
      }
    },
    {
      "cell_type": "code",
      "source": [
        "summary(model, input_size=(1, 28, 28), device=device)"
      ],
      "metadata": {
        "colab": {
          "base_uri": "https://localhost:8080/"
        },
        "id": "7Cr7x8411mgH",
        "outputId": "856e5173-f6cf-4dd7-f5e2-923d617e3f51"
      },
      "execution_count": null,
      "outputs": [
        {
          "output_type": "stream",
          "name": "stdout",
          "text": [
            "----------------------------------------------------------------\n",
            "        Layer (type)               Output Shape         Param #\n",
            "================================================================\n",
            "            Conv2d-1            [-1, 6, 24, 24]             156\n",
            "              ReLU-2            [-1, 6, 24, 24]               0\n",
            "         MaxPool2d-3            [-1, 6, 12, 12]               0\n",
            "            Conv2d-4             [-1, 16, 8, 8]           2,416\n",
            "              ReLU-5             [-1, 16, 8, 8]               0\n",
            "         MaxPool2d-6             [-1, 16, 4, 4]               0\n",
            "           Flatten-7                  [-1, 256]               0\n",
            "            Linear-8                  [-1, 120]          30,840\n",
            "              ReLU-9                  [-1, 120]               0\n",
            "           Linear-10                   [-1, 84]          10,164\n",
            "             ReLU-11                   [-1, 84]               0\n",
            "           Linear-12                   [-1, 10]             850\n",
            "================================================================\n",
            "Total params: 44,426\n",
            "Trainable params: 44,426\n",
            "Non-trainable params: 0\n",
            "----------------------------------------------------------------\n",
            "Input size (MB): 0.00\n",
            "Forward/backward pass size (MB): 0.08\n",
            "Params size (MB): 0.17\n",
            "Estimated Total Size (MB): 0.25\n",
            "----------------------------------------------------------------\n"
          ]
        }
      ]
    },
    {
      "cell_type": "markdown",
      "source": [
        "### Defining a loss-function\n",
        "\n",
        "Let’s use a Classification Cross-Entropy loss SGD.\n",
        "Our labels are one-hot encoded, which means that for each image, we have a target vector with 10 entries (one for each class).\n",
        "This target vector contains only zeros except for the entry of the class to which the image belongs.\n",
        "\n",
        "\\begin{equation}\n",
        "H(y,\\hat y) = -\\sum_j y_j \\cdot log(\\hat y_j)\n",
        "\\end{equation}\n",
        "\n",
        "$j \\in \\{1, 2, \\dots, n_{\\text{classes}}\\}$ and $\\hat{y}_j = \\begin{cases}\n",
        "    1 & \\text{if } j = \\text{true class}, \\\\\n",
        "    0 & \\text{otherwise}\n",
        "\\end{cases}$\n",
        "\n",
        "Explanation: Let’s assume a simple case where we have three classes. The true label vector y for a given sample is [0, 0, 1] (indicating class 3 is the correct label), and the model outputs a probability distribution p = [0.1, 0.3, 0.6].\n",
        "\n",
        "\\begin{equation}\n",
        "\\text{Loss} = -[0 \\times \\log(0.1) + 0 \\times \\log(0.3) + 1 \\times \\log(0.6)] = -\\log(0.6) = 0.51\n",
        "\\end{equation}\n",
        "\n"
      ],
      "metadata": {
        "id": "_Pz1xrqt2CBx"
      }
    },
    {
      "cell_type": "code",
      "source": [
        "loss_fn = nn.CrossEntropyLoss()\n",
        "optimizer = torch.optim.SGD(model.parameters(), lr=1e-3) # Let's use stocastic gradient descent (We will talk about it in the coming weeks)"
      ],
      "metadata": {
        "id": "EsUl35RULuU5"
      },
      "execution_count": null,
      "outputs": []
    },
    {
      "cell_type": "code",
      "source": [
        "train_losses = []\n",
        "test_losses = []\n",
        "train_accuracies = []\n",
        "test_accuracies = []\n",
        "\n",
        "\n",
        "def train(dataloader, model, loss_fn, optimizer):\n",
        "    size = len(dataloader.dataset)\n",
        "    model.train()\n",
        "    total_loss, correct = 0, 0  # Track the total loss for the epoch\n",
        "\n",
        "    for batch, (X, y) in enumerate(dataloader):\n",
        "        X, y = X.to(device), y.to(device)\n",
        "\n",
        "        # Compute prediction error\n",
        "        pred = model(X)\n",
        "        loss = loss_fn(pred, y)\n",
        "        total_loss += loss.item()  # Accumulate loss\n",
        "\n",
        "        # Backpropagation\n",
        "        loss.backward()\n",
        "        optimizer.step()\n",
        "        optimizer.zero_grad()\n",
        "\n",
        "        # Calculate accuracy\n",
        "        correct += (pred.argmax(1) == y).type(torch.float).sum().item()\n",
        "\n",
        "        if batch % 100 == 0:\n",
        "            loss, current = loss.item(), (batch + 1) * len(X)\n",
        "            print(f\"loss: {loss:>7f}  [{current:>5d}/{size:>5d}]\")\n",
        "    avg_loss = total_loss / len(dataloader)  # Calculate average loss for the epoch\n",
        "    avg_accuracy = correct / size\n",
        "\n",
        "    train_losses.append(avg_loss)  # Store the average loss for the epoch\n",
        "    train_accuracies.append(avg_accuracy) # Store the average accuracy for the epoch\n",
        "\n",
        "    print(f\"Train loss: {avg_loss:>7f}, Accuracy: {(100*avg_accuracy):>0.1f}%\")\n"
      ],
      "metadata": {
        "id": "xNKUlGGVMSYe"
      },
      "execution_count": null,
      "outputs": []
    },
    {
      "cell_type": "code",
      "source": [
        "def test(dataloader, model, loss_fn):\n",
        "    size = len(dataloader.dataset)\n",
        "    num_batches = len(dataloader)\n",
        "    model.eval()\n",
        "    test_loss, correct = 0, 0\n",
        "    with torch.no_grad():\n",
        "        for X, y in dataloader:\n",
        "            X, y = X.to(device), y.to(device)\n",
        "            pred = model(X)\n",
        "            test_loss += loss_fn(pred, y).item()\n",
        "            correct += (pred.argmax(1) == y).type(torch.float).sum().item()\n",
        "    test_loss /= num_batches\n",
        "    correct /= size\n",
        "    test_losses.append(test_loss)  # Store the test loss for the epoch\n",
        "    test_accuracies.append(correct)\n",
        "\n",
        "    print(f\"Test Error: \\n Avg loss: {test_loss:>8f}, Accuracy: {(100*correct):>0.1f}% \\n\")\n"
      ],
      "metadata": {
        "id": "w2ruGBdKMTic"
      },
      "execution_count": null,
      "outputs": []
    },
    {
      "cell_type": "code",
      "source": [
        "epochs = 15\n",
        "for t in range(epochs):\n",
        "    print(f\"Epoch {t+1}\\n-------------------------------\")\n",
        "    train(train_dataloader, model, loss_fn, optimizer)\n",
        "    test(test_dataloader, model, loss_fn)\n",
        "print(\"Done!\")\n"
      ],
      "metadata": {
        "colab": {
          "base_uri": "https://localhost:8080/"
        },
        "id": "RuzT0ZERMpU6",
        "outputId": "16a2dccf-f4d3-4f0f-a10e-71bbe1a1646d"
      },
      "execution_count": null,
      "outputs": [
        {
          "output_type": "stream",
          "name": "stdout",
          "text": [
            "Epoch 1\n",
            "-------------------------------\n",
            "loss: 2.299345  [   64/60000]\n",
            "loss: 2.303856  [ 6464/60000]\n",
            "loss: 2.318161  [12864/60000]\n",
            "loss: 2.304851  [19264/60000]\n",
            "loss: 2.303039  [25664/60000]\n",
            "loss: 2.303056  [32064/60000]\n",
            "loss: 2.298703  [38464/60000]\n",
            "loss: 2.307687  [44864/60000]\n",
            "loss: 2.307157  [51264/60000]\n",
            "loss: 2.298553  [57664/60000]\n",
            "Train loss: 2.303437, Accuracy: 9.9%\n",
            "Test Error: \n",
            " Avg loss: 2.301960, Accuracy: 9.8% \n",
            "\n",
            "Epoch 2\n",
            "-------------------------------\n",
            "loss: 2.297232  [   64/60000]\n",
            "loss: 2.301298  [ 6464/60000]\n",
            "loss: 2.314065  [12864/60000]\n",
            "loss: 2.302202  [19264/60000]\n",
            "loss: 2.301604  [25664/60000]\n",
            "loss: 2.301442  [32064/60000]\n",
            "loss: 2.296129  [38464/60000]\n",
            "loss: 2.306059  [44864/60000]\n",
            "loss: 2.304977  [51264/60000]\n",
            "loss: 2.295611  [57664/60000]\n",
            "Train loss: 2.301141, Accuracy: 9.9%\n",
            "Test Error: \n",
            " Avg loss: 2.299692, Accuracy: 9.8% \n",
            "\n",
            "Epoch 3\n",
            "-------------------------------\n",
            "loss: 2.295306  [   64/60000]\n",
            "loss: 2.298968  [ 6464/60000]\n",
            "loss: 2.310176  [12864/60000]\n",
            "loss: 2.299534  [19264/60000]\n",
            "loss: 2.300128  [25664/60000]\n",
            "loss: 2.299848  [32064/60000]\n",
            "loss: 2.293608  [38464/60000]\n",
            "loss: 2.304275  [44864/60000]\n",
            "loss: 2.302721  [51264/60000]\n",
            "loss: 2.292470  [57664/60000]\n",
            "Train loss: 2.298871, Accuracy: 14.5%\n",
            "Test Error: \n",
            " Avg loss: 2.297379, Accuracy: 20.2% \n",
            "\n",
            "Epoch 4\n",
            "-------------------------------\n",
            "loss: 2.293452  [   64/60000]\n",
            "loss: 2.296596  [ 6464/60000]\n",
            "loss: 2.306356  [12864/60000]\n",
            "loss: 2.296677  [19264/60000]\n",
            "loss: 2.298471  [25664/60000]\n",
            "loss: 2.298226  [32064/60000]\n",
            "loss: 2.291044  [38464/60000]\n",
            "loss: 2.302328  [44864/60000]\n",
            "loss: 2.300347  [51264/60000]\n",
            "loss: 2.289126  [57664/60000]\n",
            "Train loss: 2.296496, Accuracy: 20.7%\n",
            "Test Error: \n",
            " Avg loss: 2.294844, Accuracy: 20.8% \n",
            "\n",
            "Epoch 5\n",
            "-------------------------------\n",
            "loss: 2.291291  [   64/60000]\n",
            "loss: 2.293957  [ 6464/60000]\n",
            "loss: 2.302454  [12864/60000]\n",
            "loss: 2.293272  [19264/60000]\n",
            "loss: 2.296364  [25664/60000]\n",
            "loss: 2.296296  [32064/60000]\n",
            "loss: 2.288104  [38464/60000]\n",
            "loss: 2.299845  [44864/60000]\n",
            "loss: 2.297512  [51264/60000]\n",
            "loss: 2.285106  [57664/60000]\n",
            "Train loss: 2.293715, Accuracy: 20.3%\n",
            "Test Error: \n",
            " Avg loss: 2.291690, Accuracy: 20.6% \n",
            "\n",
            "Epoch 6\n",
            "-------------------------------\n",
            "loss: 2.288580  [   64/60000]\n",
            "loss: 2.290797  [ 6464/60000]\n",
            "loss: 2.297917  [12864/60000]\n",
            "loss: 2.288869  [19264/60000]\n",
            "loss: 2.293367  [25664/60000]\n",
            "loss: 2.293690  [32064/60000]\n",
            "loss: 2.284405  [38464/60000]\n",
            "loss: 2.296384  [44864/60000]\n",
            "loss: 2.293710  [51264/60000]\n",
            "loss: 2.279839  [57664/60000]\n",
            "Train loss: 2.290116, Accuracy: 21.6%\n",
            "Test Error: \n",
            " Avg loss: 2.287470, Accuracy: 25.3% \n",
            "\n",
            "Epoch 7\n",
            "-------------------------------\n",
            "loss: 2.284886  [   64/60000]\n",
            "loss: 2.286587  [ 6464/60000]\n",
            "loss: 2.292241  [12864/60000]\n",
            "loss: 2.283002  [19264/60000]\n",
            "loss: 2.288770  [25664/60000]\n",
            "loss: 2.289689  [32064/60000]\n",
            "loss: 2.279465  [38464/60000]\n",
            "loss: 2.291474  [44864/60000]\n",
            "loss: 2.288151  [51264/60000]\n",
            "loss: 2.272610  [57664/60000]\n",
            "Train loss: 2.285142, Accuracy: 27.8%\n",
            "Test Error: \n",
            " Avg loss: 2.281419, Accuracy: 29.5% \n",
            "\n",
            "Epoch 8\n",
            "-------------------------------\n",
            "loss: 2.279443  [   64/60000]\n",
            "loss: 2.280299  [ 6464/60000]\n",
            "loss: 2.284515  [12864/60000]\n",
            "loss: 2.274579  [19264/60000]\n",
            "loss: 2.281505  [25664/60000]\n",
            "loss: 2.283413  [32064/60000]\n",
            "loss: 2.271913  [38464/60000]\n",
            "loss: 2.284199  [44864/60000]\n",
            "loss: 2.279588  [51264/60000]\n",
            "loss: 2.261828  [57664/60000]\n",
            "Train loss: 2.277740, Accuracy: 30.5%\n",
            "Test Error: \n",
            " Avg loss: 2.272034, Accuracy: 33.2% \n",
            "\n",
            "Epoch 9\n",
            "-------------------------------\n",
            "loss: 2.270738  [   64/60000]\n",
            "loss: 2.270473  [ 6464/60000]\n",
            "loss: 2.272844  [12864/60000]\n",
            "loss: 2.261299  [19264/60000]\n",
            "loss: 2.269188  [25664/60000]\n",
            "loss: 2.272884  [32064/60000]\n",
            "loss: 2.259213  [38464/60000]\n",
            "loss: 2.271849  [44864/60000]\n",
            "loss: 2.265010  [51264/60000]\n",
            "loss: 2.243528  [57664/60000]\n",
            "Train loss: 2.265564, Accuracy: 37.4%\n",
            "Test Error: \n",
            " Avg loss: 2.255574, Accuracy: 43.6% \n",
            "\n",
            "Epoch 10\n",
            "-------------------------------\n",
            "loss: 2.255167  [   64/60000]\n",
            "loss: 2.252908  [ 6464/60000]\n",
            "loss: 2.252454  [12864/60000]\n",
            "loss: 2.236921  [19264/60000]\n",
            "loss: 2.245146  [25664/60000]\n",
            "loss: 2.252232  [32064/60000]\n",
            "loss: 2.234024  [38464/60000]\n",
            "loss: 2.247019  [44864/60000]\n",
            "loss: 2.235276  [51264/60000]\n",
            "loss: 2.206383  [57664/60000]\n",
            "Train loss: 2.241886, Accuracy: 47.2%\n",
            "Test Error: \n",
            " Avg loss: 2.220089, Accuracy: 52.7% \n",
            "\n",
            "Epoch 11\n",
            "-------------------------------\n",
            "loss: 2.220731  [   64/60000]\n",
            "loss: 2.213381  [ 6464/60000]\n",
            "loss: 2.209079  [12864/60000]\n",
            "loss: 2.180755  [19264/60000]\n",
            "loss: 2.186026  [25664/60000]\n",
            "loss: 2.199208  [32064/60000]\n",
            "loss: 2.170667  [38464/60000]\n",
            "loss: 2.179443  [44864/60000]\n",
            "loss: 2.155588  [51264/60000]\n",
            "loss: 2.105037  [57664/60000]\n",
            "Train loss: 2.182433, Accuracy: 53.4%\n",
            "Test Error: \n",
            " Avg loss: 2.119494, Accuracy: 56.0% \n",
            "\n",
            "Epoch 12\n",
            "-------------------------------\n",
            "loss: 2.124781  [   64/60000]\n",
            "loss: 2.097733  [ 6464/60000]\n",
            "loss: 2.076083  [12864/60000]\n",
            "loss: 2.007563  [19264/60000]\n",
            "loss: 1.998610  [25664/60000]\n",
            "loss: 2.003039  [32064/60000]\n",
            "loss: 1.934028  [38464/60000]\n",
            "loss: 1.924871  [44864/60000]\n",
            "loss: 1.847062  [51264/60000]\n",
            "loss: 1.712239  [57664/60000]\n",
            "Train loss: 1.971340, Accuracy: 58.6%\n",
            "Test Error: \n",
            " Avg loss: 1.714547, Accuracy: 64.7% \n",
            "\n",
            "Epoch 13\n",
            "-------------------------------\n",
            "loss: 1.743081  [   64/60000]\n",
            "loss: 1.601018  [ 6464/60000]\n",
            "loss: 1.529298  [12864/60000]\n",
            "loss: 1.385287  [19264/60000]\n",
            "loss: 1.351058  [25664/60000]\n",
            "loss: 1.305836  [32064/60000]\n",
            "loss: 1.226343  [38464/60000]\n",
            "loss: 1.205935  [44864/60000]\n",
            "loss: 1.197153  [51264/60000]\n",
            "loss: 1.018640  [57664/60000]\n",
            "Train loss: 1.337040, Accuracy: 69.0%\n",
            "Test Error: \n",
            " Avg loss: 0.970354, Accuracy: 74.5% \n",
            "\n",
            "Epoch 14\n",
            "-------------------------------\n",
            "loss: 1.061526  [   64/60000]\n",
            "loss: 0.834015  [ 6464/60000]\n",
            "loss: 0.808068  [12864/60000]\n",
            "loss: 0.796986  [19264/60000]\n",
            "loss: 0.796043  [25664/60000]\n",
            "loss: 0.795408  [32064/60000]\n",
            "loss: 0.798406  [38464/60000]\n",
            "loss: 0.787650  [44864/60000]\n",
            "loss: 0.920785  [51264/60000]\n",
            "loss: 0.747332  [57664/60000]\n",
            "Train loss: 0.827728, Accuracy: 76.5%\n",
            "Test Error: \n",
            " Avg loss: 0.680652, Accuracy: 79.7% \n",
            "\n",
            "Epoch 15\n",
            "-------------------------------\n",
            "loss: 0.807923  [   64/60000]\n",
            "loss: 0.592049  [ 6464/60000]\n",
            "loss: 0.557977  [12864/60000]\n",
            "loss: 0.604921  [19264/60000]\n",
            "loss: 0.619976  [25664/60000]\n",
            "loss: 0.603450  [32064/60000]\n",
            "loss: 0.603288  [38464/60000]\n",
            "loss: 0.610140  [44864/60000]\n",
            "loss: 0.761134  [51264/60000]\n",
            "loss: 0.613082  [57664/60000]\n",
            "Train loss: 0.629823, Accuracy: 81.4%\n",
            "Test Error: \n",
            " Avg loss: 0.545626, Accuracy: 83.3% \n",
            "\n",
            "Done!\n"
          ]
        }
      ]
    },
    {
      "cell_type": "markdown",
      "source": [
        "# Check the performance of the network through train and test loss and accuracy curves\n",
        "\n",
        "Write your code below to plot the training and test loss and accuracy for each epoch."
      ],
      "metadata": {
        "id": "sjggPjPH9pZP"
      }
    },
    {
      "cell_type": "code",
      "source": [
        "plt.subplot(2,1,1)\n",
        "plt.plot(range(1, epochs+1), train_losses, label=\"Train Loss\")\n",
        "plt.plot(range(1, epochs+1), test_losses, label=\"Test Loss\")\n",
        "plt.xlabel(\"Epochs\")\n",
        "plt.ylabel(\"Loss\")\n",
        "plt.title(\"Training and Testing Loss over Epochs\")\n",
        "plt.legend()\n",
        "plt.show()\n",
        "\n",
        "plt.subplot(2,1,2)\n",
        "plt.plot(range(1, epochs+1), train_accuracies, label=\"Train Accuracy\")\n",
        "plt.plot(range(1, epochs+1), test_accuracies, label=\"Test Accuracy\")\n",
        "plt.xlabel(\"Epochs\")\n",
        "plt.ylabel(\"Accuracy\")\n",
        "plt.title(\"Training and Testing Accuracy over Epochs\")\n",
        "plt.legend()\n",
        "plt.show()\n"
      ],
      "metadata": {
        "colab": {
          "base_uri": "https://localhost:8080/",
          "height": 523
        },
        "id": "A-sQ_Y8W9ou_",
        "outputId": "812f5c68-1583-4da2-b01d-67140072b943"
      },
      "execution_count": null,
      "outputs": [
        {
          "output_type": "display_data",
          "data": {
            "text/plain": [
              "<Figure size 640x480 with 1 Axes>"
            ],
            "image/png": "[encoded data removed]"
          },
          "metadata": {}
        },
        {
          "output_type": "display_data",
          "data": {
            "text/plain": [
              "<Figure size 640x480 with 1 Axes>"
            ],
            "image/png": "[encoded data removed]"
          },
          "metadata": {}
        }
      ]
    },
    {
      "cell_type": "markdown",
      "source": [
        "# Check result for one image"
      ],
      "metadata": {
        "id": "O0hwwom2AmhO"
      }
    },
    {
      "cell_type": "code",
      "source": [
        "model.eval()\n",
        "idx = 0\n",
        "x, y = test_data[idx][0], test_data[idx][1]\n",
        "plt.imshow(x.permute(1,2,0), cmap = 'gray')\n",
        "with torch.no_grad():\n",
        "    x = x.to(device)\n",
        "    pred = model(x.unsqueeze(0))\n",
        "    predicted, actual = classes[pred[0].argmax(0)], classes[y]\n",
        "    print(f'Predicted: \"{predicted}\", Actual: \"{actual}\"')\n"
      ],
      "metadata": {
        "colab": {
          "base_uri": "https://localhost:8080/",
          "height": 447
        },
        "id": "TeoXfW24MrrH",
        "outputId": "95a79a4e-ba8f-4365-fdf2-dbce60067dc7"
      },
      "execution_count": null,
      "outputs": [
        {
          "output_type": "stream",
          "name": "stdout",
          "text": [
            "Predicted: \"7 - seven\", Actual: \"7 - seven\"\n"
          ]
        },
        {
          "output_type": "display_data",
          "data": {
            "text/plain": [
              "<Figure size 640x480 with 1 Axes>"
            ],
            "image/png": "[encoded data removed]"
          },
          "metadata": {}
        }
      ]
    },
    {
      "cell_type": "markdown",
      "source": [
        "### prediction results for all images in the test set and show some examples where the predictions are wrong"
      ],
      "metadata": {
        "id": "v26mZVvHQyAk"
      }
    },
    {
      "cell_type": "code",
      "source": [
        "model.eval()\n",
        "\n",
        "#YOUR CODE HERE"
      ],
      "metadata": {
        "id": "0uISWGxSKwsw"
      },
      "execution_count": null,
      "outputs": []
    },
    {
      "cell_type": "markdown",
      "source": [
        "# EXTRA: Use your own data and try implementing AlexNet\n",
        "Try training a network on your own classes, e.g., cats and dogs. You can use the following library to scrape images from google image search.\n",
        "https://pypi.org/project/simple-image-download/\n",
        "\n",
        "\n",
        "You can also find many datasets on https://www.kaggle.com/datasets\n",
        "\n",
        "A good starting point is to use the `ImageFolder` dataset, which lets you define an image dataset as folders with names that indicate labels.\n",
        "https://pytorch.org/tutorials/beginner/basics/data_tutorial.html\n",
        "\n",
        "You might also have to modify the `transformer`, which preprocesses the images. So far we have only used it to convert them to tensors, but it can also be used to resize images (and much more):\n",
        "```\n",
        "transform = transforms.Compose(\n",
        "    [transforms.ToTensor(),\n",
        "     transforms.Resize((32,32)),\n",
        "     transforms.Normalize((0.5, 0.5, 0.5), (0.5, 0.5, 0.5))]).\n",
        "```\n",
        "\n",
        "See https://pytorch.org/vision/stable/auto_examples/transforms/plot_transforms_getting_started.html"
      ],
      "metadata": {
        "id": "X7AcEbHzR60v"
      }
    }
  ]
}