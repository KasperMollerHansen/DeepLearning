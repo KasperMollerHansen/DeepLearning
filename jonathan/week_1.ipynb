{
 "cells": [
  {
   "cell_type": "code",
   "execution_count": 1,
   "metadata": {},
   "outputs": [],
   "source": [
    "#who dat boii?\n",
    "\n",
    "#load packages\n",
    "import numpy as np\n",
    "import sklearn.model_selection\n",
    "import matplotlib.pyplot as plt"
   ]
  },
  {
   "cell_type": "code",
   "execution_count": null,
   "metadata": {},
   "outputs": [],
   "source": [
    "#make helper functions\n",
    "\n",
    "def plot_digit(X, y, idx):\n",
    "    img = X[idx].reshape(28,28)\n",
    "    plt.imshow(img, cmap='Greys',  interpolation='nearest')\n",
    "    plt.title('true label: %d' % y[idx,0])\n",
    "    plt.show()"
   ]
  },
  {
   "cell_type": "code",
   "execution_count": null,
   "metadata": {},
   "outputs": [],
   "source": [
    "#load data\n",
    "\n",
    "from mlxtend.data import mnist_data\n",
    "X, y = mnist_data()\n",
    "\n",
    "\n",
    "#we just focus on 1's and 0's:\n",
    "keep=(y==0) | (y==1)\n",
    "X=X[keep,:]\n",
    "y=y[keep]\n",
    "\n",
    "y=np.expand_dims(y,1)"
   ]
  },
  {
   "cell_type": "code",
   "execution_count": null,
   "metadata": {},
   "outputs": [],
   "source": [
    "#inspect data\n",
    "rng = np.random.default_rng()\n",
    "max_dim_y = np.max(np.shape(y))\n",
    "idx = rng.integers(max_dim_y)\n",
    "#(plot digit)\n",
    "plot_digit(X,y,idx)"
   ]
  },
  {
   "cell_type": "code",
   "execution_count": null,
   "metadata": {},
   "outputs": [],
   "source": [
    "# create a loss function:\n",
    "def avrLoss(y,a):\n",
    "    loss = -(y*np.log(a)+(1-y)*np.log(1-a))\n",
    "    \n",
    "    return np.mean(loss)"
   ]
  },
  {
   "cell_type": "code",
   "execution_count": null,
   "metadata": {},
   "outputs": [],
   "source": [
    "#test loss function:\n",
    "#(just run this cell and see what happens)\n",
    "\n",
    "\n",
    "loss=avrLoss(np.array([0,1,0,1]),np.linspace(.1,.9,4))\n",
    "assert np.all(loss==0.5543313122608056)\n",
    "#no error means the results match"
   ]
  },
  {
   "cell_type": "code",
   "execution_count": null,
   "metadata": {},
   "outputs": [],
   "source": [
    "#create a sigmoid\n",
    "def sigmoid(z):\n",
    "    f = 1/(1+np.exp(-z))\n",
    "    return f\n",
    "    #INSERT CODE"
   ]
  },
  {
   "cell_type": "code",
   "execution_count": null,
   "metadata": {},
   "outputs": [],
   "source": [
    "#check sigmoid\n",
    "#(just run this cell and see what happens)\n",
    "\n",
    "out=sigmoid(np.array(range(-5,5)))\n",
    "assert np.all(np.around(out,8)==np.array([0.00669285, 0.01798621, 0.04742587, 0.11920292, 0.26894142, 0.5, 0.73105858, 0.88079708, 0.95257413, 0.98201379]))\n",
    "#no error means the results match"
   ]
  },
  {
   "cell_type": "code",
   "execution_count": null,
   "metadata": {},
   "outputs": [],
   "source": [
    "#make test & train data\n",
    "\n",
    "Xtrain,Xtest,ytrain,ytest=sklearn.model_selection.train_test_split(X,y,test_size=0.3,shuffle=True)"
   ]
  },
  {
   "cell_type": "code",
   "execution_count": null,
   "metadata": {},
   "outputs": [],
   "source": [
    "#train\n",
    "\n",
    "#INITIATE WEIGHTS AND BIASES (w,b)\n",
    "[M,N] = np.shape(Xtrain)\n",
    "w=np.reshape(np.zeros(N),[N,1])\n",
    "b=0\n",
    "\n",
    "nEpoch=60\n",
    "\n",
    "accuracy=np.zeros(nEpoch)\n",
    "trainRate=0.05#pick a number less than 1\n",
    "\n",
    "for iTrain in range(nEpoch):\n",
    "    #evaluate\n",
    "    z = np.matmul(Xtrain,w)+b\n",
    "    z = np.reshape(z,[M,1])\n",
    "    #CALCULATE a\n",
    "    a = sigmoid(z)\n",
    "\n",
    "    #calculate loss & accuracy\n",
    "    loss=avrLoss(ytrain,a)\n",
    "\n",
    "    yhat=np.where(a > 0.5, 1, 0)\n",
    "    accuracy[iTrain]=np.mean(yhat==ytrain)\n",
    "\n",
    "\n",
    "    #update weights\n",
    "    temp = np.reshape(np.sum((a-ytrain)*Xtrain,0),[N,1])\n",
    "    wgrad=(1/M)*temp\n",
    "    bgrad= (1/M)*np.sum((a-ytrain))\n",
    "\n",
    "    assert(wgrad.shape == w.shape)\n",
    "\n",
    "    #UPDATE W AND b\n",
    "    w = w - trainRate*wgrad\n",
    "    b = b - trainRate*bgrad\n",
    "\n",
    "\n",
    "\n",
    "    if np.mod(iTrain,10)==0:\n",
    "        print('Epoch: ',iTrain)\n",
    "        print('loss = ',loss)\n",
    "        print('accuracy',accuracy[iTrain])\n",
    "\n",
    "Y_prediction_test = sigmoid(np.matmul(Xtest,w)+b)>0.5\n",
    "Y_prediction_train = sigmoid(np.matmul(Xtrain,w)+b)>0.5\n",
    "\n",
    "print(\"train accuracy: {} %\".format(100 - np.mean(np.abs(Y_prediction_train - ytrain)) * 100))\n",
    "print(\"test accuracy: {} %\".format(100 - np.mean(np.abs(Y_prediction_test - ytest)) * 100))"
   ]
  },
  {
   "cell_type": "code",
   "execution_count": null,
   "metadata": {},
   "outputs": [],
   "source": [
    "#see what the network does:\n",
    "\n",
    "img = w.reshape(28,28)\n",
    "h=plt.imshow(img, cmap='Greys',  interpolation='nearest')\n",
    "plt.title('My Network')\n",
    "plt.colorbar(h)\n",
    "plt.show()"
   ]
  },
  {
   "cell_type": "code",
   "execution_count": null,
   "metadata": {},
   "outputs": [],
   "source": [
    "#commpare with scikit-learn:\n",
    "\n",
    "from sklearn.linear_model import LogisticRegression\n",
    "clf = LogisticRegression(random_state=0).fit(Xtrain, np.ravel(ytrain))\n",
    "\n",
    "clf.predict(X)\n",
    "print('Train accuracy: ',clf.score(Xtrain, ytrain))\n",
    "print('Test accuracy: ',clf.score(Xtest, ytest))\n",
    "\n",
    "img = (clf.coef_).reshape(28,28)\n",
    "plt.imshow(img, cmap='Greys',  interpolation='nearest')\n",
    "plt.title('sklearn Network')\n",
    "plt.show()"
   ]
  }
 ],
 "metadata": {
  "kernelspec": {
   "display_name": ".venv",
   "language": "python",
   "name": "python3"
  },
  "language_info": {
   "codemirror_mode": {
    "name": "ipython",
    "version": 3
   },
   "file_extension": ".py",
   "mimetype": "text/x-python",
   "name": "python",
   "nbconvert_exporter": "python",
   "pygments_lexer": "ipython3",
   "version": "3.10.11"
  }
 },
 "nbformat": 4,
 "nbformat_minor": 2
}
