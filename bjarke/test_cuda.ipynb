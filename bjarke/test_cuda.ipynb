{
 "cells": [
  {
   "cell_type": "code",
   "execution_count": 2,
   "metadata": {},
   "outputs": [],
   "source": [
    "import torch"
   ]
  },
  {
   "cell_type": "code",
   "execution_count": 3,
   "metadata": {},
   "outputs": [
    {
     "name": "stdout",
     "output_type": "stream",
     "text": [
      "11.8\n",
      "0\n",
      "<torch.cuda.device object at 0x000001E0D1724580>\n",
      "1\n",
      "NVIDIA GeForce GTX 1650 Ti\n",
      "4294.705152\n",
      "reserved memory 0\n",
      "allocated memory 0\n",
      "free memory 0.0\n"
     ]
    }
   ],
   "source": [
    "device = torch.device('cpu')\n",
    "if torch.cuda.is_available():\n",
    "    cuda = torch.device('cuda')\n",
    "    print(torch.version.cuda)\n",
    "    print(torch.cuda.current_device())\n",
    "    print(torch.cuda.device(0))\n",
    "    print(torch.cuda.device_count())\n",
    "    print(torch.cuda.get_device_name(0))\n",
    "    t = torch.cuda.get_device_properties(0).total_memory\n",
    "    print(t/1e6)\n",
    "    r = torch.cuda.memory_reserved(0)\n",
    "    a = torch.cuda.memory_allocated(0)\n",
    "    f = r-a\n",
    "    print('reserved memory',r)\n",
    "    print('allocated memory',a)\n",
    "    print('free memory',f/1e6)\n",
    "else:\n",
    "    print('no cuda available')"
   ]
  }
 ],
 "metadata": {
  "kernelspec": {
   "display_name": ".venv",
   "language": "python",
   "name": "python3"
  },
  "language_info": {
   "codemirror_mode": {
    "name": "ipython",
    "version": 3
   },
   "file_extension": ".py",
   "mimetype": "text/x-python",
   "name": "python",
   "nbconvert_exporter": "python",
   "pygments_lexer": "ipython3",
   "version": "3.10.11"
  }
 },
 "nbformat": 4,
 "nbformat_minor": 2
}
