{
 "cells": [
  {
   "cell_type": "markdown",
   "metadata": {},
   "source": [
    "store fed pikkemænd"
   ]
  }
 ],
 "metadata": {
  "language_info": {
   "name": "python"
  }
 },
 "nbformat": 4,
 "nbformat_minor": 2
}
