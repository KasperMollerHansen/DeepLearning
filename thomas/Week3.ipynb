{
 "cells": [
  {
   "cell_type": "markdown",
   "metadata": {},
   "source": [
    "# Part 1"
   ]
  },
  {
   "cell_type": "code",
   "execution_count": 2,
   "metadata": {},
   "outputs": [],
   "source": [
    "import torch\n",
    "from torch import nn\n",
    "from torch.utils.data import DataLoader\n",
    "from torchvision import datasets\n",
    "from torchvision.transforms import ToTensor\n",
    "import matplotlib.pyplot as plt\n",
    "from torchsummary import summary\n",
    "import torch_directml"
   ]
  },
  {
   "cell_type": "code",
   "execution_count": 3,
   "metadata": {},
   "outputs": [
    {
     "name": "stdout",
     "output_type": "stream",
     "text": [
      "Downloading http://yann.lecun.com/exdb/mnist/train-images-idx3-ubyte.gz\n",
      "Failed to download (trying next):\n",
      "HTTP Error 403: Forbidden\n",
      "\n",
      "Downloading https://ossci-datasets.s3.amazonaws.com/mnist/train-images-idx3-ubyte.gz\n",
      "Downloading https://ossci-datasets.s3.amazonaws.com/mnist/train-images-idx3-ubyte.gz to data\\MNIST\\raw\\train-images-idx3-ubyte.gz\n"
     ]
    },
    {
     "name": "stderr",
     "output_type": "stream",
     "text": [
      "100.0%\n"
     ]
    },
    {
     "name": "stdout",
     "output_type": "stream",
     "text": [
      "Extracting data\\MNIST\\raw\\train-images-idx3-ubyte.gz to data\\MNIST\\raw\n",
      "\n",
      "Downloading http://yann.lecun.com/exdb/mnist/train-labels-idx1-ubyte.gz\n",
      "Failed to download (trying next):\n",
      "HTTP Error 403: Forbidden\n",
      "\n",
      "Downloading https://ossci-datasets.s3.amazonaws.com/mnist/train-labels-idx1-ubyte.gz\n",
      "Downloading https://ossci-datasets.s3.amazonaws.com/mnist/train-labels-idx1-ubyte.gz to data\\MNIST\\raw\\train-labels-idx1-ubyte.gz\n"
     ]
    },
    {
     "name": "stderr",
     "output_type": "stream",
     "text": [
      "100.0%\n"
     ]
    },
    {
     "name": "stdout",
     "output_type": "stream",
     "text": [
      "Extracting data\\MNIST\\raw\\train-labels-idx1-ubyte.gz to data\\MNIST\\raw\n",
      "\n",
      "Downloading http://yann.lecun.com/exdb/mnist/t10k-images-idx3-ubyte.gz\n",
      "Failed to download (trying next):\n",
      "HTTP Error 403: Forbidden\n",
      "\n",
      "Downloading https://ossci-datasets.s3.amazonaws.com/mnist/t10k-images-idx3-ubyte.gz\n",
      "Downloading https://ossci-datasets.s3.amazonaws.com/mnist/t10k-images-idx3-ubyte.gz to data\\MNIST\\raw\\t10k-images-idx3-ubyte.gz\n"
     ]
    },
    {
     "name": "stderr",
     "output_type": "stream",
     "text": [
      "100.0%\n"
     ]
    },
    {
     "name": "stdout",
     "output_type": "stream",
     "text": [
      "Extracting data\\MNIST\\raw\\t10k-images-idx3-ubyte.gz to data\\MNIST\\raw\n",
      "\n",
      "Downloading http://yann.lecun.com/exdb/mnist/t10k-labels-idx1-ubyte.gz\n",
      "Failed to download (trying next):\n",
      "HTTP Error 403: Forbidden\n",
      "\n",
      "Downloading https://ossci-datasets.s3.amazonaws.com/mnist/t10k-labels-idx1-ubyte.gz\n",
      "Downloading https://ossci-datasets.s3.amazonaws.com/mnist/t10k-labels-idx1-ubyte.gz to data\\MNIST\\raw\\t10k-labels-idx1-ubyte.gz\n"
     ]
    },
    {
     "name": "stderr",
     "output_type": "stream",
     "text": [
      "100.0%"
     ]
    },
    {
     "name": "stdout",
     "output_type": "stream",
     "text": [
      "Extracting data\\MNIST\\raw\\t10k-labels-idx1-ubyte.gz to data\\MNIST\\raw\n",
      "\n"
     ]
    },
    {
     "name": "stderr",
     "output_type": "stream",
     "text": [
      "\n"
     ]
    }
   ],
   "source": [
    "# Download training data from open datasets.\n",
    "training_data = datasets.MNIST(\n",
    "    root=\"data\",\n",
    "    train=True,\n",
    "    download=True,\n",
    "    transform=ToTensor(),\n",
    ")\n",
    "\n",
    "# Download test data from open datasets.\n",
    "test_data = datasets.MNIST(\n",
    "    root=\"data\",\n",
    "    train=False,\n",
    "    download=True,\n",
    "    transform=ToTensor(),\n",
    ")"
   ]
  },
  {
   "cell_type": "code",
   "execution_count": 4,
   "metadata": {},
   "outputs": [
    {
     "name": "stdout",
     "output_type": "stream",
     "text": [
      "['0 - zero', '1 - one', '2 - two', '3 - three', '4 - four', '5 - five', '6 - six', '7 - seven', '8 - eight', '9 - nine']\n",
      "Number of samples in the training data: 60000\n",
      "Number of samples in the test data: 10000\n"
     ]
    }
   ],
   "source": [
    "classes = training_data.classes\n",
    "print(classes)\n",
    "\n",
    "num_training_samples = len(training_data)\n",
    "print(f\"Number of samples in the training data: {num_training_samples}\")\n",
    "\n",
    "num_test_samples = len(test_data)\n",
    "print(f\"Number of samples in the test data: {num_test_samples}\")"
   ]
  },
  {
   "cell_type": "code",
   "execution_count": 5,
   "metadata": {},
   "outputs": [
    {
     "name": "stdout",
     "output_type": "stream",
     "text": [
      "Shape of X [N, C, H, W]: torch.Size([64, 1, 28, 28])\n",
      "Shape of y: torch.Size([64]) torch.int64\n"
     ]
    },
    {
     "data": {
      "image/png": "[encoded data removed]",
      "text/plain": [
       "<Figure size 1000x1000 with 6 Axes>"
      ]
     },
     "metadata": {},
     "output_type": "display_data"
    }
   ],
   "source": [
    "batch_size = 64 # we will talk about it later\n",
    "\n",
    "# Create data loaders.\n",
    "train_dataloader = DataLoader(training_data, batch_size=batch_size)\n",
    "test_dataloader = DataLoader(test_data, batch_size=batch_size)\n",
    "\n",
    "for X, y in train_dataloader:\n",
    "    print(f\"Shape of X [N, C, H, W]: {X.shape}\")\n",
    "    print(f\"Shape of y: {y.shape} {y.dtype}\")\n",
    "\n",
    "    fig, axes = plt.subplots(1, 6, figsize=(10, 10))\n",
    "    axes = axes.flatten()\n",
    "\n",
    "    for i in range(6):\n",
    "        img = X[i].squeeze().numpy()\n",
    "        axes[i].imshow(img, cmap=\"gray\")\n",
    "        axes[i].set_title(f\"Label: {y[i]}\")\n",
    "        axes[i].axis('off')\n",
    "\n",
    "    plt.tight_layout()\n",
    "    plt.show()\n",
    "\n",
    "    break"
   ]
  },
  {
   "cell_type": "code",
   "execution_count": 6,
   "metadata": {},
   "outputs": [
    {
     "name": "stdout",
     "output_type": "stream",
     "text": [
      "Using cpu device\n",
      "NeuralNetwork(\n",
      "  (flatten): Flatten(start_dim=1, end_dim=-1)\n",
      "  (linear_relu_stack): Sequential(\n",
      "    (0): Linear(in_features=784, out_features=512, bias=True)\n",
      "    (1): ReLU(inplace=True)\n",
      "    (2): Linear(in_features=512, out_features=512, bias=True)\n",
      "    (3): ReLU(inplace=True)\n",
      "    (4): Linear(in_features=512, out_features=10, bias=True)\n",
      "  )\n",
      ")\n"
     ]
    }
   ],
   "source": [
    "# Get cpu, gpu or mps device for training.\n",
    "device = (\n",
    "    \"cuda\" if torch.cuda.is_available()\n",
    "     else \"cpu\"\n",
    ")\n",
    "print(f\"Using {device} device\")\n",
    "\n",
    "# Define model\n",
    "class NeuralNetwork(nn.Module):\n",
    "    def __init__(self):\n",
    "        super().__init__()\n",
    "        self.flatten = nn.Flatten()\n",
    "        self.linear_relu_stack = nn.Sequential(\n",
    "            nn.Linear(28*28, 512),\n",
    "            nn.ReLU(inplace=True),\n",
    "            nn.Linear(512, 512),\n",
    "            nn.ReLU(inplace=True),\n",
    "            nn.Linear(512, 10)\n",
    "        )\n",
    "\n",
    "    def forward(self, x):\n",
    "        x = self.flatten(x)\n",
    "        logits = self.linear_relu_stack(x)\n",
    "        return logits\n",
    "\n",
    "model = NeuralNetwork().to(device)\n",
    "print(model)"
   ]
  },
  {
   "cell_type": "code",
   "execution_count": 7,
   "metadata": {},
   "outputs": [
    {
     "name": "stdout",
     "output_type": "stream",
     "text": [
      "----------------------------------------------------------------\n",
      "        Layer (type)               Output Shape         Param #\n",
      "================================================================\n",
      "           Flatten-1                  [-1, 784]               0\n",
      "            Linear-2                  [-1, 512]         401,920\n",
      "              ReLU-3                  [-1, 512]               0\n",
      "            Linear-4                  [-1, 512]         262,656\n",
      "              ReLU-5                  [-1, 512]               0\n",
      "            Linear-6                   [-1, 10]           5,130\n",
      "================================================================\n",
      "Total params: 669,706\n",
      "Trainable params: 669,706\n",
      "Non-trainable params: 0\n",
      "----------------------------------------------------------------\n",
      "Input size (MB): 0.00\n",
      "Forward/backward pass size (MB): 0.02\n",
      "Params size (MB): 2.55\n",
      "Estimated Total Size (MB): 2.58\n",
      "----------------------------------------------------------------\n"
     ]
    }
   ],
   "source": [
    "summary(model, input_size=(1, 28, 28), device=device)"
   ]
  },
  {
   "cell_type": "code",
   "execution_count": 9,
   "metadata": {},
   "outputs": [],
   "source": [
    "loss_fn = nn.CrossEntropyLoss()\n",
    "optimizer = torch.optim.SGD(model.parameters(), lr=1e-3) # Let's use stocastic gradient descent (We will talk about it in the coming weeks)"
   ]
  },
  {
   "cell_type": "code",
   "execution_count": 10,
   "metadata": {},
   "outputs": [],
   "source": [
    "train_losses = []\n",
    "test_losses = []\n",
    "train_accuracies = []\n",
    "test_accuracies = []\n",
    "\n",
    "\n",
    "def train(dataloader, model, loss_fn, optimizer):\n",
    "    size = len(dataloader.dataset)\n",
    "    model.train()\n",
    "    total_loss, correct = 0, 0  # Track the total loss for the epoch\n",
    "\n",
    "    for batch, (X, y) in enumerate(dataloader):\n",
    "        X, y = X.to(device), y.to(device)\n",
    "\n",
    "        # Compute prediction error\n",
    "        pred = model(X)\n",
    "        loss = loss_fn(pred, y)\n",
    "        total_loss += loss.item()  # Accumulate loss\n",
    "\n",
    "        # Backpropagation\n",
    "        loss.backward()\n",
    "        optimizer.step()\n",
    "        optimizer.zero_grad()\n",
    "\n",
    "        # Calculate accuracy\n",
    "        correct += (pred.argmax(1) == y).type(torch.float).sum().item()\n",
    "\n",
    "        if batch % 100 == 0:\n",
    "            loss, current = loss.item(), (batch + 1) * len(X)\n",
    "            print(f\"loss: {loss:>7f}  [{current:>5d}/{size:>5d}]\")\n",
    "    avg_loss = total_loss / len(dataloader)  # Calculate average loss for the epoch\n",
    "    avg_accuracy = correct / size\n",
    "\n",
    "    train_losses.append(avg_loss)  # Store the average loss for the epoch\n",
    "    train_accuracies.append(avg_accuracy) # Store the average accuracy for the epoch\n",
    "\n",
    "    print(f\"Train loss: {avg_loss:>7f}, Accuracy: {(100*avg_accuracy):>0.1f}%\")"
   ]
  },
  {
   "cell_type": "code",
   "execution_count": 11,
   "metadata": {},
   "outputs": [],
   "source": [
    "def test(dataloader, model, loss_fn):\n",
    "    size = len(dataloader.dataset)\n",
    "    num_batches = len(dataloader)\n",
    "    model.eval()\n",
    "    test_loss, correct = 0, 0\n",
    "    with torch.no_grad():\n",
    "        for X, y in dataloader:\n",
    "            X, y = X.to(device), y.to(device)\n",
    "            pred = model(X)\n",
    "            test_loss += loss_fn(pred, y).item()\n",
    "            correct += (pred.argmax(1) == y).type(torch.float).sum().item()\n",
    "    test_loss /= num_batches\n",
    "    correct /= size\n",
    "    test_losses.append(test_loss)  # Store the test loss for the epoch\n",
    "    test_accuracies.append(correct)\n",
    "\n",
    "    print(f\"Test Error: \\n Avg loss: {test_loss:>8f}, Accuracy: {(100*correct):>0.1f}% \\n\")\n"
   ]
  },
  {
   "cell_type": "code",
   "execution_count": 12,
   "metadata": {},
   "outputs": [
    {
     "name": "stdout",
     "output_type": "stream",
     "text": [
      "Epoch 1\n",
      "-------------------------------\n",
      "loss: 2.307924  [   64/60000]\n",
      "loss: 2.296140  [ 6464/60000]\n",
      "loss: 2.284869  [12864/60000]\n",
      "loss: 2.288924  [19264/60000]\n",
      "loss: 2.285687  [25664/60000]\n",
      "loss: 2.276774  [32064/60000]\n",
      "loss: 2.267572  [38464/60000]\n",
      "loss: 2.266652  [44864/60000]\n",
      "loss: 2.254244  [51264/60000]\n",
      "loss: 2.249759  [57664/60000]\n",
      "Train loss: 2.276657, Accuracy: 33.0%\n",
      "Test Error: \n",
      " Avg loss: 2.249356, Accuracy: 51.2% \n",
      "\n",
      "Epoch 2\n",
      "-------------------------------\n",
      "loss: 2.255201  [   64/60000]\n",
      "loss: 2.239902  [ 6464/60000]\n",
      "loss: 2.241501  [12864/60000]\n",
      "loss: 2.220222  [19264/60000]\n",
      "loss: 2.230901  [25664/60000]\n",
      "loss: 2.219089  [32064/60000]\n",
      "loss: 2.200880  [38464/60000]\n",
      "loss: 2.217400  [44864/60000]\n",
      "loss: 2.185256  [51264/60000]\n",
      "loss: 2.177558  [57664/60000]\n",
      "Train loss: 2.217999, Accuracy: 57.6%\n",
      "Test Error: \n",
      " Avg loss: 2.176654, Accuracy: 62.8% \n",
      "\n",
      "Epoch 3\n",
      "-------------------------------\n",
      "loss: 2.183317  [   64/60000]\n",
      "loss: 2.159122  [ 6464/60000]\n",
      "loss: 2.174584  [12864/60000]\n",
      "loss: 2.120261  [19264/60000]\n",
      "loss: 2.145382  [25664/60000]\n",
      "loss: 2.127120  [32064/60000]\n",
      "loss: 2.092001  [38464/60000]\n",
      "loss: 2.131363  [44864/60000]\n",
      "loss: 2.071259  [51264/60000]\n",
      "loss: 2.054992  [57664/60000]\n",
      "Train loss: 2.124760, Accuracy: 64.4%\n",
      "Test Error: \n",
      " Avg loss: 2.052367, Accuracy: 66.8% \n",
      "\n",
      "Epoch 4\n",
      "-------------------------------\n",
      "loss: 2.061152  [   64/60000]\n",
      "loss: 2.019973  [ 6464/60000]\n",
      "loss: 2.055141  [12864/60000]\n",
      "loss: 1.952006  [19264/60000]\n",
      "loss: 1.994617  [25664/60000]\n",
      "loss: 1.963276  [32064/60000]\n",
      "loss: 1.903862  [38464/60000]\n",
      "loss: 1.974927  [44864/60000]\n",
      "loss: 1.876153  [51264/60000]\n",
      "loss: 1.845452  [57664/60000]\n",
      "Train loss: 1.962050, Accuracy: 67.9%\n",
      "Test Error: \n",
      " Avg loss: 1.837946, Accuracy: 70.4% \n",
      "\n",
      "Epoch 5\n",
      "-------------------------------\n",
      "loss: 1.853107  [   64/60000]\n",
      "loss: 1.782543  [ 6464/60000]\n",
      "loss: 1.845588  [12864/60000]\n",
      "loss: 1.686796  [19264/60000]\n",
      "loss: 1.738947  [25664/60000]\n",
      "loss: 1.689723  [32064/60000]\n",
      "loss: 1.612794  [38464/60000]\n",
      "loss: 1.724525  [44864/60000]\n",
      "loss: 1.584613  [51264/60000]\n",
      "loss: 1.541119  [57664/60000]\n",
      "Train loss: 1.700662, Accuracy: 71.4%\n",
      "Test Error: \n",
      " Avg loss: 1.524922, Accuracy: 74.1% \n",
      "\n",
      "Done!\n"
     ]
    }
   ],
   "source": [
    "epochs = 5\n",
    "for t in range(epochs):\n",
    "    print(f\"Epoch {t+1}\\n-------------------------------\")\n",
    "    train(train_dataloader, model, loss_fn, optimizer)\n",
    "    test(test_dataloader, model, loss_fn)\n",
    "print(\"Done!\")\n"
   ]
  },
  {
   "cell_type": "code",
   "execution_count": 13,
   "metadata": {},
   "outputs": [
    {
     "data": {
      "image/png": "[encoded data removed]",
      "text/plain": [
       "<Figure size 640x480 with 1 Axes>"
      ]
     },
     "metadata": {},
     "output_type": "display_data"
    },
    {
     "data": {
      "image/png": "[encoded data removed]",
      "text/plain": [
       "<Figure size 640x480 with 1 Axes>"
      ]
     },
     "metadata": {},
     "output_type": "display_data"
    }
   ],
   "source": [
    "plt.subplot(2,1,1)\n",
    "plt.plot(range(1, epochs+1), train_losses, label=\"Train Loss\")\n",
    "plt.plot(range(1, epochs+1), test_losses, label=\"Test Loss\")\n",
    "plt.xlabel(\"Epochs\")\n",
    "plt.ylabel(\"Loss\")\n",
    "plt.title(\"Training and Testing Loss over Epochs\")\n",
    "plt.legend()\n",
    "plt.show()\n",
    "\n",
    "plt.subplot(2,1,2)\n",
    "plt.plot(range(1, epochs+1), train_accuracies, label=\"Train Accuracy\")\n",
    "plt.plot(range(1, epochs+1), test_accuracies, label=\"Test Accuracy\")\n",
    "plt.xlabel(\"Epochs\")\n",
    "plt.ylabel(\"Accuracy\")\n",
    "plt.title(\"Training and Testing Accuracy over Epochs\")\n",
    "plt.legend()\n",
    "plt.show()"
   ]
  },
  {
   "cell_type": "code",
   "execution_count": 14,
   "metadata": {},
   "outputs": [
    {
     "name": "stdout",
     "output_type": "stream",
     "text": [
      "Predicted: \"7 - seven\", Actual: \"7 - seven\"\n"
     ]
    },
    {
     "data": {
      "image/png": "[encoded data removed]",
      "text/plain": [
       "<Figure size 640x480 with 1 Axes>"
      ]
     },
     "metadata": {},
     "output_type": "display_data"
    }
   ],
   "source": [
    "model.eval()\n",
    "idx = 0\n",
    "x, y = test_data[idx][0], test_data[idx][1]\n",
    "plt.imshow(x.permute(1,2,0), cmap = 'gray')\n",
    "with torch.no_grad():\n",
    "    x = x.to(device)\n",
    "    pred = model(x)\n",
    "    predicted, actual = classes[pred[0].argmax(0)], classes[y]\n",
    "    print(f'Predicted: \"{predicted}\", Actual: \"{actual}\"')"
   ]
  },
  {
   "cell_type": "markdown",
   "metadata": {},
   "source": [
    "# Part 2"
   ]
  },
  {
   "cell_type": "code",
   "execution_count": 15,
   "metadata": {},
   "outputs": [],
   "source": [
    "# Download training data from open datasets.\n",
    "training_data = datasets.MNIST(\n",
    "    root=\"data\",\n",
    "    train=True,\n",
    "    download=True,\n",
    "    transform=ToTensor(),\n",
    ")\n",
    "\n",
    "# Download test data from open datasets.\n",
    "test_data = datasets.MNIST(\n",
    "    root=\"data\",\n",
    "    train=False,\n",
    "    download=True,\n",
    "    transform=ToTensor(),\n",
    ")"
   ]
  },
  {
   "cell_type": "code",
   "execution_count": 16,
   "metadata": {},
   "outputs": [
    {
     "name": "stdout",
     "output_type": "stream",
     "text": [
      "['0 - zero', '1 - one', '2 - two', '3 - three', '4 - four', '5 - five', '6 - six', '7 - seven', '8 - eight', '9 - nine']\n",
      "Number of samples in the training data: 60000\n",
      "Number of samples in the test data: 10000\n"
     ]
    }
   ],
   "source": [
    "classes = training_data.classes\n",
    "print(classes)\n",
    "\n",
    "num_training_samples = len(training_data)\n",
    "print(f\"Number of samples in the training data: {num_training_samples}\")\n",
    "\n",
    "num_test_samples = len(test_data)\n",
    "print(f\"Number of samples in the test data: {num_test_samples}\")\n"
   ]
  },
  {
   "cell_type": "code",
   "execution_count": 17,
   "metadata": {},
   "outputs": [
    {
     "name": "stdout",
     "output_type": "stream",
     "text": [
      "Shape of X [N, C, H, W]: torch.Size([64, 1, 28, 28])\n",
      "Shape of y: torch.Size([64]) torch.int64\n"
     ]
    },
    {
     "data": {
      "image/png": "[encoded data removed]",
      "text/plain": [
       "<Figure size 1000x1000 with 6 Axes>"
      ]
     },
     "metadata": {},
     "output_type": "display_data"
    }
   ],
   "source": [
    "batch_size = 64 # we will talk about it later\n",
    "\n",
    "# Create data loaders.\n",
    "train_dataloader = DataLoader(training_data, batch_size=batch_size, pin_memory=True)\n",
    "test_dataloader = DataLoader(test_data, batch_size=batch_size, pin_memory=True)\n",
    "\n",
    "for X, y in train_dataloader:\n",
    "    print(f\"Shape of X [N, C, H, W]: {X.shape}\")\n",
    "    print(f\"Shape of y: {y.shape} {y.dtype}\")\n",
    "\n",
    "    fig, axes = plt.subplots(1, 6, figsize=(10, 10))\n",
    "    axes = axes.flatten()\n",
    "\n",
    "    for i in range(6):\n",
    "        img = X[i].squeeze().numpy()\n",
    "        axes[i].imshow(img, cmap=\"gray\")\n",
    "        axes[i].set_title(f\"Label: {y[i]}\")\n",
    "        axes[i].axis('off')\n",
    "\n",
    "    plt.tight_layout()\n",
    "    plt.show()\n",
    "\n",
    "    break"
   ]
  },
  {
   "cell_type": "code",
   "execution_count": 18,
   "metadata": {},
   "outputs": [
    {
     "name": "stdout",
     "output_type": "stream",
     "text": [
      "Number of DirectML devices: 2\n",
      "NeuralNetwork(\n",
      "  (conv1): Conv2d(1, 6, kernel_size=(5, 5), stride=(1, 1))\n",
      "  (conv2): Conv2d(6, 16, kernel_size=(5, 5), stride=(1, 1))\n",
      "  (pool): MaxPool2d(kernel_size=2, stride=2, padding=0, dilation=1, ceil_mode=False)\n",
      "  (linear1): Linear(in_features=256, out_features=120, bias=True)\n",
      "  (linear2): Linear(in_features=120, out_features=84, bias=True)\n",
      "  (linear3): Linear(in_features=84, out_features=10, bias=True)\n",
      "  (relu): ReLU(inplace=True)\n",
      "  (flatten): Flatten(start_dim=1, end_dim=-1)\n",
      ")\n"
     ]
    }
   ],
   "source": [
    "# Get cpu, gpu or mps device for training.\n",
    "device = torch_directml.device(torch_directml.default_device()) \n",
    "\n",
    "# Check the number of available DirectML devices\n",
    "num_devices = torch_directml.device_count()\n",
    "print(f\"Number of DirectML devices: {num_devices}\")\n",
    "\n",
    "# Define model\n",
    "class NeuralNetwork(nn.Module):\n",
    "    def __init__(self):\n",
    "        super().__init__()\n",
    "        # Conv layer\n",
    "        self.conv1 = nn.Conv2d(in_channels=1, out_channels=6, kernel_size=5, stride=1,)\n",
    "        self.conv2 = nn.Conv2d(in_channels=6, out_channels=16, kernel_size=5, stride=1,)\n",
    "\n",
    "        # Pooling layer\n",
    "        self.pool = nn.MaxPool2d(2,2)\n",
    "\n",
    "        # Linear layer\n",
    "        self.linear1 = nn.Linear(256,120)\n",
    "        self.linear2 = nn.Linear(120, 84)\n",
    "        self.linear3 = nn.Linear(84, 10)\n",
    "        \n",
    "        # Activation layer\n",
    "        self.relu = nn.ReLU(inplace=True)\n",
    "\n",
    "        # Flatten\n",
    "        self.flatten = nn.Flatten()\n",
    "\n",
    "    def forward(self, x):\n",
    "        x = self.conv1(x)\n",
    "        x = self.relu(x)\n",
    "        x = self.pool(x)\n",
    "        x = self.conv2(x)\n",
    "        x = self.relu(x)\n",
    "        x = self.pool(x)\n",
    "        x = self.flatten(x)\n",
    "        x = self.linear1(x)\n",
    "        x = self.relu(x)\n",
    "        x = self.linear2(x)\n",
    "        x = self.relu(x)\n",
    "        x = self.linear3(x)\n",
    "        return x\n",
    "\n",
    "model = NeuralNetwork().to(device)\n",
    "print(model)"
   ]
  },
  {
   "cell_type": "code",
   "execution_count": 20,
   "metadata": {},
   "outputs": [
    {
     "ename": "RuntimeError",
     "evalue": "Input type (torch.FloatTensor) and weight type (privateuseoneFloatType) should be the same or input should be a MKLDNN tensor and weight is a dense tensor",
     "output_type": "error",
     "traceback": [
      "\u001b[1;31m---------------------------------------------------------------------------\u001b[0m",
      "\u001b[1;31mRuntimeError\u001b[0m                              Traceback (most recent call last)",
      "Cell \u001b[1;32mIn[20], line 1\u001b[0m\n\u001b[1;32m----> 1\u001b[0m \u001b[43msummary\u001b[49m\u001b[43m(\u001b[49m\u001b[43mmodel\u001b[49m\u001b[43m,\u001b[49m\u001b[43m \u001b[49m\u001b[43minput_size\u001b[49m\u001b[38;5;241;43m=\u001b[39;49m\u001b[43m(\u001b[49m\u001b[38;5;241;43m1\u001b[39;49m\u001b[43m,\u001b[49m\u001b[43m \u001b[49m\u001b[38;5;241;43m28\u001b[39;49m\u001b[43m,\u001b[49m\u001b[43m \u001b[49m\u001b[38;5;241;43m28\u001b[39;49m\u001b[43m)\u001b[49m\u001b[43m)\u001b[49m\n",
      "File \u001b[1;32mc:\\repositories\\DeepLearning\\.venv\\lib\\site-packages\\torchsummary\\torchsummary.py:72\u001b[0m, in \u001b[0;36msummary\u001b[1;34m(model, input_size, batch_size, device)\u001b[0m\n\u001b[0;32m     68\u001b[0m model\u001b[38;5;241m.\u001b[39mapply(register_hook)\n\u001b[0;32m     70\u001b[0m \u001b[38;5;66;03m# make a forward pass\u001b[39;00m\n\u001b[0;32m     71\u001b[0m \u001b[38;5;66;03m# print(x.shape)\u001b[39;00m\n\u001b[1;32m---> 72\u001b[0m \u001b[43mmodel\u001b[49m\u001b[43m(\u001b[49m\u001b[38;5;241;43m*\u001b[39;49m\u001b[43mx\u001b[49m\u001b[43m)\u001b[49m\n\u001b[0;32m     74\u001b[0m \u001b[38;5;66;03m# remove these hooks\u001b[39;00m\n\u001b[0;32m     75\u001b[0m \u001b[38;5;28;01mfor\u001b[39;00m h \u001b[38;5;129;01min\u001b[39;00m hooks:\n",
      "File \u001b[1;32mc:\\repositories\\DeepLearning\\.venv\\lib\\site-packages\\torch\\nn\\modules\\module.py:1532\u001b[0m, in \u001b[0;36mModule._wrapped_call_impl\u001b[1;34m(self, *args, **kwargs)\u001b[0m\n\u001b[0;32m   1530\u001b[0m     \u001b[38;5;28;01mreturn\u001b[39;00m \u001b[38;5;28mself\u001b[39m\u001b[38;5;241m.\u001b[39m_compiled_call_impl(\u001b[38;5;241m*\u001b[39margs, \u001b[38;5;241m*\u001b[39m\u001b[38;5;241m*\u001b[39mkwargs)  \u001b[38;5;66;03m# type: ignore[misc]\u001b[39;00m\n\u001b[0;32m   1531\u001b[0m \u001b[38;5;28;01melse\u001b[39;00m:\n\u001b[1;32m-> 1532\u001b[0m     \u001b[38;5;28;01mreturn\u001b[39;00m \u001b[38;5;28mself\u001b[39m\u001b[38;5;241m.\u001b[39m_call_impl(\u001b[38;5;241m*\u001b[39margs, \u001b[38;5;241m*\u001b[39m\u001b[38;5;241m*\u001b[39mkwargs)\n",
      "File \u001b[1;32mc:\\repositories\\DeepLearning\\.venv\\lib\\site-packages\\torch\\nn\\modules\\module.py:1541\u001b[0m, in \u001b[0;36mModule._call_impl\u001b[1;34m(self, *args, **kwargs)\u001b[0m\n\u001b[0;32m   1536\u001b[0m \u001b[38;5;66;03m# If we don't have any hooks, we want to skip the rest of the logic in\u001b[39;00m\n\u001b[0;32m   1537\u001b[0m \u001b[38;5;66;03m# this function, and just call forward.\u001b[39;00m\n\u001b[0;32m   1538\u001b[0m \u001b[38;5;28;01mif\u001b[39;00m \u001b[38;5;129;01mnot\u001b[39;00m (\u001b[38;5;28mself\u001b[39m\u001b[38;5;241m.\u001b[39m_backward_hooks \u001b[38;5;129;01mor\u001b[39;00m \u001b[38;5;28mself\u001b[39m\u001b[38;5;241m.\u001b[39m_backward_pre_hooks \u001b[38;5;129;01mor\u001b[39;00m \u001b[38;5;28mself\u001b[39m\u001b[38;5;241m.\u001b[39m_forward_hooks \u001b[38;5;129;01mor\u001b[39;00m \u001b[38;5;28mself\u001b[39m\u001b[38;5;241m.\u001b[39m_forward_pre_hooks\n\u001b[0;32m   1539\u001b[0m         \u001b[38;5;129;01mor\u001b[39;00m _global_backward_pre_hooks \u001b[38;5;129;01mor\u001b[39;00m _global_backward_hooks\n\u001b[0;32m   1540\u001b[0m         \u001b[38;5;129;01mor\u001b[39;00m _global_forward_hooks \u001b[38;5;129;01mor\u001b[39;00m _global_forward_pre_hooks):\n\u001b[1;32m-> 1541\u001b[0m     \u001b[38;5;28;01mreturn\u001b[39;00m forward_call(\u001b[38;5;241m*\u001b[39margs, \u001b[38;5;241m*\u001b[39m\u001b[38;5;241m*\u001b[39mkwargs)\n\u001b[0;32m   1543\u001b[0m \u001b[38;5;28;01mtry\u001b[39;00m:\n\u001b[0;32m   1544\u001b[0m     result \u001b[38;5;241m=\u001b[39m \u001b[38;5;28;01mNone\u001b[39;00m\n",
      "Cell \u001b[1;32mIn[18], line 31\u001b[0m, in \u001b[0;36mNeuralNetwork.forward\u001b[1;34m(self, x)\u001b[0m\n\u001b[0;32m     30\u001b[0m \u001b[38;5;28;01mdef\u001b[39;00m \u001b[38;5;21mforward\u001b[39m(\u001b[38;5;28mself\u001b[39m, x):\n\u001b[1;32m---> 31\u001b[0m     x \u001b[38;5;241m=\u001b[39m \u001b[38;5;28;43mself\u001b[39;49m\u001b[38;5;241;43m.\u001b[39;49m\u001b[43mconv1\u001b[49m\u001b[43m(\u001b[49m\u001b[43mx\u001b[49m\u001b[43m)\u001b[49m\n\u001b[0;32m     32\u001b[0m     x \u001b[38;5;241m=\u001b[39m \u001b[38;5;28mself\u001b[39m\u001b[38;5;241m.\u001b[39mrelu(x)\n\u001b[0;32m     33\u001b[0m     x \u001b[38;5;241m=\u001b[39m \u001b[38;5;28mself\u001b[39m\u001b[38;5;241m.\u001b[39mpool(x)\n",
      "File \u001b[1;32mc:\\repositories\\DeepLearning\\.venv\\lib\\site-packages\\torch\\nn\\modules\\module.py:1532\u001b[0m, in \u001b[0;36mModule._wrapped_call_impl\u001b[1;34m(self, *args, **kwargs)\u001b[0m\n\u001b[0;32m   1530\u001b[0m     \u001b[38;5;28;01mreturn\u001b[39;00m \u001b[38;5;28mself\u001b[39m\u001b[38;5;241m.\u001b[39m_compiled_call_impl(\u001b[38;5;241m*\u001b[39margs, \u001b[38;5;241m*\u001b[39m\u001b[38;5;241m*\u001b[39mkwargs)  \u001b[38;5;66;03m# type: ignore[misc]\u001b[39;00m\n\u001b[0;32m   1531\u001b[0m \u001b[38;5;28;01melse\u001b[39;00m:\n\u001b[1;32m-> 1532\u001b[0m     \u001b[38;5;28;01mreturn\u001b[39;00m \u001b[38;5;28mself\u001b[39m\u001b[38;5;241m.\u001b[39m_call_impl(\u001b[38;5;241m*\u001b[39margs, \u001b[38;5;241m*\u001b[39m\u001b[38;5;241m*\u001b[39mkwargs)\n",
      "File \u001b[1;32mc:\\repositories\\DeepLearning\\.venv\\lib\\site-packages\\torch\\nn\\modules\\module.py:1582\u001b[0m, in \u001b[0;36mModule._call_impl\u001b[1;34m(self, *args, **kwargs)\u001b[0m\n\u001b[0;32m   1579\u001b[0m     bw_hook \u001b[38;5;241m=\u001b[39m hooks\u001b[38;5;241m.\u001b[39mBackwardHook(\u001b[38;5;28mself\u001b[39m, full_backward_hooks, backward_pre_hooks)\n\u001b[0;32m   1580\u001b[0m     args \u001b[38;5;241m=\u001b[39m bw_hook\u001b[38;5;241m.\u001b[39msetup_input_hook(args)\n\u001b[1;32m-> 1582\u001b[0m result \u001b[38;5;241m=\u001b[39m forward_call(\u001b[38;5;241m*\u001b[39margs, \u001b[38;5;241m*\u001b[39m\u001b[38;5;241m*\u001b[39mkwargs)\n\u001b[0;32m   1583\u001b[0m \u001b[38;5;28;01mif\u001b[39;00m _global_forward_hooks \u001b[38;5;129;01mor\u001b[39;00m \u001b[38;5;28mself\u001b[39m\u001b[38;5;241m.\u001b[39m_forward_hooks:\n\u001b[0;32m   1584\u001b[0m     \u001b[38;5;28;01mfor\u001b[39;00m hook_id, hook \u001b[38;5;129;01min\u001b[39;00m (\n\u001b[0;32m   1585\u001b[0m         \u001b[38;5;241m*\u001b[39m_global_forward_hooks\u001b[38;5;241m.\u001b[39mitems(),\n\u001b[0;32m   1586\u001b[0m         \u001b[38;5;241m*\u001b[39m\u001b[38;5;28mself\u001b[39m\u001b[38;5;241m.\u001b[39m_forward_hooks\u001b[38;5;241m.\u001b[39mitems(),\n\u001b[0;32m   1587\u001b[0m     ):\n\u001b[0;32m   1588\u001b[0m         \u001b[38;5;66;03m# mark that always called hook is run\u001b[39;00m\n",
      "File \u001b[1;32mc:\\repositories\\DeepLearning\\.venv\\lib\\site-packages\\torch\\nn\\modules\\conv.py:460\u001b[0m, in \u001b[0;36mConv2d.forward\u001b[1;34m(self, input)\u001b[0m\n\u001b[0;32m    459\u001b[0m \u001b[38;5;28;01mdef\u001b[39;00m \u001b[38;5;21mforward\u001b[39m(\u001b[38;5;28mself\u001b[39m, \u001b[38;5;28minput\u001b[39m: Tensor) \u001b[38;5;241m-\u001b[39m\u001b[38;5;241m>\u001b[39m Tensor:\n\u001b[1;32m--> 460\u001b[0m     \u001b[38;5;28;01mreturn\u001b[39;00m \u001b[38;5;28;43mself\u001b[39;49m\u001b[38;5;241;43m.\u001b[39;49m\u001b[43m_conv_forward\u001b[49m\u001b[43m(\u001b[49m\u001b[38;5;28;43minput\u001b[39;49m\u001b[43m,\u001b[49m\u001b[43m \u001b[49m\u001b[38;5;28;43mself\u001b[39;49m\u001b[38;5;241;43m.\u001b[39;49m\u001b[43mweight\u001b[49m\u001b[43m,\u001b[49m\u001b[43m \u001b[49m\u001b[38;5;28;43mself\u001b[39;49m\u001b[38;5;241;43m.\u001b[39;49m\u001b[43mbias\u001b[49m\u001b[43m)\u001b[49m\n",
      "File \u001b[1;32mc:\\repositories\\DeepLearning\\.venv\\lib\\site-packages\\torch\\nn\\modules\\conv.py:456\u001b[0m, in \u001b[0;36mConv2d._conv_forward\u001b[1;34m(self, input, weight, bias)\u001b[0m\n\u001b[0;32m    452\u001b[0m \u001b[38;5;28;01mif\u001b[39;00m \u001b[38;5;28mself\u001b[39m\u001b[38;5;241m.\u001b[39mpadding_mode \u001b[38;5;241m!=\u001b[39m \u001b[38;5;124m'\u001b[39m\u001b[38;5;124mzeros\u001b[39m\u001b[38;5;124m'\u001b[39m:\n\u001b[0;32m    453\u001b[0m     \u001b[38;5;28;01mreturn\u001b[39;00m F\u001b[38;5;241m.\u001b[39mconv2d(F\u001b[38;5;241m.\u001b[39mpad(\u001b[38;5;28minput\u001b[39m, \u001b[38;5;28mself\u001b[39m\u001b[38;5;241m.\u001b[39m_reversed_padding_repeated_twice, mode\u001b[38;5;241m=\u001b[39m\u001b[38;5;28mself\u001b[39m\u001b[38;5;241m.\u001b[39mpadding_mode),\n\u001b[0;32m    454\u001b[0m                     weight, bias, \u001b[38;5;28mself\u001b[39m\u001b[38;5;241m.\u001b[39mstride,\n\u001b[0;32m    455\u001b[0m                     _pair(\u001b[38;5;241m0\u001b[39m), \u001b[38;5;28mself\u001b[39m\u001b[38;5;241m.\u001b[39mdilation, \u001b[38;5;28mself\u001b[39m\u001b[38;5;241m.\u001b[39mgroups)\n\u001b[1;32m--> 456\u001b[0m \u001b[38;5;28;01mreturn\u001b[39;00m \u001b[43mF\u001b[49m\u001b[38;5;241;43m.\u001b[39;49m\u001b[43mconv2d\u001b[49m\u001b[43m(\u001b[49m\u001b[38;5;28;43minput\u001b[39;49m\u001b[43m,\u001b[49m\u001b[43m \u001b[49m\u001b[43mweight\u001b[49m\u001b[43m,\u001b[49m\u001b[43m \u001b[49m\u001b[43mbias\u001b[49m\u001b[43m,\u001b[49m\u001b[43m \u001b[49m\u001b[38;5;28;43mself\u001b[39;49m\u001b[38;5;241;43m.\u001b[39;49m\u001b[43mstride\u001b[49m\u001b[43m,\u001b[49m\n\u001b[0;32m    457\u001b[0m \u001b[43m                \u001b[49m\u001b[38;5;28;43mself\u001b[39;49m\u001b[38;5;241;43m.\u001b[39;49m\u001b[43mpadding\u001b[49m\u001b[43m,\u001b[49m\u001b[43m \u001b[49m\u001b[38;5;28;43mself\u001b[39;49m\u001b[38;5;241;43m.\u001b[39;49m\u001b[43mdilation\u001b[49m\u001b[43m,\u001b[49m\u001b[43m \u001b[49m\u001b[38;5;28;43mself\u001b[39;49m\u001b[38;5;241;43m.\u001b[39;49m\u001b[43mgroups\u001b[49m\u001b[43m)\u001b[49m\n",
      "\u001b[1;31mRuntimeError\u001b[0m: Input type (torch.FloatTensor) and weight type (privateuseoneFloatType) should be the same or input should be a MKLDNN tensor and weight is a dense tensor"
     ]
    }
   ],
   "source": [
    "summary(model, input_size=(1, 28, 28))"
   ]
  },
  {
   "cell_type": "code",
   "execution_count": 21,
   "metadata": {},
   "outputs": [],
   "source": [
    "loss_fn = nn.CrossEntropyLoss()\n",
    "optimizer = torch.optim.SGD(model.parameters(), lr=1e-3) # Let's use stocastic gradient descent (We will talk about it in the coming weeks)"
   ]
  },
  {
   "cell_type": "code",
   "execution_count": 22,
   "metadata": {},
   "outputs": [],
   "source": [
    "train_losses = []\n",
    "test_losses = []\n",
    "train_accuracies = []\n",
    "test_accuracies = []\n",
    "\n",
    "\n",
    "def train(dataloader, model, loss_fn, optimizer):\n",
    "    size = len(dataloader.dataset)\n",
    "    model.train()\n",
    "    total_loss, correct = 0, 0  # Track the total loss for the epoch\n",
    "\n",
    "    for batch, (X, y) in enumerate(dataloader):\n",
    "        X, y = X.to(device), y.to(device)\n",
    "\n",
    "        # Compute prediction error\n",
    "        pred = model(X)\n",
    "        loss = loss_fn(pred, y)\n",
    "        total_loss += loss.item()  # Accumulate loss\n",
    "    \n",
    "        # Backpropagation\n",
    "        model.zero_grad()\n",
    "        loss.backward()\n",
    "        optimizer.step()\n",
    "\n",
    "        # Calculate accuracy\n",
    "        correct += (pred.argmax(1) == y).type(torch.float).sum().item()\n",
    "\n",
    "        if batch % 100 == 0:\n",
    "            loss, current = loss.item(), (batch + 1) * len(X)\n",
    "            print(f\"loss: {loss:>7f}  [{current:>5d}/{size:>5d}]\")\n",
    "    avg_loss = total_loss / len(dataloader)  # Calculate average loss for the epoch\n",
    "    avg_accuracy = correct / size\n",
    "\n",
    "    train_losses.append(avg_loss)  # Store the average loss for the epoch\n",
    "    train_accuracies.append(avg_accuracy) # Store the average accuracy for the epoch\n",
    "\n",
    "    print(f\"Train loss: {avg_loss:>7f}, Accuracy: {(100*avg_accuracy):>0.1f}%\")"
   ]
  },
  {
   "cell_type": "code",
   "execution_count": 23,
   "metadata": {},
   "outputs": [],
   "source": [
    "def test(dataloader, model, loss_fn):\n",
    "    size = len(dataloader.dataset)\n",
    "    num_batches = len(dataloader)\n",
    "    model.eval()\n",
    "    test_loss, correct = 0, 0\n",
    "    with torch.no_grad():\n",
    "        for X, y in dataloader:\n",
    "            X, y = X.to(device), y.to(device)\n",
    "            pred = model(X)\n",
    "            test_loss += loss_fn(pred, y).item()\n",
    "            correct += (pred.argmax(1) == y).type(torch.float).sum().item()\n",
    "    test_loss /= num_batches\n",
    "    correct /= size\n",
    "    test_losses.append(test_loss)  # Store the test loss for the epoch\n",
    "    test_accuracies.append(correct)\n",
    "\n",
    "    print(f\"Test Error: \\n Avg loss: {test_loss:>8f}, Accuracy: {(100*correct):>0.1f}% \\n\")"
   ]
  },
  {
   "cell_type": "code",
   "execution_count": 24,
   "metadata": {},
   "outputs": [
    {
     "name": "stdout",
     "output_type": "stream",
     "text": [
      "Epoch 1\n",
      "-------------------------------\n"
     ]
    },
    {
     "name": "stderr",
     "output_type": "stream",
     "text": [
      "c:\\repositories\\DeepLearning\\.venv\\lib\\site-packages\\torch\\optim\\sgd.py:360: UserWarning: The operator 'aten::_foreach_add_.List' is not currently supported on the DML backend and will fall back to run on the CPU. This may have performance implications. (Triggered internally at C:\\__w\\1\\s\\pytorch-directml-plugin\\torch_directml\\csrc\\dml\\dml_cpu_fallback.cpp:17.)\n",
      "  torch._foreach_add_(device_params, device_grads, alpha=-lr)\n"
     ]
    },
    {
     "name": "stdout",
     "output_type": "stream",
     "text": [
      "loss: 2.311374  [   64/60000]\n",
      "loss: 2.293202  [ 6464/60000]\n",
      "loss: 2.295362  [12864/60000]\n",
      "loss: 2.297392  [19264/60000]\n",
      "loss: 2.313461  [25664/60000]\n",
      "loss: 2.305166  [32064/60000]\n",
      "loss: 2.299293  [38464/60000]\n",
      "loss: 2.308156  [44864/60000]\n",
      "loss: 2.297099  [51264/60000]\n",
      "loss: 2.290226  [57664/60000]\n",
      "Train loss: 2.304168, Accuracy: 14.6%\n",
      "Test Error: \n",
      " Avg loss: 2.302864, Accuracy: 16.9% \n",
      "\n",
      "Epoch 2\n",
      "-------------------------------\n",
      "loss: 2.308061  [   64/60000]\n",
      "loss: 2.292922  [ 6464/60000]\n",
      "loss: 2.295263  [12864/60000]\n",
      "loss: 2.296159  [19264/60000]\n",
      "loss: 2.311467  [25664/60000]\n",
      "loss: 2.304433  [32064/60000]\n",
      "loss: 2.296962  [38464/60000]\n",
      "loss: 2.307132  [44864/60000]\n",
      "loss: 2.296688  [51264/60000]\n",
      "loss: 2.289227  [57664/60000]\n",
      "Train loss: 2.302292, Accuracy: 16.3%\n",
      "Test Error: \n",
      " Avg loss: 2.301076, Accuracy: 16.4% \n",
      "\n",
      "Epoch 3\n",
      "-------------------------------\n",
      "loss: 2.305179  [   64/60000]\n",
      "loss: 2.292611  [ 6464/60000]\n",
      "loss: 2.295113  [12864/60000]\n",
      "loss: 2.295108  [19264/60000]\n",
      "loss: 2.309602  [25664/60000]\n",
      "loss: 2.303690  [32064/60000]\n",
      "loss: 2.294770  [38464/60000]\n",
      "loss: 2.306260  [44864/60000]\n",
      "loss: 2.296185  [51264/60000]\n",
      "loss: 2.288141  [57664/60000]\n",
      "Train loss: 2.300586, Accuracy: 14.9%\n",
      "Test Error: \n",
      " Avg loss: 2.299330, Accuracy: 14.8% \n",
      "\n",
      "Epoch 4\n",
      "-------------------------------\n",
      "loss: 2.302524  [   64/60000]\n",
      "loss: 2.292126  [ 6464/60000]\n",
      "loss: 2.294688  [12864/60000]\n",
      "loss: 2.293957  [19264/60000]\n",
      "loss: 2.307694  [25664/60000]\n",
      "loss: 2.302798  [32064/60000]\n",
      "loss: 2.292455  [38464/60000]\n",
      "loss: 2.305328  [44864/60000]\n",
      "loss: 2.295468  [51264/60000]\n",
      "loss: 2.286819  [57664/60000]\n",
      "Train loss: 2.298839, Accuracy: 13.8%\n",
      "Test Error: \n",
      " Avg loss: 2.297438, Accuracy: 14.0% \n",
      "\n",
      "Epoch 5\n",
      "-------------------------------\n",
      "loss: 2.299910  [   64/60000]\n",
      "loss: 2.291433  [ 6464/60000]\n",
      "loss: 2.293993  [12864/60000]\n",
      "loss: 2.292579  [19264/60000]\n",
      "loss: 2.305581  [25664/60000]\n",
      "loss: 2.301593  [32064/60000]\n",
      "loss: 2.289853  [38464/60000]\n",
      "loss: 2.304127  [44864/60000]\n",
      "loss: 2.294327  [51264/60000]\n",
      "loss: 2.285044  [57664/60000]\n",
      "Train loss: 2.296856, Accuracy: 16.6%\n",
      "Test Error: \n",
      " Avg loss: 2.295161, Accuracy: 21.8% \n",
      "\n",
      "Epoch 6\n",
      "-------------------------------\n",
      "loss: 2.297028  [   64/60000]\n",
      "loss: 2.290231  [ 6464/60000]\n",
      "loss: 2.292906  [12864/60000]\n",
      "loss: 2.290601  [19264/60000]\n",
      "loss: 2.302844  [25664/60000]\n",
      "loss: 2.299796  [32064/60000]\n",
      "loss: 2.286496  [38464/60000]\n",
      "loss: 2.302350  [44864/60000]\n",
      "loss: 2.292337  [51264/60000]\n",
      "loss: 2.282557  [57664/60000]\n",
      "Train loss: 2.294319, Accuracy: 23.0%\n",
      "Test Error: \n",
      " Avg loss: 2.292073, Accuracy: 24.1% \n",
      "\n",
      "Epoch 7\n",
      "-------------------------------\n",
      "loss: 2.293387  [   64/60000]\n",
      "loss: 2.288136  [ 6464/60000]\n",
      "loss: 2.291070  [12864/60000]\n",
      "loss: 2.287547  [19264/60000]\n",
      "loss: 2.298883  [25664/60000]\n",
      "loss: 2.296753  [32064/60000]\n",
      "loss: 2.281605  [38464/60000]\n",
      "loss: 2.299580  [44864/60000]\n",
      "loss: 2.288884  [51264/60000]\n",
      "loss: 2.278563  [57664/60000]\n",
      "Train loss: 2.290674, Accuracy: 24.1%\n",
      "Test Error: \n",
      " Avg loss: 2.287415, Accuracy: 27.2% \n",
      "\n",
      "Epoch 8\n",
      "-------------------------------\n",
      "loss: 2.288172  [   64/60000]\n",
      "loss: 2.284513  [ 6464/60000]\n",
      "loss: 2.287845  [12864/60000]\n",
      "loss: 2.282289  [19264/60000]\n",
      "loss: 2.292555  [25664/60000]\n",
      "loss: 2.291564  [32064/60000]\n",
      "loss: 2.273990  [38464/60000]\n",
      "loss: 2.295210  [44864/60000]\n",
      "loss: 2.282762  [51264/60000]\n",
      "loss: 2.271498  [57664/60000]\n",
      "Train loss: 2.284929, Accuracy: 29.8%\n",
      "Test Error: \n",
      " Avg loss: 2.279837, Accuracy: 34.6% \n",
      "\n",
      "Epoch 9\n",
      "-------------------------------\n",
      "loss: 2.280124  [   64/60000]\n",
      "loss: 2.277876  [ 6464/60000]\n",
      "loss: 2.282043  [12864/60000]\n",
      "loss: 2.272943  [19264/60000]\n",
      "loss: 2.282362  [25664/60000]\n",
      "loss: 2.282644  [32064/60000]\n",
      "loss: 2.260819  [38464/60000]\n",
      "loss: 2.287432  [44864/60000]\n",
      "loss: 2.271872  [51264/60000]\n",
      "loss: 2.258015  [57664/60000]\n",
      "Train loss: 2.275198, Accuracy: 37.8%\n",
      "Test Error: \n",
      " Avg loss: 2.266618, Accuracy: 43.1% \n",
      "\n",
      "Epoch 10\n",
      "-------------------------------\n",
      "loss: 2.266501  [   64/60000]\n",
      "loss: 2.265427  [ 6464/60000]\n",
      "loss: 2.271472  [12864/60000]\n",
      "loss: 2.255928  [19264/60000]\n",
      "loss: 2.264562  [25664/60000]\n",
      "loss: 2.265530  [32064/60000]\n",
      "loss: 2.236894  [38464/60000]\n",
      "loss: 2.273226  [44864/60000]\n",
      "loss: 2.251020  [51264/60000]\n",
      "loss: 2.232157  [57664/60000]\n",
      "Train loss: 2.257516, Accuracy: 44.7%\n",
      "Test Error: \n",
      " Avg loss: 2.241275, Accuracy: 47.5% \n",
      "\n",
      "Epoch 11\n",
      "-------------------------------\n",
      "loss: 2.241471  [   64/60000]\n",
      "loss: 2.240076  [ 6464/60000]\n",
      "loss: 2.249778  [12864/60000]\n",
      "loss: 2.221027  [19264/60000]\n",
      "loss: 2.228693  [25664/60000]\n",
      "loss: 2.229527  [32064/60000]\n",
      "loss: 2.185079  [38464/60000]\n",
      "loss: 2.239714  [44864/60000]\n",
      "loss: 2.200960  [51264/60000]\n",
      "loss: 2.170239  [57664/60000]\n",
      "Train loss: 2.219349, Accuracy: 46.8%\n",
      "Test Error: \n",
      " Avg loss: 2.180260, Accuracy: 47.7% \n",
      "\n",
      "Epoch 12\n",
      "-------------------------------\n",
      "loss: 2.182809  [   64/60000]\n",
      "loss: 2.171448  [ 6464/60000]\n",
      "loss: 2.192656  [12864/60000]\n",
      "loss: 2.126398  [19264/60000]\n",
      "loss: 2.139483  [25664/60000]\n",
      "loss: 2.122835  [32064/60000]\n",
      "loss: 2.025087  [38464/60000]\n",
      "loss: 2.135839  [44864/60000]\n",
      "loss: 2.039256  [51264/60000]\n",
      "loss: 1.954303  [57664/60000]\n",
      "Train loss: 2.106885, Accuracy: 47.8%\n",
      "Test Error: \n",
      " Avg loss: 1.973049, Accuracy: 51.4% \n",
      "\n",
      "Epoch 13\n",
      "-------------------------------\n",
      "loss: 1.989252  [   64/60000]\n",
      "loss: 1.907189  [ 6464/60000]\n",
      "loss: 1.972983  [12864/60000]\n",
      "loss: 1.798363  [19264/60000]\n",
      "loss: 1.810912  [25664/60000]\n",
      "loss: 1.709524  [32064/60000]\n",
      "loss: 1.488104  [38464/60000]\n",
      "loss: 1.735013  [44864/60000]\n",
      "loss: 1.517447  [51264/60000]\n",
      "loss: 1.315535  [57664/60000]\n",
      "Train loss: 1.714414, Accuracy: 56.8%\n",
      "Test Error: \n",
      " Avg loss: 1.339749, Accuracy: 66.2% \n",
      "\n",
      "Epoch 14\n",
      "-------------------------------\n",
      "loss: 1.426744  [   64/60000]\n",
      "loss: 1.186961  [ 6464/60000]\n",
      "loss: 1.291119  [12864/60000]\n",
      "loss: 1.088836  [19264/60000]\n",
      "loss: 1.062242  [25664/60000]\n",
      "loss: 0.965277  [32064/60000]\n",
      "loss: 0.829666  [38464/60000]\n",
      "loss: 1.083172  [44864/60000]\n",
      "loss: 0.929186  [51264/60000]\n",
      "loss: 0.805025  [57664/60000]\n",
      "Train loss: 1.046376, Accuracy: 72.0%\n",
      "Test Error: \n",
      " Avg loss: 0.783547, Accuracy: 78.1% \n",
      "\n",
      "Epoch 15\n",
      "-------------------------------\n",
      "loss: 0.882927  [   64/60000]\n",
      "loss: 0.689649  [ 6464/60000]\n",
      "loss: 0.762878  [12864/60000]\n",
      "loss: 0.654770  [19264/60000]\n",
      "loss: 0.693076  [25664/60000]\n",
      "loss: 0.621338  [32064/60000]\n",
      "loss: 0.563101  [38464/60000]\n",
      "loss: 0.758487  [44864/60000]\n",
      "loss: 0.685201  [51264/60000]\n",
      "loss: 0.644073  [57664/60000]\n",
      "Train loss: 0.689070, Accuracy: 80.1%\n",
      "Test Error: \n",
      " Avg loss: 0.585716, Accuracy: 83.3% \n",
      "\n",
      "Done!\n"
     ]
    }
   ],
   "source": [
    "epochs = 15\n",
    "for t in range(epochs):\n",
    "    print(f\"Epoch {t+1}\\n-------------------------------\")\n",
    "    train(train_dataloader, model, loss_fn, optimizer)\n",
    "    test(test_dataloader, model, loss_fn)\n",
    "print(\"Done!\")"
   ]
  },
  {
   "cell_type": "code",
   "execution_count": 25,
   "metadata": {},
   "outputs": [
    {
     "data": {
      "image/png": "[encoded data removed]",
      "text/plain": [
       "<Figure size 640x480 with 1 Axes>"
      ]
     },
     "metadata": {},
     "output_type": "display_data"
    },
    {
     "data": {
      "image/png": "[encoded data removed]",
      "text/plain": [
       "<Figure size 640x480 with 1 Axes>"
      ]
     },
     "metadata": {},
     "output_type": "display_data"
    }
   ],
   "source": [
    "plt.subplot(2,1,1)\n",
    "plt.plot(range(1, epochs+1), train_losses, label=\"Train Loss\")\n",
    "plt.plot(range(1, epochs+1), test_losses, label=\"Test Loss\")\n",
    "plt.xlabel(\"Epochs\")\n",
    "plt.ylabel(\"Loss\")\n",
    "plt.title(\"Training and Testing Loss over Epochs\")\n",
    "plt.legend()\n",
    "plt.show()\n",
    "\n",
    "plt.subplot(2,1,2)\n",
    "plt.plot(range(1, epochs+1), train_accuracies, label=\"Train Accuracy\")\n",
    "plt.plot(range(1, epochs+1), test_accuracies, label=\"Test Accuracy\")\n",
    "plt.xlabel(\"Epochs\")\n",
    "plt.ylabel(\"Accuracy\")\n",
    "plt.title(\"Training and Testing Accuracy over Epochs\")\n",
    "plt.legend()\n",
    "plt.show()\n"
   ]
  },
  {
   "cell_type": "code",
   "execution_count": 26,
   "metadata": {},
   "outputs": [
    {
     "name": "stdout",
     "output_type": "stream",
     "text": [
      "Predicted: \"7 - seven\", Actual: \"7 - seven\"\n"
     ]
    },
    {
     "data": {
      "image/png": "[encoded data removed]",
      "text/plain": [
       "<Figure size 640x480 with 1 Axes>"
      ]
     },
     "metadata": {},
     "output_type": "display_data"
    }
   ],
   "source": [
    "model.eval()\n",
    "idx = 0\n",
    "x, y = test_data[idx][0], test_data[idx][1]\n",
    "plt.imshow(x.permute(1,2,0), cmap = 'gray')\n",
    "with torch.no_grad():\n",
    "    x = x.to(device)\n",
    "    pred = model(x.unsqueeze(0))\n",
    "    predicted, actual = classes[pred[0].argmax(0)], classes[y]\n",
    "    print(f'Predicted: \"{predicted}\", Actual: \"{actual}\"')\n"
   ]
  },
  {
   "cell_type": "code",
   "execution_count": 27,
   "metadata": {},
   "outputs": [
    {
     "data": {
      "image/png": "[encoded data removed]",
      "text/plain": [
       "<Figure size 640x480 with 1 Axes>"
      ]
     },
     "metadata": {},
     "output_type": "display_data"
    },
    {
     "name": "stdout",
     "output_type": "stream",
     "text": [
      "Predicted: \"6 - six\", Actual: \"5 - five\"\n"
     ]
    }
   ],
   "source": [
    "import matplotlib.pyplot as plt\n",
    "\n",
    "# Function to display the image and its prediction\n",
    "def show_prediction(idx):\n",
    "    model.eval()  # Set the model to evaluation mode\n",
    "    x, y = test_data[idx][0], test_data[idx][1]  # Get image and label by index\n",
    "    \n",
    "    # Display the image\n",
    "    plt.imshow(x.permute(1, 2, 0), cmap='gray')\n",
    "    plt.title(f\"Actual: {classes[y]}\")\n",
    "    plt.show()\n",
    "\n",
    "    # Move the image tensor to the correct device\n",
    "    with torch.no_grad():\n",
    "        x = x.to(device)  # Move input to the device (e.g., DirectML or CPU)\n",
    "        pred = model(x.unsqueeze(0))  # Add batch dimension and make a prediction\n",
    "        \n",
    "        # Get predicted and actual classes\n",
    "        predicted, actual = classes[pred[0].argmax(0)], classes[y]\n",
    "        print(f'Predicted: \"{predicted}\", Actual: \"{actual}\"')\n",
    "\n",
    "# Example usage: Show prediction for a specific image (e.g., idx = 10)\n",
    "idx = 8\n",
    "show_prediction(idx)"
   ]
  },
  {
   "cell_type": "code",
   "execution_count": null,
   "metadata": {},
   "outputs": [],
   "source": []
  }
 ],
 "metadata": {
  "kernelspec": {
   "display_name": ".venv",
   "language": "python",
   "name": "python3"
  },
  "language_info": {
   "codemirror_mode": {
    "name": "ipython",
    "version": 3
   },
   "file_extension": ".py",
   "mimetype": "text/x-python",
   "name": "python",
   "nbconvert_exporter": "python",
   "pygments_lexer": "ipython3",
   "version": "3.10.11"
  }
 },
 "nbformat": 4,
 "nbformat_minor": 2
}
