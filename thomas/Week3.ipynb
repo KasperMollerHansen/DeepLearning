{
 "cells": [
  {
   "cell_type": "markdown",
   "metadata": {},
   "source": [
    "# Part 1"
   ]
  },
  {
   "cell_type": "code",
   "execution_count": 1,
   "metadata": {},
   "outputs": [],
   "source": [
    "import torch\n",
    "from torch import nn\n",
    "from torch.utils.data import DataLoader\n",
    "from torchvision import datasets\n",
    "from torchvision.transforms import ToTensor\n",
    "import matplotlib.pyplot as plt\n",
    "from torchsummary import summary"
   ]
  },
  {
   "cell_type": "code",
   "execution_count": 2,
   "metadata": {},
   "outputs": [
    {
     "name": "stdout",
     "output_type": "stream",
     "text": [
      "Downloading http://yann.lecun.com/exdb/mnist/train-images-idx3-ubyte.gz\n",
      "Failed to download (trying next):\n",
      "HTTP Error 403: Forbidden\n",
      "\n",
      "Downloading https://ossci-datasets.s3.amazonaws.com/mnist/train-images-idx3-ubyte.gz\n",
      "Downloading https://ossci-datasets.s3.amazonaws.com/mnist/train-images-idx3-ubyte.gz to data\\MNIST\\raw\\train-images-idx3-ubyte.gz\n"
     ]
    },
    {
     "name": "stderr",
     "output_type": "stream",
     "text": [
      "100.0%\n"
     ]
    },
    {
     "name": "stdout",
     "output_type": "stream",
     "text": [
      "Extracting data\\MNIST\\raw\\train-images-idx3-ubyte.gz to data\\MNIST\\raw\n",
      "\n",
      "Downloading http://yann.lecun.com/exdb/mnist/train-labels-idx1-ubyte.gz\n",
      "Failed to download (trying next):\n",
      "HTTP Error 403: Forbidden\n",
      "\n",
      "Downloading https://ossci-datasets.s3.amazonaws.com/mnist/train-labels-idx1-ubyte.gz\n",
      "Downloading https://ossci-datasets.s3.amazonaws.com/mnist/train-labels-idx1-ubyte.gz to data\\MNIST\\raw\\train-labels-idx1-ubyte.gz\n"
     ]
    },
    {
     "name": "stderr",
     "output_type": "stream",
     "text": [
      "100.0%\n"
     ]
    },
    {
     "name": "stdout",
     "output_type": "stream",
     "text": [
      "Extracting data\\MNIST\\raw\\train-labels-idx1-ubyte.gz to data\\MNIST\\raw\n",
      "\n",
      "Downloading http://yann.lecun.com/exdb/mnist/t10k-images-idx3-ubyte.gz\n",
      "Failed to download (trying next):\n",
      "HTTP Error 403: Forbidden\n",
      "\n",
      "Downloading https://ossci-datasets.s3.amazonaws.com/mnist/t10k-images-idx3-ubyte.gz\n",
      "Downloading https://ossci-datasets.s3.amazonaws.com/mnist/t10k-images-idx3-ubyte.gz to data\\MNIST\\raw\\t10k-images-idx3-ubyte.gz\n"
     ]
    },
    {
     "name": "stderr",
     "output_type": "stream",
     "text": [
      "100.0%\n"
     ]
    },
    {
     "name": "stdout",
     "output_type": "stream",
     "text": [
      "Extracting data\\MNIST\\raw\\t10k-images-idx3-ubyte.gz to data\\MNIST\\raw\n",
      "\n",
      "Downloading http://yann.lecun.com/exdb/mnist/t10k-labels-idx1-ubyte.gz\n",
      "Failed to download (trying next):\n",
      "HTTP Error 403: Forbidden\n",
      "\n",
      "Downloading https://ossci-datasets.s3.amazonaws.com/mnist/t10k-labels-idx1-ubyte.gz\n",
      "Downloading https://ossci-datasets.s3.amazonaws.com/mnist/t10k-labels-idx1-ubyte.gz to data\\MNIST\\raw\\t10k-labels-idx1-ubyte.gz\n"
     ]
    },
    {
     "name": "stderr",
     "output_type": "stream",
     "text": [
      "100.0%"
     ]
    },
    {
     "name": "stdout",
     "output_type": "stream",
     "text": [
      "Extracting data\\MNIST\\raw\\t10k-labels-idx1-ubyte.gz to data\\MNIST\\raw\n",
      "\n"
     ]
    },
    {
     "name": "stderr",
     "output_type": "stream",
     "text": [
      "\n"
     ]
    }
   ],
   "source": [
    "# Download training data from open datasets.\n",
    "training_data = datasets.MNIST(\n",
    "    root=\"data\",\n",
    "    train=True,\n",
    "    download=True,\n",
    "    transform=ToTensor(),\n",
    ")\n",
    "\n",
    "# Download test data from open datasets.\n",
    "test_data = datasets.MNIST(\n",
    "    root=\"data\",\n",
    "    train=False,\n",
    "    download=True,\n",
    "    transform=ToTensor(),\n",
    ")"
   ]
  },
  {
   "cell_type": "code",
   "execution_count": 3,
   "metadata": {},
   "outputs": [
    {
     "name": "stdout",
     "output_type": "stream",
     "text": [
      "['0 - zero', '1 - one', '2 - two', '3 - three', '4 - four', '5 - five', '6 - six', '7 - seven', '8 - eight', '9 - nine']\n",
      "Number of samples in the training data: 60000\n",
      "Number of samples in the test data: 10000\n"
     ]
    }
   ],
   "source": [
    "classes = training_data.classes\n",
    "print(classes)\n",
    "\n",
    "num_training_samples = len(training_data)\n",
    "print(f\"Number of samples in the training data: {num_training_samples}\")\n",
    "\n",
    "num_test_samples = len(test_data)\n",
    "print(f\"Number of samples in the test data: {num_test_samples}\")"
   ]
  },
  {
   "cell_type": "code",
   "execution_count": 4,
   "metadata": {},
   "outputs": [
    {
     "name": "stdout",
     "output_type": "stream",
     "text": [
      "Shape of X [N, C, H, W]: torch.Size([64, 1, 28, 28])\n",
      "Shape of y: torch.Size([64]) torch.int64\n"
     ]
    },
    {
     "data": {
      "image/png": "[encoded data removed]",
      "text/plain": [
       "<Figure size 1000x1000 with 6 Axes>"
      ]
     },
     "metadata": {},
     "output_type": "display_data"
    }
   ],
   "source": [
    "batch_size = 64 # we will talk about it later\n",
    "\n",
    "# Create data loaders.\n",
    "train_dataloader = DataLoader(training_data, batch_size=batch_size)\n",
    "test_dataloader = DataLoader(test_data, batch_size=batch_size)\n",
    "\n",
    "for X, y in train_dataloader:\n",
    "    print(f\"Shape of X [N, C, H, W]: {X.shape}\")\n",
    "    print(f\"Shape of y: {y.shape} {y.dtype}\")\n",
    "\n",
    "    fig, axes = plt.subplots(1, 6, figsize=(10, 10))\n",
    "    axes = axes.flatten()\n",
    "\n",
    "    for i in range(6):\n",
    "        img = X[i].squeeze().numpy()\n",
    "        axes[i].imshow(img, cmap=\"gray\")\n",
    "        axes[i].set_title(f\"Label: {y[i]}\")\n",
    "        axes[i].axis('off')\n",
    "\n",
    "    plt.tight_layout()\n",
    "    plt.show()\n",
    "\n",
    "    break"
   ]
  },
  {
   "cell_type": "code",
   "execution_count": 5,
   "metadata": {},
   "outputs": [
    {
     "name": "stdout",
     "output_type": "stream",
     "text": [
      "Using cpu device\n",
      "NeuralNetwork(\n",
      "  (flatten): Flatten(start_dim=1, end_dim=-1)\n",
      "  (linear_relu_stack): Sequential(\n",
      "    (0): Linear(in_features=784, out_features=512, bias=True)\n",
      "    (1): ReLU(inplace=True)\n",
      "    (2): Linear(in_features=512, out_features=512, bias=True)\n",
      "    (3): ReLU(inplace=True)\n",
      "    (4): Linear(in_features=512, out_features=10, bias=True)\n",
      "  )\n",
      ")\n"
     ]
    }
   ],
   "source": [
    "# Get cpu, gpu or mps device for training.\n",
    "device = (\n",
    "    \"cuda\" if torch.cuda.is_available()\n",
    "     else \"cpu\"\n",
    ")\n",
    "print(f\"Using {device} device\")\n",
    "\n",
    "# Define model\n",
    "class NeuralNetwork(nn.Module):\n",
    "    def __init__(self):\n",
    "        super().__init__()\n",
    "        self.flatten = nn.Flatten()\n",
    "        self.linear_relu_stack = nn.Sequential(\n",
    "            nn.Linear(28*28, 512),\n",
    "            nn.ReLU(inplace=True),\n",
    "            nn.Linear(512, 512),\n",
    "            nn.ReLU(inplace=True),\n",
    "            nn.Linear(512, 10)\n",
    "        )\n",
    "\n",
    "    def forward(self, x):\n",
    "        x = self.flatten(x)\n",
    "        logits = self.linear_relu_stack(x)\n",
    "        return logits\n",
    "\n",
    "model = NeuralNetwork().to(device)\n",
    "print(model)"
   ]
  },
  {
   "cell_type": "code",
   "execution_count": 6,
   "metadata": {},
   "outputs": [
    {
     "name": "stdout",
     "output_type": "stream",
     "text": [
      "----------------------------------------------------------------\n",
      "        Layer (type)               Output Shape         Param #\n",
      "================================================================\n",
      "           Flatten-1                  [-1, 784]               0\n",
      "            Linear-2                  [-1, 512]         401,920\n",
      "              ReLU-3                  [-1, 512]               0\n",
      "            Linear-4                  [-1, 512]         262,656\n",
      "              ReLU-5                  [-1, 512]               0\n",
      "            Linear-6                   [-1, 10]           5,130\n",
      "================================================================\n",
      "Total params: 669,706\n",
      "Trainable params: 669,706\n",
      "Non-trainable params: 0\n",
      "----------------------------------------------------------------\n",
      "Input size (MB): 0.00\n",
      "Forward/backward pass size (MB): 0.02\n",
      "Params size (MB): 2.55\n",
      "Estimated Total Size (MB): 2.58\n",
      "----------------------------------------------------------------\n"
     ]
    }
   ],
   "source": [
    "summary(model, input_size=(1, 28, 28), device=device)"
   ]
  },
  {
   "cell_type": "code",
   "execution_count": 9,
   "metadata": {},
   "outputs": [],
   "source": [
    "loss_fn = nn.CrossEntropyLoss()\n",
    "optimizer = torch.optim.SGD(model.parameters(), lr=1e-3) # Let's use stocastic gradient descent (We will talk about it in the coming weeks)"
   ]
  },
  {
   "cell_type": "code",
   "execution_count": 10,
   "metadata": {},
   "outputs": [],
   "source": [
    "train_losses = []\n",
    "test_losses = []\n",
    "train_accuracies = []\n",
    "test_accuracies = []\n",
    "\n",
    "\n",
    "def train(dataloader, model, loss_fn, optimizer):\n",
    "    size = len(dataloader.dataset)\n",
    "    model.train()\n",
    "    total_loss, correct = 0, 0  # Track the total loss for the epoch\n",
    "\n",
    "    for batch, (X, y) in enumerate(dataloader):\n",
    "        X, y = X.to(device), y.to(device)\n",
    "\n",
    "        # Compute prediction error\n",
    "        pred = model(X)\n",
    "        loss = loss_fn(pred, y)\n",
    "        total_loss += loss.item()  # Accumulate loss\n",
    "\n",
    "        # Backpropagation\n",
    "        loss.backward()\n",
    "        optimizer.step()\n",
    "        optimizer.zero_grad()\n",
    "\n",
    "        # Calculate accuracy\n",
    "        correct += (pred.argmax(1) == y).type(torch.float).sum().item()\n",
    "\n",
    "        if batch % 100 == 0:\n",
    "            loss, current = loss.item(), (batch + 1) * len(X)\n",
    "            print(f\"loss: {loss:>7f}  [{current:>5d}/{size:>5d}]\")\n",
    "    avg_loss = total_loss / len(dataloader)  # Calculate average loss for the epoch\n",
    "    avg_accuracy = correct / size\n",
    "\n",
    "    train_losses.append(avg_loss)  # Store the average loss for the epoch\n",
    "    train_accuracies.append(avg_accuracy) # Store the average accuracy for the epoch\n",
    "\n",
    "    print(f\"Train loss: {avg_loss:>7f}, Accuracy: {(100*avg_accuracy):>0.1f}%\")"
   ]
  },
  {
   "cell_type": "code",
   "execution_count": 11,
   "metadata": {},
   "outputs": [],
   "source": [
    "def test(dataloader, model, loss_fn):\n",
    "    size = len(dataloader.dataset)\n",
    "    num_batches = len(dataloader)\n",
    "    model.eval()\n",
    "    test_loss, correct = 0, 0\n",
    "    with torch.no_grad():\n",
    "        for X, y in dataloader:\n",
    "            X, y = X.to(device), y.to(device)\n",
    "            pred = model(X)\n",
    "            test_loss += loss_fn(pred, y).item()\n",
    "            correct += (pred.argmax(1) == y).type(torch.float).sum().item()\n",
    "    test_loss /= num_batches\n",
    "    correct /= size\n",
    "    test_losses.append(test_loss)  # Store the test loss for the epoch\n",
    "    test_accuracies.append(correct)\n",
    "\n",
    "    print(f\"Test Error: \\n Avg loss: {test_loss:>8f}, Accuracy: {(100*correct):>0.1f}% \\n\")\n"
   ]
  },
  {
   "cell_type": "code",
   "execution_count": 12,
   "metadata": {},
   "outputs": [
    {
     "name": "stdout",
     "output_type": "stream",
     "text": [
      "Epoch 1\n",
      "-------------------------------\n",
      "loss: 2.303144  [   64/60000]\n",
      "loss: 2.305617  [ 6464/60000]\n",
      "loss: 2.304868  [12864/60000]\n",
      "loss: 2.293095  [19264/60000]\n",
      "loss: 2.288146  [25664/60000]\n",
      "loss: 2.283595  [32064/60000]\n",
      "loss: 2.267622  [38464/60000]\n",
      "loss: 2.285887  [44864/60000]\n",
      "loss: 2.273601  [51264/60000]\n",
      "loss: 2.263497  [57664/60000]\n",
      "Train loss: 2.283917, Accuracy: 27.6%\n",
      "Test Error: \n",
      " Avg loss: 2.262055, Accuracy: 34.9% \n",
      "\n",
      "Epoch 2\n",
      "-------------------------------\n",
      "loss: 2.259858  [   64/60000]\n",
      "loss: 2.260200  [ 6464/60000]\n",
      "loss: 2.268516  [12864/60000]\n",
      "loss: 2.236197  [19264/60000]\n",
      "loss: 2.245085  [25664/60000]\n",
      "loss: 2.239758  [32064/60000]\n",
      "loss: 2.213222  [38464/60000]\n",
      "loss: 2.245093  [44864/60000]\n",
      "loss: 2.217285  [51264/60000]\n",
      "loss: 2.202762  [57664/60000]\n",
      "Train loss: 2.236233, Accuracy: 39.0%\n",
      "Test Error: \n",
      " Avg loss: 2.203408, Accuracy: 44.5% \n",
      "\n",
      "Epoch 3\n",
      "-------------------------------\n",
      "loss: 2.199300  [   64/60000]\n",
      "loss: 2.194442  [ 6464/60000]\n",
      "loss: 2.216723  [12864/60000]\n",
      "loss: 2.152393  [19264/60000]\n",
      "loss: 2.177794  [25664/60000]\n",
      "loss: 2.168422  [32064/60000]\n",
      "loss: 2.124960  [38464/60000]\n",
      "loss: 2.175868  [44864/60000]\n",
      "loss: 2.124599  [51264/60000]\n",
      "loss: 2.102995  [57664/60000]\n",
      "Train loss: 2.161140, Accuracy: 51.8%\n",
      "Test Error: \n",
      " Avg loss: 2.103981, Accuracy: 58.3% \n",
      "\n",
      "Epoch 4\n",
      "-------------------------------\n",
      "loss: 2.097268  [   64/60000]\n",
      "loss: 2.081429  [ 6464/60000]\n",
      "loss: 2.126072  [12864/60000]\n",
      "loss: 2.013251  [19264/60000]\n",
      "loss: 2.059856  [25664/60000]\n",
      "loss: 2.041823  [32064/60000]\n",
      "loss: 1.971949  [38464/60000]\n",
      "loss: 2.053366  [44864/60000]\n",
      "loss: 1.965625  [51264/60000]\n",
      "loss: 1.932891  [57664/60000]\n",
      "Train loss: 2.030861, Accuracy: 61.8%\n",
      "Test Error: \n",
      " Avg loss: 1.932385, Accuracy: 66.0% \n",
      "\n",
      "Epoch 5\n",
      "-------------------------------\n",
      "loss: 1.925715  [   64/60000]\n",
      "loss: 1.889978  [ 6464/60000]\n",
      "loss: 1.962325  [12864/60000]\n",
      "loss: 1.793519  [19264/60000]\n",
      "loss: 1.854019  [25664/60000]\n",
      "loss: 1.826254  [32064/60000]\n",
      "loss: 1.729432  [38464/60000]\n",
      "loss: 1.853668  [44864/60000]\n",
      "loss: 1.717576  [51264/60000]\n",
      "loss: 1.674804  [57664/60000]\n",
      "Train loss: 1.817195, Accuracy: 68.3%\n",
      "Test Error: \n",
      " Avg loss: 1.667496, Accuracy: 71.2% \n",
      "\n",
      "Done!\n"
     ]
    }
   ],
   "source": [
    "epochs = 5\n",
    "for t in range(epochs):\n",
    "    print(f\"Epoch {t+1}\\n-------------------------------\")\n",
    "    train(train_dataloader, model, loss_fn, optimizer)\n",
    "    test(test_dataloader, model, loss_fn)\n",
    "print(\"Done!\")\n"
   ]
  },
  {
   "cell_type": "code",
   "execution_count": 13,
   "metadata": {},
   "outputs": [
    {
     "data": {
      "image/png": "[encoded data removed]",
      "text/plain": [
       "<Figure size 640x480 with 1 Axes>"
      ]
     },
     "metadata": {},
     "output_type": "display_data"
    },
    {
     "data": {
      "image/png": "[encoded data removed]",
      "text/plain": [
       "<Figure size 640x480 with 1 Axes>"
      ]
     },
     "metadata": {},
     "output_type": "display_data"
    }
   ],
   "source": [
    "plt.subplot(2,1,1)\n",
    "plt.plot(range(1, epochs+1), train_losses, label=\"Train Loss\")\n",
    "plt.plot(range(1, epochs+1), test_losses, label=\"Test Loss\")\n",
    "plt.xlabel(\"Epochs\")\n",
    "plt.ylabel(\"Loss\")\n",
    "plt.title(\"Training and Testing Loss over Epochs\")\n",
    "plt.legend()\n",
    "plt.show()\n",
    "\n",
    "plt.subplot(2,1,2)\n",
    "plt.plot(range(1, epochs+1), train_accuracies, label=\"Train Accuracy\")\n",
    "plt.plot(range(1, epochs+1), test_accuracies, label=\"Test Accuracy\")\n",
    "plt.xlabel(\"Epochs\")\n",
    "plt.ylabel(\"Accuracy\")\n",
    "plt.title(\"Training and Testing Accuracy over Epochs\")\n",
    "plt.legend()\n",
    "plt.show()"
   ]
  },
  {
   "cell_type": "code",
   "execution_count": 14,
   "metadata": {},
   "outputs": [
    {
     "name": "stdout",
     "output_type": "stream",
     "text": [
      "Predicted: \"7 - seven\", Actual: \"7 - seven\"\n"
     ]
    },
    {
     "data": {
      "image/png": "[encoded data removed]",
      "text/plain": [
       "<Figure size 640x480 with 1 Axes>"
      ]
     },
     "metadata": {},
     "output_type": "display_data"
    }
   ],
   "source": [
    "model.eval()\n",
    "idx = 0\n",
    "x, y = test_data[idx][0], test_data[idx][1]\n",
    "plt.imshow(x.permute(1,2,0), cmap = 'gray')\n",
    "with torch.no_grad():\n",
    "    x = x.to(device)\n",
    "    pred = model(x)\n",
    "    predicted, actual = classes[pred[0].argmax(0)], classes[y]\n",
    "    print(f'Predicted: \"{predicted}\", Actual: \"{actual}\"')"
   ]
  },
  {
   "cell_type": "markdown",
   "metadata": {},
   "source": [
    "# Part 2"
   ]
  },
  {
   "cell_type": "code",
   "execution_count": 37,
   "metadata": {},
   "outputs": [],
   "source": [
    "# Download training data from open datasets.\n",
    "training_data = datasets.MNIST(\n",
    "    root=\"data\",\n",
    "    train=True,\n",
    "    download=True,\n",
    "    transform=ToTensor(),\n",
    ")\n",
    "\n",
    "# Download test data from open datasets.\n",
    "test_data = datasets.MNIST(\n",
    "    root=\"data\",\n",
    "    train=False,\n",
    "    download=True,\n",
    "    transform=ToTensor(),\n",
    ")"
   ]
  },
  {
   "cell_type": "code",
   "execution_count": 38,
   "metadata": {},
   "outputs": [
    {
     "name": "stdout",
     "output_type": "stream",
     "text": [
      "['0 - zero', '1 - one', '2 - two', '3 - three', '4 - four', '5 - five', '6 - six', '7 - seven', '8 - eight', '9 - nine']\n",
      "Number of samples in the training data: 60000\n",
      "Number of samples in the test data: 10000\n"
     ]
    }
   ],
   "source": [
    "classes = training_data.classes\n",
    "print(classes)\n",
    "\n",
    "num_training_samples = len(training_data)\n",
    "print(f\"Number of samples in the training data: {num_training_samples}\")\n",
    "\n",
    "num_test_samples = len(test_data)\n",
    "print(f\"Number of samples in the test data: {num_test_samples}\")\n"
   ]
  },
  {
   "cell_type": "code",
   "execution_count": 39,
   "metadata": {},
   "outputs": [
    {
     "name": "stdout",
     "output_type": "stream",
     "text": [
      "Shape of X [N, C, H, W]: torch.Size([64, 1, 28, 28])\n",
      "Shape of y: torch.Size([64]) torch.int64\n"
     ]
    },
    {
     "data": {
      "image/png": "[encoded data removed]",
      "text/plain": [
       "<Figure size 1000x1000 with 6 Axes>"
      ]
     },
     "metadata": {},
     "output_type": "display_data"
    }
   ],
   "source": [
    "batch_size = 64 # we will talk about it later\n",
    "\n",
    "# Create data loaders.\n",
    "train_dataloader = DataLoader(training_data, batch_size=batch_size)\n",
    "test_dataloader = DataLoader(test_data, batch_size=batch_size)\n",
    "\n",
    "for X, y in train_dataloader:\n",
    "    print(f\"Shape of X [N, C, H, W]: {X.shape}\")\n",
    "    print(f\"Shape of y: {y.shape} {y.dtype}\")\n",
    "\n",
    "    fig, axes = plt.subplots(1, 6, figsize=(10, 10))\n",
    "    axes = axes.flatten()\n",
    "\n",
    "    for i in range(6):\n",
    "        img = X[i].squeeze().numpy()\n",
    "        axes[i].imshow(img, cmap=\"gray\")\n",
    "        axes[i].set_title(f\"Label: {y[i]}\")\n",
    "        axes[i].axis('off')\n",
    "\n",
    "    plt.tight_layout()\n",
    "    plt.show()\n",
    "\n",
    "    break"
   ]
  },
  {
   "cell_type": "code",
   "execution_count": 57,
   "metadata": {},
   "outputs": [
    {
     "name": "stdout",
     "output_type": "stream",
     "text": [
      "Using cpu device\n",
      "NeuralNetwork(\n",
      "  (conv1): Conv2d(1, 6, kernel_size=(5, 5), stride=(1, 1))\n",
      "  (conv2): Conv2d(6, 16, kernel_size=(5, 5), stride=(1, 1))\n",
      "  (pool): MaxPool2d(kernel_size=2, stride=2, padding=0, dilation=1, ceil_mode=False)\n",
      "  (linear1): Linear(in_features=256, out_features=120, bias=True)\n",
      "  (linear2): Linear(in_features=120, out_features=84, bias=True)\n",
      "  (linear3): Linear(in_features=84, out_features=10, bias=True)\n",
      "  (relu): ReLU(inplace=True)\n",
      "  (flatten): Flatten(start_dim=1, end_dim=-1)\n",
      ")\n"
     ]
    }
   ],
   "source": [
    "# Get cpu, gpu or mps device for training.\n",
    "device = (\n",
    "    \"cuda\" if torch.cuda.is_available()\n",
    "     else \"cpu\"\n",
    ")\n",
    "print(f\"Using {device} device\")\n",
    "\n",
    "# Define model\n",
    "class NeuralNetwork(nn.Module):\n",
    "    def __init__(self):\n",
    "        super().__init__()\n",
    "        # Conv layer\n",
    "        self.conv1 = nn.Conv2d(in_channels=1, out_channels=6, kernel_size=5, stride=1,)\n",
    "        self.conv2 = nn.Conv2d(in_channels=6, out_channels=16, kernel_size=5, stride=1,)\n",
    "\n",
    "        # Pooling layer\n",
    "        self.pool = nn.MaxPool2d(2,2)\n",
    "\n",
    "        # Linear layer\n",
    "        self.linear1 = nn.Linear(256,120)\n",
    "        self.linear2 = nn.Linear(120, 84)\n",
    "        self.linear3 = nn.Linear(84, 10)\n",
    "        \n",
    "        # Activation layer\n",
    "        self.relu = nn.ReLU(inplace=True)\n",
    "\n",
    "        # Flatten\n",
    "        self.flatten = nn.Flatten()\n",
    "\n",
    "    def forward(self, x):\n",
    "        x = self.conv1(x)\n",
    "        x = self.relu(x)\n",
    "        x = self.pool(x)\n",
    "        x = self.conv2(x)\n",
    "        x = self.relu(x)\n",
    "        x = self.pool(x)\n",
    "        x = self.flatten(x)\n",
    "        x = self.linear1(x)\n",
    "        x = self.relu(x)\n",
    "        x = self.linear2(x)\n",
    "        x = self.relu(x)\n",
    "        x = self.linear3(x)\n",
    "        return x\n",
    "\n",
    "model = NeuralNetwork().to(device)\n",
    "print(model)"
   ]
  },
  {
   "cell_type": "code",
   "execution_count": 58,
   "metadata": {},
   "outputs": [
    {
     "name": "stdout",
     "output_type": "stream",
     "text": [
      "----------------------------------------------------------------\n",
      "        Layer (type)               Output Shape         Param #\n",
      "================================================================\n",
      "            Conv2d-1            [-1, 6, 24, 24]             156\n",
      "              ReLU-2            [-1, 6, 24, 24]               0\n",
      "         MaxPool2d-3            [-1, 6, 12, 12]               0\n",
      "            Conv2d-4             [-1, 16, 8, 8]           2,416\n",
      "              ReLU-5             [-1, 16, 8, 8]               0\n",
      "         MaxPool2d-6             [-1, 16, 4, 4]               0\n",
      "           Flatten-7                  [-1, 256]               0\n",
      "            Linear-8                  [-1, 120]          30,840\n",
      "              ReLU-9                  [-1, 120]               0\n",
      "           Linear-10                   [-1, 84]          10,164\n",
      "             ReLU-11                   [-1, 84]               0\n",
      "           Linear-12                   [-1, 10]             850\n",
      "================================================================\n",
      "Total params: 44,426\n",
      "Trainable params: 44,426\n",
      "Non-trainable params: 0\n",
      "----------------------------------------------------------------\n",
      "Input size (MB): 0.00\n",
      "Forward/backward pass size (MB): 0.08\n",
      "Params size (MB): 0.17\n",
      "Estimated Total Size (MB): 0.25\n",
      "----------------------------------------------------------------\n"
     ]
    }
   ],
   "source": [
    "summary(model, input_size=(1, 28, 28), device=device)"
   ]
  },
  {
   "cell_type": "code",
   "execution_count": 59,
   "metadata": {},
   "outputs": [],
   "source": [
    "loss_fn = nn.CrossEntropyLoss()\n",
    "optimizer = torch.optim.SGD(model.parameters(), lr=1e-3) # Let's use stocastic gradient descent (We will talk about it in the coming weeks)"
   ]
  },
  {
   "cell_type": "code",
   "execution_count": 60,
   "metadata": {},
   "outputs": [],
   "source": [
    "train_losses = []\n",
    "test_losses = []\n",
    "train_accuracies = []\n",
    "test_accuracies = []\n",
    "\n",
    "\n",
    "def train(dataloader, model, loss_fn, optimizer):\n",
    "    size = len(dataloader.dataset)\n",
    "    model.train()\n",
    "    total_loss, correct = 0, 0  # Track the total loss for the epoch\n",
    "\n",
    "    for batch, (X, y) in enumerate(dataloader):\n",
    "        X, y = X.to(device), y.to(device)\n",
    "\n",
    "        # Compute prediction error\n",
    "        pred = model(X)\n",
    "        loss = loss_fn(pred, y)\n",
    "        total_loss += loss.item()  # Accumulate loss\n",
    "\n",
    "        # Backpropagation\n",
    "        loss.backward()\n",
    "        optimizer.step()\n",
    "        optimizer.zero_grad()\n",
    "\n",
    "        # Calculate accuracy\n",
    "        correct += (pred.argmax(1) == y).type(torch.float).sum().item()\n",
    "\n",
    "        if batch % 100 == 0:\n",
    "            loss, current = loss.item(), (batch + 1) * len(X)\n",
    "            print(f\"loss: {loss:>7f}  [{current:>5d}/{size:>5d}]\")\n",
    "    avg_loss = total_loss / len(dataloader)  # Calculate average loss for the epoch\n",
    "    avg_accuracy = correct / size\n",
    "\n",
    "    train_losses.append(avg_loss)  # Store the average loss for the epoch\n",
    "    train_accuracies.append(avg_accuracy) # Store the average accuracy for the epoch\n",
    "\n",
    "    print(f\"Train loss: {avg_loss:>7f}, Accuracy: {(100*avg_accuracy):>0.1f}%\")"
   ]
  },
  {
   "cell_type": "code",
   "execution_count": 61,
   "metadata": {},
   "outputs": [],
   "source": [
    "def test(dataloader, model, loss_fn):\n",
    "    size = len(dataloader.dataset)\n",
    "    num_batches = len(dataloader)\n",
    "    model.eval()\n",
    "    test_loss, correct = 0, 0\n",
    "    with torch.no_grad():\n",
    "        for X, y in dataloader:\n",
    "            X, y = X.to(device), y.to(device)\n",
    "            pred = model(X)\n",
    "            test_loss += loss_fn(pred, y).item()\n",
    "            correct += (pred.argmax(1) == y).type(torch.float).sum().item()\n",
    "    test_loss /= num_batches\n",
    "    correct /= size\n",
    "    test_losses.append(test_loss)  # Store the test loss for the epoch\n",
    "    test_accuracies.append(correct)\n",
    "\n",
    "    print(f\"Test Error: \\n Avg loss: {test_loss:>8f}, Accuracy: {(100*correct):>0.1f}% \\n\")"
   ]
  },
  {
   "cell_type": "code",
   "execution_count": 62,
   "metadata": {},
   "outputs": [
    {
     "name": "stdout",
     "output_type": "stream",
     "text": [
      "Epoch 1\n",
      "-------------------------------\n",
      "loss: 2.302049  [   64/60000]\n",
      "loss: 2.298679  [ 6464/60000]\n",
      "loss: 2.313818  [12864/60000]\n",
      "loss: 2.298930  [19264/60000]\n",
      "loss: 2.311813  [25664/60000]\n",
      "loss: 2.305892  [32064/60000]\n",
      "loss: 2.298717  [38464/60000]\n",
      "loss: 2.308691  [44864/60000]\n",
      "loss: 2.303043  [51264/60000]\n",
      "loss: 2.298937  [57664/60000]\n",
      "Train loss: 2.302122, Accuracy: 11.3%\n",
      "Test Error: \n",
      " Avg loss: 2.301293, Accuracy: 11.3% \n",
      "\n",
      "Epoch 2\n",
      "-------------------------------\n",
      "loss: 2.299428  [   64/60000]\n",
      "loss: 2.297108  [ 6464/60000]\n",
      "loss: 2.310501  [12864/60000]\n",
      "loss: 2.296793  [19264/60000]\n",
      "loss: 2.309299  [25664/60000]\n",
      "loss: 2.304454  [32064/60000]\n",
      "loss: 2.296474  [38464/60000]\n",
      "loss: 2.307111  [44864/60000]\n",
      "loss: 2.301621  [51264/60000]\n",
      "loss: 2.296060  [57664/60000]\n",
      "Train loss: 2.300114, Accuracy: 11.2%\n",
      "Test Error: \n",
      " Avg loss: 2.299254, Accuracy: 11.3% \n",
      "\n",
      "Epoch 3\n",
      "-------------------------------\n",
      "loss: 2.297153  [   64/60000]\n",
      "loss: 2.295722  [ 6464/60000]\n",
      "loss: 2.307410  [12864/60000]\n",
      "loss: 2.294621  [19264/60000]\n",
      "loss: 2.306778  [25664/60000]\n",
      "loss: 2.302986  [32064/60000]\n",
      "loss: 2.294068  [38464/60000]\n",
      "loss: 2.305502  [44864/60000]\n",
      "loss: 2.299893  [51264/60000]\n",
      "loss: 2.292948  [57664/60000]\n",
      "Train loss: 2.298041, Accuracy: 11.2%\n",
      "Test Error: \n",
      " Avg loss: 2.296952, Accuracy: 11.4% \n",
      "\n",
      "Epoch 4\n",
      "-------------------------------\n",
      "loss: 2.294584  [   64/60000]\n",
      "loss: 2.294019  [ 6464/60000]\n",
      "loss: 2.303988  [12864/60000]\n",
      "loss: 2.292051  [19264/60000]\n",
      "loss: 2.303859  [25664/60000]\n",
      "loss: 2.301017  [32064/60000]\n",
      "loss: 2.291057  [38464/60000]\n",
      "loss: 2.303528  [44864/60000]\n",
      "loss: 2.297478  [51264/60000]\n",
      "loss: 2.289442  [57664/60000]\n",
      "Train loss: 2.295574, Accuracy: 11.3%\n",
      "Test Error: \n",
      " Avg loss: 2.294126, Accuracy: 11.9% \n",
      "\n",
      "Epoch 5\n",
      "-------------------------------\n",
      "loss: 2.291365  [   64/60000]\n",
      "loss: 2.291655  [ 6464/60000]\n",
      "loss: 2.300097  [12864/60000]\n",
      "loss: 2.288577  [19264/60000]\n",
      "loss: 2.300259  [25664/60000]\n",
      "loss: 2.298432  [32064/60000]\n",
      "loss: 2.287043  [38464/60000]\n",
      "loss: 2.300672  [44864/60000]\n",
      "loss: 2.294108  [51264/60000]\n",
      "loss: 2.285043  [57664/60000]\n",
      "Train loss: 2.292373, Accuracy: 13.0%\n",
      "Test Error: \n",
      " Avg loss: 2.290336, Accuracy: 17.1% \n",
      "\n",
      "Epoch 6\n",
      "-------------------------------\n",
      "loss: 2.286938  [   64/60000]\n",
      "loss: 2.288086  [ 6464/60000]\n",
      "loss: 2.295283  [12864/60000]\n",
      "loss: 2.283335  [19264/60000]\n",
      "loss: 2.295229  [25664/60000]\n",
      "loss: 2.294502  [32064/60000]\n",
      "loss: 2.281585  [38464/60000]\n",
      "loss: 2.296189  [44864/60000]\n",
      "loss: 2.289208  [51264/60000]\n",
      "loss: 2.279140  [57664/60000]\n",
      "Train loss: 2.287854, Accuracy: 22.5%\n",
      "Test Error: \n",
      " Avg loss: 2.284880, Accuracy: 29.4% \n",
      "\n",
      "Epoch 7\n",
      "-------------------------------\n",
      "loss: 2.280810  [   64/60000]\n",
      "loss: 2.282440  [ 6464/60000]\n",
      "loss: 2.288745  [12864/60000]\n",
      "loss: 2.275864  [19264/60000]\n",
      "loss: 2.288435  [25664/60000]\n",
      "loss: 2.288644  [32064/60000]\n",
      "loss: 2.273512  [38464/60000]\n",
      "loss: 2.289454  [44864/60000]\n",
      "loss: 2.281686  [51264/60000]\n",
      "loss: 2.270063  [57664/60000]\n",
      "Train loss: 2.281190, Accuracy: 32.9%\n",
      "Test Error: \n",
      " Avg loss: 2.276655, Accuracy: 35.1% \n",
      "\n",
      "Epoch 8\n",
      "-------------------------------\n",
      "loss: 2.271936  [   64/60000]\n",
      "loss: 2.273516  [ 6464/60000]\n",
      "loss: 2.279436  [12864/60000]\n",
      "loss: 2.264460  [19264/60000]\n",
      "loss: 2.278154  [25664/60000]\n",
      "loss: 2.279309  [32064/60000]\n",
      "loss: 2.260678  [38464/60000]\n",
      "loss: 2.278222  [44864/60000]\n",
      "loss: 2.268567  [51264/60000]\n",
      "loss: 2.254441  [57664/60000]\n",
      "Train loss: 2.270512, Accuracy: 35.9%\n",
      "Test Error: \n",
      " Avg loss: 2.262684, Accuracy: 35.1% \n",
      "\n",
      "Epoch 9\n",
      "-------------------------------\n",
      "loss: 2.257067  [   64/60000]\n",
      "loss: 2.258319  [ 6464/60000]\n",
      "loss: 2.263379  [12864/60000]\n",
      "loss: 2.243403  [19264/60000]\n",
      "loss: 2.259030  [25664/60000]\n",
      "loss: 2.261912  [32064/60000]\n",
      "loss: 2.236969  [38464/60000]\n",
      "loss: 2.256611  [44864/60000]\n",
      "loss: 2.242054  [51264/60000]\n",
      "loss: 2.223115  [57664/60000]\n",
      "Train loss: 2.250517, Accuracy: 36.1%\n",
      "Test Error: \n",
      " Avg loss: 2.233908, Accuracy: 36.9% \n",
      "\n",
      "Epoch 10\n",
      "-------------------------------\n",
      "loss: 2.226684  [   64/60000]\n",
      "loss: 2.225752  [ 6464/60000]\n",
      "loss: 2.228086  [12864/60000]\n",
      "loss: 2.196868  [19264/60000]\n",
      "loss: 2.213310  [25664/60000]\n",
      "loss: 2.217796  [32064/60000]\n",
      "loss: 2.179661  [38464/60000]\n",
      "loss: 2.200364  [44864/60000]\n",
      "loss: 2.172984  [51264/60000]\n",
      "loss: 2.141164  [57664/60000]\n",
      "Train loss: 2.202299, Accuracy: 39.5%\n",
      "Test Error: \n",
      " Avg loss: 2.155728, Accuracy: 41.6% \n",
      "\n",
      "Epoch 11\n",
      "-------------------------------\n",
      "loss: 2.146777  [   64/60000]\n",
      "loss: 2.134848  [ 6464/60000]\n",
      "loss: 2.122366  [12864/60000]\n",
      "loss: 2.066425  [19264/60000]\n",
      "loss: 2.073531  [25664/60000]\n",
      "loss: 2.070446  [32064/60000]\n",
      "loss: 1.984330  [38464/60000]\n",
      "loss: 1.994012  [44864/60000]\n",
      "loss: 1.932444  [51264/60000]\n",
      "loss: 1.822315  [57664/60000]\n",
      "Train loss: 2.041032, Accuracy: 48.4%\n",
      "Test Error: \n",
      " Avg loss: 1.846730, Accuracy: 55.6% \n",
      "\n",
      "Epoch 12\n",
      "-------------------------------\n",
      "loss: 1.850734  [   64/60000]\n",
      "loss: 1.756161  [ 6464/60000]\n",
      "loss: 1.655511  [12864/60000]\n",
      "loss: 1.550441  [19264/60000]\n",
      "loss: 1.494349  [25664/60000]\n",
      "loss: 1.426165  [32064/60000]\n",
      "loss: 1.262881  [38464/60000]\n",
      "loss: 1.240785  [44864/60000]\n",
      "loss: 1.220886  [51264/60000]\n",
      "loss: 1.014790  [57664/60000]\n",
      "Train loss: 1.446513, Accuracy: 67.5%\n",
      "Test Error: \n",
      " Avg loss: 1.011879, Accuracy: 77.2% \n",
      "\n",
      "Epoch 13\n",
      "-------------------------------\n",
      "loss: 1.047509  [   64/60000]\n",
      "loss: 0.881432  [ 6464/60000]\n",
      "loss: 0.779735  [12864/60000]\n",
      "loss: 0.826523  [19264/60000]\n",
      "loss: 0.789336  [25664/60000]\n",
      "loss: 0.752893  [32064/60000]\n",
      "loss: 0.665516  [38464/60000]\n",
      "loss: 0.701862  [44864/60000]\n",
      "loss: 0.805160  [51264/60000]\n",
      "loss: 0.684701  [57664/60000]\n",
      "Train loss: 0.800982, Accuracy: 79.6%\n",
      "Test Error: \n",
      " Avg loss: 0.633801, Accuracy: 83.0% \n",
      "\n",
      "Epoch 14\n",
      "-------------------------------\n",
      "loss: 0.704806  [   64/60000]\n",
      "loss: 0.564928  [ 6464/60000]\n",
      "loss: 0.505896  [12864/60000]\n",
      "loss: 0.599807  [19264/60000]\n",
      "loss: 0.590227  [25664/60000]\n",
      "loss: 0.549725  [32064/60000]\n",
      "loss: 0.438667  [38464/60000]\n",
      "loss: 0.531964  [44864/60000]\n",
      "loss: 0.624202  [51264/60000]\n",
      "loss: 0.579335  [57664/60000]\n",
      "Train loss: 0.578723, Accuracy: 83.7%\n",
      "Test Error: \n",
      " Avg loss: 0.501882, Accuracy: 85.9% \n",
      "\n",
      "Epoch 15\n",
      "-------------------------------\n",
      "loss: 0.595536  [   64/60000]\n",
      "loss: 0.456555  [ 6464/60000]\n",
      "loss: 0.407676  [12864/60000]\n",
      "loss: 0.508756  [19264/60000]\n",
      "loss: 0.495787  [25664/60000]\n",
      "loss: 0.466238  [32064/60000]\n",
      "loss: 0.316449  [38464/60000]\n",
      "loss: 0.462389  [44864/60000]\n",
      "loss: 0.510553  [51264/60000]\n",
      "loss: 0.522368  [57664/60000]\n",
      "Train loss: 0.482531, Accuracy: 86.0%\n",
      "Test Error: \n",
      " Avg loss: 0.430361, Accuracy: 87.6% \n",
      "\n",
      "Done!\n"
     ]
    }
   ],
   "source": [
    "epochs = 15\n",
    "for t in range(epochs):\n",
    "    print(f\"Epoch {t+1}\\n-------------------------------\")\n",
    "    train(train_dataloader, model, loss_fn, optimizer)\n",
    "    test(test_dataloader, model, loss_fn)\n",
    "print(\"Done!\")"
   ]
  },
  {
   "cell_type": "code",
   "execution_count": 63,
   "metadata": {},
   "outputs": [
    {
     "data": {
      "image/png": "[encoded data removed]",
      "text/plain": [
       "<Figure size 640x480 with 1 Axes>"
      ]
     },
     "metadata": {},
     "output_type": "display_data"
    },
    {
     "data": {
      "image/png": "[encoded data removed]",
      "text/plain": [
       "<Figure size 640x480 with 1 Axes>"
      ]
     },
     "metadata": {},
     "output_type": "display_data"
    }
   ],
   "source": [
    "plt.subplot(2,1,1)\n",
    "plt.plot(range(1, epochs+1), train_losses, label=\"Train Loss\")\n",
    "plt.plot(range(1, epochs+1), test_losses, label=\"Test Loss\")\n",
    "plt.xlabel(\"Epochs\")\n",
    "plt.ylabel(\"Loss\")\n",
    "plt.title(\"Training and Testing Loss over Epochs\")\n",
    "plt.legend()\n",
    "plt.show()\n",
    "\n",
    "plt.subplot(2,1,2)\n",
    "plt.plot(range(1, epochs+1), train_accuracies, label=\"Train Accuracy\")\n",
    "plt.plot(range(1, epochs+1), test_accuracies, label=\"Test Accuracy\")\n",
    "plt.xlabel(\"Epochs\")\n",
    "plt.ylabel(\"Accuracy\")\n",
    "plt.title(\"Training and Testing Accuracy over Epochs\")\n",
    "plt.legend()\n",
    "plt.show()\n"
   ]
  },
  {
   "cell_type": "code",
   "execution_count": 64,
   "metadata": {},
   "outputs": [
    {
     "name": "stdout",
     "output_type": "stream",
     "text": [
      "Predicted: \"7 - seven\", Actual: \"7 - seven\"\n"
     ]
    },
    {
     "data": {
      "image/png": "[encoded data removed]",
      "text/plain": [
       "<Figure size 640x480 with 1 Axes>"
      ]
     },
     "metadata": {},
     "output_type": "display_data"
    }
   ],
   "source": [
    "model.eval()\n",
    "idx = 0\n",
    "x, y = test_data[idx][0], test_data[idx][1]\n",
    "plt.imshow(x.permute(1,2,0), cmap = 'gray')\n",
    "with torch.no_grad():\n",
    "    x = x.to(device)\n",
    "    pred = model(x.unsqueeze(0))\n",
    "    predicted, actual = classes[pred[0].argmax(0)], classes[y]\n",
    "    print(f'Predicted: \"{predicted}\", Actual: \"{actual}\"')\n"
   ]
  },
  {
   "cell_type": "code",
   "execution_count": null,
   "metadata": {},
   "outputs": [],
   "source": []
  }
 ],
 "metadata": {
  "kernelspec": {
   "display_name": ".venv",
   "language": "python",
   "name": "python3"
  },
  "language_info": {
   "codemirror_mode": {
    "name": "ipython",
    "version": 3
   },
   "file_extension": ".py",
   "mimetype": "text/x-python",
   "name": "python",
   "nbconvert_exporter": "python",
   "pygments_lexer": "ipython3",
   "version": "3.10.11"
  }
 },
 "nbformat": 4,
 "nbformat_minor": 2
}
