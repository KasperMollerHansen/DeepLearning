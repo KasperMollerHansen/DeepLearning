{
 "cells": [
  {
   "cell_type": "markdown",
   "metadata": {},
   "source": [
    "# Part 1"
   ]
  },
  {
   "cell_type": "code",
   "execution_count": 1,
   "metadata": {},
   "outputs": [],
   "source": [
    "import torch\n",
    "from torch import nn\n",
    "from torch.utils.data import DataLoader\n",
    "from torchvision import datasets\n",
    "from torchvision.transforms import ToTensor\n",
    "import matplotlib.pyplot as plt\n",
    "from torchsummary import summary\n",
    "import torch_directml"
   ]
  },
  {
   "cell_type": "code",
   "execution_count": 2,
   "metadata": {},
   "outputs": [
    {
     "name": "stdout",
     "output_type": "stream",
     "text": [
      "Downloading http://yann.lecun.com/exdb/mnist/train-images-idx3-ubyte.gz\n",
      "Failed to download (trying next):\n",
      "HTTP Error 403: Forbidden\n",
      "\n",
      "Downloading https://ossci-datasets.s3.amazonaws.com/mnist/train-images-idx3-ubyte.gz\n",
      "Downloading https://ossci-datasets.s3.amazonaws.com/mnist/train-images-idx3-ubyte.gz to data\\MNIST\\raw\\train-images-idx3-ubyte.gz\n"
     ]
    },
    {
     "name": "stderr",
     "output_type": "stream",
     "text": [
      "100.0%\n"
     ]
    },
    {
     "name": "stdout",
     "output_type": "stream",
     "text": [
      "Extracting data\\MNIST\\raw\\train-images-idx3-ubyte.gz to data\\MNIST\\raw\n",
      "\n",
      "Downloading http://yann.lecun.com/exdb/mnist/train-labels-idx1-ubyte.gz\n",
      "Failed to download (trying next):\n",
      "HTTP Error 403: Forbidden\n",
      "\n",
      "Downloading https://ossci-datasets.s3.amazonaws.com/mnist/train-labels-idx1-ubyte.gz\n",
      "Downloading https://ossci-datasets.s3.amazonaws.com/mnist/train-labels-idx1-ubyte.gz to data\\MNIST\\raw\\train-labels-idx1-ubyte.gz\n"
     ]
    },
    {
     "name": "stderr",
     "output_type": "stream",
     "text": [
      "100.0%\n"
     ]
    },
    {
     "name": "stdout",
     "output_type": "stream",
     "text": [
      "Extracting data\\MNIST\\raw\\train-labels-idx1-ubyte.gz to data\\MNIST\\raw\n",
      "\n",
      "Downloading http://yann.lecun.com/exdb/mnist/t10k-images-idx3-ubyte.gz\n",
      "Failed to download (trying next):\n",
      "HTTP Error 403: Forbidden\n",
      "\n",
      "Downloading https://ossci-datasets.s3.amazonaws.com/mnist/t10k-images-idx3-ubyte.gz\n",
      "Downloading https://ossci-datasets.s3.amazonaws.com/mnist/t10k-images-idx3-ubyte.gz to data\\MNIST\\raw\\t10k-images-idx3-ubyte.gz\n"
     ]
    },
    {
     "name": "stderr",
     "output_type": "stream",
     "text": [
      "100.0%\n"
     ]
    },
    {
     "name": "stdout",
     "output_type": "stream",
     "text": [
      "Extracting data\\MNIST\\raw\\t10k-images-idx3-ubyte.gz to data\\MNIST\\raw\n",
      "\n",
      "Downloading http://yann.lecun.com/exdb/mnist/t10k-labels-idx1-ubyte.gz\n",
      "Failed to download (trying next):\n",
      "HTTP Error 403: Forbidden\n",
      "\n",
      "Downloading https://ossci-datasets.s3.amazonaws.com/mnist/t10k-labels-idx1-ubyte.gz\n",
      "Downloading https://ossci-datasets.s3.amazonaws.com/mnist/t10k-labels-idx1-ubyte.gz to data\\MNIST\\raw\\t10k-labels-idx1-ubyte.gz\n"
     ]
    },
    {
     "name": "stderr",
     "output_type": "stream",
     "text": [
      "100.0%"
     ]
    },
    {
     "name": "stdout",
     "output_type": "stream",
     "text": [
      "Extracting data\\MNIST\\raw\\t10k-labels-idx1-ubyte.gz to data\\MNIST\\raw\n",
      "\n"
     ]
    },
    {
     "name": "stderr",
     "output_type": "stream",
     "text": [
      "\n"
     ]
    }
   ],
   "source": [
    "# Download training data from open datasets.\n",
    "training_data = datasets.MNIST(\n",
    "    root=\"data\",\n",
    "    train=True,\n",
    "    download=True,\n",
    "    transform=ToTensor(),\n",
    ")\n",
    "\n",
    "# Download test data from open datasets.\n",
    "test_data = datasets.MNIST(\n",
    "    root=\"data\",\n",
    "    train=False,\n",
    "    download=True,\n",
    "    transform=ToTensor(),\n",
    ")"
   ]
  },
  {
   "cell_type": "code",
   "execution_count": 3,
   "metadata": {},
   "outputs": [
    {
     "name": "stdout",
     "output_type": "stream",
     "text": [
      "['0 - zero', '1 - one', '2 - two', '3 - three', '4 - four', '5 - five', '6 - six', '7 - seven', '8 - eight', '9 - nine']\n",
      "Number of samples in the training data: 60000\n",
      "Number of samples in the test data: 10000\n"
     ]
    }
   ],
   "source": [
    "classes = training_data.classes\n",
    "print(classes)\n",
    "\n",
    "num_training_samples = len(training_data)\n",
    "print(f\"Number of samples in the training data: {num_training_samples}\")\n",
    "\n",
    "num_test_samples = len(test_data)\n",
    "print(f\"Number of samples in the test data: {num_test_samples}\")"
   ]
  },
  {
   "cell_type": "code",
   "execution_count": 4,
   "metadata": {},
   "outputs": [
    {
     "name": "stdout",
     "output_type": "stream",
     "text": [
      "Shape of X [N, C, H, W]: torch.Size([64, 1, 28, 28])\n",
      "Shape of y: torch.Size([64]) torch.int64\n"
     ]
    },
    {
     "data": {
      "image/png": "[encoded data removed]",
      "text/plain": [
       "<Figure size 1000x1000 with 6 Axes>"
      ]
     },
     "metadata": {},
     "output_type": "display_data"
    }
   ],
   "source": [
    "batch_size = 64 # we will talk about it later\n",
    "\n",
    "# Create data loaders.\n",
    "train_dataloader = DataLoader(training_data, batch_size=batch_size)\n",
    "test_dataloader = DataLoader(test_data, batch_size=batch_size)\n",
    "\n",
    "for X, y in train_dataloader:\n",
    "    print(f\"Shape of X [N, C, H, W]: {X.shape}\")\n",
    "    print(f\"Shape of y: {y.shape} {y.dtype}\")\n",
    "\n",
    "    fig, axes = plt.subplots(1, 6, figsize=(10, 10))\n",
    "    axes = axes.flatten()\n",
    "\n",
    "    for i in range(6):\n",
    "        img = X[i].squeeze().numpy()\n",
    "        axes[i].imshow(img, cmap=\"gray\")\n",
    "        axes[i].set_title(f\"Label: {y[i]}\")\n",
    "        axes[i].axis('off')\n",
    "\n",
    "    plt.tight_layout()\n",
    "    plt.show()\n",
    "\n",
    "    break"
   ]
  },
  {
   "cell_type": "code",
   "execution_count": 5,
   "metadata": {},
   "outputs": [
    {
     "name": "stdout",
     "output_type": "stream",
     "text": [
      "Using cpu device\n",
      "NeuralNetwork(\n",
      "  (flatten): Flatten(start_dim=1, end_dim=-1)\n",
      "  (linear_relu_stack): Sequential(\n",
      "    (0): Linear(in_features=784, out_features=512, bias=True)\n",
      "    (1): ReLU(inplace=True)\n",
      "    (2): Linear(in_features=512, out_features=512, bias=True)\n",
      "    (3): ReLU(inplace=True)\n",
      "    (4): Linear(in_features=512, out_features=10, bias=True)\n",
      "  )\n",
      ")\n"
     ]
    }
   ],
   "source": [
    "# Get cpu, gpu or mps device for training.\n",
    "device = (\n",
    "    \"cuda\" if torch.cuda.is_available()\n",
    "     else \"cpu\"\n",
    ")\n",
    "print(f\"Using {device} device\")\n",
    "\n",
    "# Define model\n",
    "class NeuralNetwork(nn.Module):\n",
    "    def __init__(self):\n",
    "        super().__init__()\n",
    "        self.flatten = nn.Flatten()\n",
    "        self.linear_relu_stack = nn.Sequential(\n",
    "            nn.Linear(28*28, 512),\n",
    "            nn.ReLU(inplace=True),\n",
    "            nn.Linear(512, 512),\n",
    "            nn.ReLU(inplace=True),\n",
    "            nn.Linear(512, 10)\n",
    "        )\n",
    "\n",
    "    def forward(self, x):\n",
    "        x = self.flatten(x)\n",
    "        logits = self.linear_relu_stack(x)\n",
    "        return logits\n",
    "\n",
    "model = NeuralNetwork().to(device)\n",
    "print(model)"
   ]
  },
  {
   "cell_type": "code",
   "execution_count": 6,
   "metadata": {},
   "outputs": [
    {
     "name": "stdout",
     "output_type": "stream",
     "text": [
      "----------------------------------------------------------------\n",
      "        Layer (type)               Output Shape         Param #\n",
      "================================================================\n",
      "           Flatten-1                  [-1, 784]               0\n",
      "            Linear-2                  [-1, 512]         401,920\n",
      "              ReLU-3                  [-1, 512]               0\n",
      "            Linear-4                  [-1, 512]         262,656\n",
      "              ReLU-5                  [-1, 512]               0\n",
      "            Linear-6                   [-1, 10]           5,130\n",
      "================================================================\n",
      "Total params: 669,706\n",
      "Trainable params: 669,706\n",
      "Non-trainable params: 0\n",
      "----------------------------------------------------------------\n",
      "Input size (MB): 0.00\n",
      "Forward/backward pass size (MB): 0.02\n",
      "Params size (MB): 2.55\n",
      "Estimated Total Size (MB): 2.58\n",
      "----------------------------------------------------------------\n"
     ]
    }
   ],
   "source": [
    "summary(model, input_size=(1, 28, 28), device=device)"
   ]
  },
  {
   "cell_type": "code",
   "execution_count": 9,
   "metadata": {},
   "outputs": [],
   "source": [
    "loss_fn = nn.CrossEntropyLoss()\n",
    "optimizer = torch.optim.SGD(model.parameters(), lr=1e-3) # Let's use stocastic gradient descent (We will talk about it in the coming weeks)"
   ]
  },
  {
   "cell_type": "code",
   "execution_count": 10,
   "metadata": {},
   "outputs": [],
   "source": [
    "train_losses = []\n",
    "test_losses = []\n",
    "train_accuracies = []\n",
    "test_accuracies = []\n",
    "\n",
    "\n",
    "def train(dataloader, model, loss_fn, optimizer):\n",
    "    size = len(dataloader.dataset)\n",
    "    model.train()\n",
    "    total_loss, correct = 0, 0  # Track the total loss for the epoch\n",
    "\n",
    "    for batch, (X, y) in enumerate(dataloader):\n",
    "        X, y = X.to(device), y.to(device)\n",
    "\n",
    "        # Compute prediction error\n",
    "        pred = model(X)\n",
    "        loss = loss_fn(pred, y)\n",
    "        total_loss += loss.item()  # Accumulate loss\n",
    "\n",
    "        # Backpropagation\n",
    "        loss.backward()\n",
    "        optimizer.step()\n",
    "        optimizer.zero_grad()\n",
    "\n",
    "        # Calculate accuracy\n",
    "        correct += (pred.argmax(1) == y).type(torch.float).sum().item()\n",
    "\n",
    "        if batch % 100 == 0:\n",
    "            loss, current = loss.item(), (batch + 1) * len(X)\n",
    "            print(f\"loss: {loss:>7f}  [{current:>5d}/{size:>5d}]\")\n",
    "    avg_loss = total_loss / len(dataloader)  # Calculate average loss for the epoch\n",
    "    avg_accuracy = correct / size\n",
    "\n",
    "    train_losses.append(avg_loss)  # Store the average loss for the epoch\n",
    "    train_accuracies.append(avg_accuracy) # Store the average accuracy for the epoch\n",
    "\n",
    "    print(f\"Train loss: {avg_loss:>7f}, Accuracy: {(100*avg_accuracy):>0.1f}%\")"
   ]
  },
  {
   "cell_type": "code",
   "execution_count": 11,
   "metadata": {},
   "outputs": [],
   "source": [
    "def test(dataloader, model, loss_fn):\n",
    "    size = len(dataloader.dataset)\n",
    "    num_batches = len(dataloader)\n",
    "    model.eval()\n",
    "    test_loss, correct = 0, 0\n",
    "    with torch.no_grad():\n",
    "        for X, y in dataloader:\n",
    "            X, y = X.to(device), y.to(device)\n",
    "            pred = model(X)\n",
    "            test_loss += loss_fn(pred, y).item()\n",
    "            correct += (pred.argmax(1) == y).type(torch.float).sum().item()\n",
    "    test_loss /= num_batches\n",
    "    correct /= size\n",
    "    test_losses.append(test_loss)  # Store the test loss for the epoch\n",
    "    test_accuracies.append(correct)\n",
    "\n",
    "    print(f\"Test Error: \\n Avg loss: {test_loss:>8f}, Accuracy: {(100*correct):>0.1f}% \\n\")\n"
   ]
  },
  {
   "cell_type": "code",
   "execution_count": 12,
   "metadata": {},
   "outputs": [
    {
     "name": "stdout",
     "output_type": "stream",
     "text": [
      "Epoch 1\n",
      "-------------------------------\n",
      "loss: 2.303144  [   64/60000]\n",
      "loss: 2.305617  [ 6464/60000]\n",
      "loss: 2.304868  [12864/60000]\n",
      "loss: 2.293095  [19264/60000]\n",
      "loss: 2.288146  [25664/60000]\n",
      "loss: 2.283595  [32064/60000]\n",
      "loss: 2.267622  [38464/60000]\n",
      "loss: 2.285887  [44864/60000]\n",
      "loss: 2.273601  [51264/60000]\n",
      "loss: 2.263497  [57664/60000]\n",
      "Train loss: 2.283917, Accuracy: 27.6%\n",
      "Test Error: \n",
      " Avg loss: 2.262055, Accuracy: 34.9% \n",
      "\n",
      "Epoch 2\n",
      "-------------------------------\n",
      "loss: 2.259858  [   64/60000]\n",
      "loss: 2.260200  [ 6464/60000]\n",
      "loss: 2.268516  [12864/60000]\n",
      "loss: 2.236197  [19264/60000]\n",
      "loss: 2.245085  [25664/60000]\n",
      "loss: 2.239758  [32064/60000]\n",
      "loss: 2.213222  [38464/60000]\n",
      "loss: 2.245093  [44864/60000]\n",
      "loss: 2.217285  [51264/60000]\n",
      "loss: 2.202762  [57664/60000]\n",
      "Train loss: 2.236233, Accuracy: 39.0%\n",
      "Test Error: \n",
      " Avg loss: 2.203408, Accuracy: 44.5% \n",
      "\n",
      "Epoch 3\n",
      "-------------------------------\n",
      "loss: 2.199300  [   64/60000]\n",
      "loss: 2.194442  [ 6464/60000]\n",
      "loss: 2.216723  [12864/60000]\n",
      "loss: 2.152393  [19264/60000]\n",
      "loss: 2.177794  [25664/60000]\n",
      "loss: 2.168422  [32064/60000]\n",
      "loss: 2.124960  [38464/60000]\n",
      "loss: 2.175868  [44864/60000]\n",
      "loss: 2.124599  [51264/60000]\n",
      "loss: 2.102995  [57664/60000]\n",
      "Train loss: 2.161140, Accuracy: 51.8%\n",
      "Test Error: \n",
      " Avg loss: 2.103981, Accuracy: 58.3% \n",
      "\n",
      "Epoch 4\n",
      "-------------------------------\n",
      "loss: 2.097268  [   64/60000]\n",
      "loss: 2.081429  [ 6464/60000]\n",
      "loss: 2.126072  [12864/60000]\n",
      "loss: 2.013251  [19264/60000]\n",
      "loss: 2.059856  [25664/60000]\n",
      "loss: 2.041823  [32064/60000]\n",
      "loss: 1.971949  [38464/60000]\n",
      "loss: 2.053366  [44864/60000]\n",
      "loss: 1.965625  [51264/60000]\n",
      "loss: 1.932891  [57664/60000]\n",
      "Train loss: 2.030861, Accuracy: 61.8%\n",
      "Test Error: \n",
      " Avg loss: 1.932385, Accuracy: 66.0% \n",
      "\n",
      "Epoch 5\n",
      "-------------------------------\n",
      "loss: 1.925715  [   64/60000]\n",
      "loss: 1.889978  [ 6464/60000]\n",
      "loss: 1.962325  [12864/60000]\n",
      "loss: 1.793519  [19264/60000]\n",
      "loss: 1.854019  [25664/60000]\n",
      "loss: 1.826254  [32064/60000]\n",
      "loss: 1.729432  [38464/60000]\n",
      "loss: 1.853668  [44864/60000]\n",
      "loss: 1.717576  [51264/60000]\n",
      "loss: 1.674804  [57664/60000]\n",
      "Train loss: 1.817195, Accuracy: 68.3%\n",
      "Test Error: \n",
      " Avg loss: 1.667496, Accuracy: 71.2% \n",
      "\n",
      "Done!\n"
     ]
    }
   ],
   "source": [
    "epochs = 5\n",
    "for t in range(epochs):\n",
    "    print(f\"Epoch {t+1}\\n-------------------------------\")\n",
    "    train(train_dataloader, model, loss_fn, optimizer)\n",
    "    test(test_dataloader, model, loss_fn)\n",
    "print(\"Done!\")\n"
   ]
  },
  {
   "cell_type": "code",
   "execution_count": 13,
   "metadata": {},
   "outputs": [
    {
     "data": {
      "image/png": "[encoded data removed]",
      "text/plain": [
       "<Figure size 640x480 with 1 Axes>"
      ]
     },
     "metadata": {},
     "output_type": "display_data"
    },
    {
     "data": {
      "image/png": "[encoded data removed]",
      "text/plain": [
       "<Figure size 640x480 with 1 Axes>"
      ]
     },
     "metadata": {},
     "output_type": "display_data"
    }
   ],
   "source": [
    "plt.subplot(2,1,1)\n",
    "plt.plot(range(1, epochs+1), train_losses, label=\"Train Loss\")\n",
    "plt.plot(range(1, epochs+1), test_losses, label=\"Test Loss\")\n",
    "plt.xlabel(\"Epochs\")\n",
    "plt.ylabel(\"Loss\")\n",
    "plt.title(\"Training and Testing Loss over Epochs\")\n",
    "plt.legend()\n",
    "plt.show()\n",
    "\n",
    "plt.subplot(2,1,2)\n",
    "plt.plot(range(1, epochs+1), train_accuracies, label=\"Train Accuracy\")\n",
    "plt.plot(range(1, epochs+1), test_accuracies, label=\"Test Accuracy\")\n",
    "plt.xlabel(\"Epochs\")\n",
    "plt.ylabel(\"Accuracy\")\n",
    "plt.title(\"Training and Testing Accuracy over Epochs\")\n",
    "plt.legend()\n",
    "plt.show()"
   ]
  },
  {
   "cell_type": "code",
   "execution_count": 14,
   "metadata": {},
   "outputs": [
    {
     "name": "stdout",
     "output_type": "stream",
     "text": [
      "Predicted: \"7 - seven\", Actual: \"7 - seven\"\n"
     ]
    },
    {
     "data": {
      "image/png": "[encoded data removed]",
      "text/plain": [
       "<Figure size 640x480 with 1 Axes>"
      ]
     },
     "metadata": {},
     "output_type": "display_data"
    }
   ],
   "source": [
    "model.eval()\n",
    "idx = 0\n",
    "x, y = test_data[idx][0], test_data[idx][1]\n",
    "plt.imshow(x.permute(1,2,0), cmap = 'gray')\n",
    "with torch.no_grad():\n",
    "    x = x.to(device)\n",
    "    pred = model(x)\n",
    "    predicted, actual = classes[pred[0].argmax(0)], classes[y]\n",
    "    print(f'Predicted: \"{predicted}\", Actual: \"{actual}\"')"
   ]
  },
  {
   "cell_type": "markdown",
   "metadata": {},
   "source": [
    "# Part 2"
   ]
  },
  {
   "cell_type": "code",
   "execution_count": 2,
   "metadata": {},
   "outputs": [],
   "source": [
    "# Download training data from open datasets.\n",
    "training_data = datasets.MNIST(\n",
    "    root=\"data\",\n",
    "    train=True,\n",
    "    download=True,\n",
    "    transform=ToTensor(),\n",
    ")\n",
    "\n",
    "# Download test data from open datasets.\n",
    "test_data = datasets.MNIST(\n",
    "    root=\"data\",\n",
    "    train=False,\n",
    "    download=True,\n",
    "    transform=ToTensor(),\n",
    ")"
   ]
  },
  {
   "cell_type": "code",
   "execution_count": 3,
   "metadata": {},
   "outputs": [
    {
     "name": "stdout",
     "output_type": "stream",
     "text": [
      "['0 - zero', '1 - one', '2 - two', '3 - three', '4 - four', '5 - five', '6 - six', '7 - seven', '8 - eight', '9 - nine']\n",
      "Number of samples in the training data: 60000\n",
      "Number of samples in the test data: 10000\n"
     ]
    }
   ],
   "source": [
    "classes = training_data.classes\n",
    "print(classes)\n",
    "\n",
    "num_training_samples = len(training_data)\n",
    "print(f\"Number of samples in the training data: {num_training_samples}\")\n",
    "\n",
    "num_test_samples = len(test_data)\n",
    "print(f\"Number of samples in the test data: {num_test_samples}\")\n"
   ]
  },
  {
   "cell_type": "code",
   "execution_count": 12,
   "metadata": {},
   "outputs": [
    {
     "name": "stdout",
     "output_type": "stream",
     "text": [
      "Shape of X [N, C, H, W]: torch.Size([64, 1, 28, 28])\n",
      "Shape of y: torch.Size([64]) torch.int64\n"
     ]
    },
    {
     "data": {
      "image/png": "[encoded data removed]",
      "text/plain": [
       "<Figure size 1000x1000 with 6 Axes>"
      ]
     },
     "metadata": {},
     "output_type": "display_data"
    }
   ],
   "source": [
    "batch_size = 64 # we will talk about it later\n",
    "\n",
    "# Create data loaders.\n",
    "train_dataloader = DataLoader(training_data, batch_size=batch_size, pin_memory=True)\n",
    "test_dataloader = DataLoader(test_data, batch_size=batch_size, pin_memory=True)\n",
    "\n",
    "for X, y in train_dataloader:\n",
    "    print(f\"Shape of X [N, C, H, W]: {X.shape}\")\n",
    "    print(f\"Shape of y: {y.shape} {y.dtype}\")\n",
    "\n",
    "    fig, axes = plt.subplots(1, 6, figsize=(10, 10))\n",
    "    axes = axes.flatten()\n",
    "\n",
    "    for i in range(6):\n",
    "        img = X[i].squeeze().numpy()\n",
    "        axes[i].imshow(img, cmap=\"gray\")\n",
    "        axes[i].set_title(f\"Label: {y[i]}\")\n",
    "        axes[i].axis('off')\n",
    "\n",
    "    plt.tight_layout()\n",
    "    plt.show()\n",
    "\n",
    "    break"
   ]
  },
  {
   "cell_type": "code",
   "execution_count": 13,
   "metadata": {},
   "outputs": [
    {
     "name": "stdout",
     "output_type": "stream",
     "text": [
      "Number of DirectML devices: 1\n",
      "NeuralNetwork(\n",
      "  (conv1): Conv2d(1, 6, kernel_size=(5, 5), stride=(1, 1))\n",
      "  (conv2): Conv2d(6, 16, kernel_size=(5, 5), stride=(1, 1))\n",
      "  (pool): MaxPool2d(kernel_size=2, stride=2, padding=0, dilation=1, ceil_mode=False)\n",
      "  (linear1): Linear(in_features=256, out_features=120, bias=True)\n",
      "  (linear2): Linear(in_features=120, out_features=84, bias=True)\n",
      "  (linear3): Linear(in_features=84, out_features=10, bias=True)\n",
      "  (relu): ReLU(inplace=True)\n",
      "  (flatten): Flatten(start_dim=1, end_dim=-1)\n",
      ")\n"
     ]
    }
   ],
   "source": [
    "# Get cpu, gpu or mps device for training.\n",
    "device = torch_directml.device(torch_directml.default_device()) \n",
    "\n",
    "# Check the number of available DirectML devices\n",
    "num_devices = torch_directml.device_count()\n",
    "print(f\"Number of DirectML devices: {num_devices}\")\n",
    "\n",
    "# Define model\n",
    "class NeuralNetwork(nn.Module):\n",
    "    def __init__(self):\n",
    "        super().__init__()\n",
    "        # Conv layer\n",
    "        self.conv1 = nn.Conv2d(in_channels=1, out_channels=6, kernel_size=5, stride=1,)\n",
    "        self.conv2 = nn.Conv2d(in_channels=6, out_channels=16, kernel_size=5, stride=1,)\n",
    "\n",
    "        # Pooling layer\n",
    "        self.pool = nn.MaxPool2d(2,2)\n",
    "\n",
    "        # Linear layer\n",
    "        self.linear1 = nn.Linear(256,120)\n",
    "        self.linear2 = nn.Linear(120, 84)\n",
    "        self.linear3 = nn.Linear(84, 10)\n",
    "        \n",
    "        # Activation layer\n",
    "        self.relu = nn.ReLU(inplace=True)\n",
    "\n",
    "        # Flatten\n",
    "        self.flatten = nn.Flatten()\n",
    "\n",
    "    def forward(self, x):\n",
    "        x = self.conv1(x)\n",
    "        x = self.relu(x)\n",
    "        x = self.pool(x)\n",
    "        x = self.conv2(x)\n",
    "        x = self.relu(x)\n",
    "        x = self.pool(x)\n",
    "        x = self.flatten(x)\n",
    "        x = self.linear1(x)\n",
    "        x = self.relu(x)\n",
    "        x = self.linear2(x)\n",
    "        x = self.relu(x)\n",
    "        x = self.linear3(x)\n",
    "        return x\n",
    "\n",
    "model = NeuralNetwork().to(device)\n",
    "print(model)"
   ]
  },
  {
   "cell_type": "code",
   "execution_count": 14,
   "metadata": {},
   "outputs": [
    {
     "ename": "AttributeError",
     "evalue": "'torch.device' object has no attribute 'lower'",
     "output_type": "error",
     "traceback": [
      "\u001b[1;31m---------------------------------------------------------------------------\u001b[0m",
      "\u001b[1;31mAttributeError\u001b[0m                            Traceback (most recent call last)",
      "Cell \u001b[1;32mIn[14], line 1\u001b[0m\n\u001b[1;32m----> 1\u001b[0m \u001b[43msummary\u001b[49m\u001b[43m(\u001b[49m\u001b[43mmodel\u001b[49m\u001b[43m,\u001b[49m\u001b[43m \u001b[49m\u001b[43minput_size\u001b[49m\u001b[38;5;241;43m=\u001b[39;49m\u001b[43m(\u001b[49m\u001b[38;5;241;43m1\u001b[39;49m\u001b[43m,\u001b[49m\u001b[43m \u001b[49m\u001b[38;5;241;43m28\u001b[39;49m\u001b[43m,\u001b[49m\u001b[43m \u001b[49m\u001b[38;5;241;43m28\u001b[39;49m\u001b[43m)\u001b[49m\u001b[43m,\u001b[49m\u001b[43m \u001b[49m\u001b[43mdevice\u001b[49m\u001b[38;5;241;43m=\u001b[39;49m\u001b[43mdevice\u001b[49m\u001b[43m)\u001b[49m\n",
      "File \u001b[1;32mc:\\repositories\\DeepLearning\\.venv\\lib\\site-packages\\torchsummary\\torchsummary.py:44\u001b[0m, in \u001b[0;36msummary\u001b[1;34m(model, input_size, batch_size, device)\u001b[0m\n\u001b[0;32m     37\u001b[0m     \u001b[38;5;28;01mif\u001b[39;00m (\n\u001b[0;32m     38\u001b[0m         \u001b[38;5;129;01mnot\u001b[39;00m \u001b[38;5;28misinstance\u001b[39m(module, nn\u001b[38;5;241m.\u001b[39mSequential)\n\u001b[0;32m     39\u001b[0m         \u001b[38;5;129;01mand\u001b[39;00m \u001b[38;5;129;01mnot\u001b[39;00m \u001b[38;5;28misinstance\u001b[39m(module, nn\u001b[38;5;241m.\u001b[39mModuleList)\n\u001b[0;32m     40\u001b[0m         \u001b[38;5;129;01mand\u001b[39;00m \u001b[38;5;129;01mnot\u001b[39;00m (module \u001b[38;5;241m==\u001b[39m model)\n\u001b[0;32m     41\u001b[0m     ):\n\u001b[0;32m     42\u001b[0m         hooks\u001b[38;5;241m.\u001b[39mappend(module\u001b[38;5;241m.\u001b[39mregister_forward_hook(hook))\n\u001b[1;32m---> 44\u001b[0m device \u001b[38;5;241m=\u001b[39m \u001b[43mdevice\u001b[49m\u001b[38;5;241;43m.\u001b[39;49m\u001b[43mlower\u001b[49m()\n\u001b[0;32m     45\u001b[0m \u001b[38;5;28;01massert\u001b[39;00m device \u001b[38;5;129;01min\u001b[39;00m [\n\u001b[0;32m     46\u001b[0m     \u001b[38;5;124m\"\u001b[39m\u001b[38;5;124mcuda\u001b[39m\u001b[38;5;124m\"\u001b[39m,\n\u001b[0;32m     47\u001b[0m     \u001b[38;5;124m\"\u001b[39m\u001b[38;5;124mcpu\u001b[39m\u001b[38;5;124m\"\u001b[39m,\n\u001b[0;32m     48\u001b[0m ], \u001b[38;5;124m\"\u001b[39m\u001b[38;5;124mInput device is not valid, please specify \u001b[39m\u001b[38;5;124m'\u001b[39m\u001b[38;5;124mcuda\u001b[39m\u001b[38;5;124m'\u001b[39m\u001b[38;5;124m or \u001b[39m\u001b[38;5;124m'\u001b[39m\u001b[38;5;124mcpu\u001b[39m\u001b[38;5;124m'\u001b[39m\u001b[38;5;124m\"\u001b[39m\n\u001b[0;32m     50\u001b[0m \u001b[38;5;28;01mif\u001b[39;00m device \u001b[38;5;241m==\u001b[39m \u001b[38;5;124m\"\u001b[39m\u001b[38;5;124mcuda\u001b[39m\u001b[38;5;124m\"\u001b[39m \u001b[38;5;129;01mand\u001b[39;00m torch\u001b[38;5;241m.\u001b[39mcuda\u001b[38;5;241m.\u001b[39mis_available():\n",
      "\u001b[1;31mAttributeError\u001b[0m: 'torch.device' object has no attribute 'lower'"
     ]
    }
   ],
   "source": [
    "summary(model, input_size=(1, 28, 28), device=device)"
   ]
  },
  {
   "cell_type": "code",
   "execution_count": 15,
   "metadata": {},
   "outputs": [],
   "source": [
    "loss_fn = nn.CrossEntropyLoss()\n",
    "optimizer = torch.optim.SGD(model.parameters(), lr=1e-3) # Let's use stocastic gradient descent (We will talk about it in the coming weeks)"
   ]
  },
  {
   "cell_type": "code",
   "execution_count": 16,
   "metadata": {},
   "outputs": [],
   "source": [
    "train_losses = []\n",
    "test_losses = []\n",
    "train_accuracies = []\n",
    "test_accuracies = []\n",
    "\n",
    "\n",
    "def train(dataloader, model, loss_fn, optimizer):\n",
    "    size = len(dataloader.dataset)\n",
    "    model.train()\n",
    "    total_loss, correct = 0, 0  # Track the total loss for the epoch\n",
    "\n",
    "    for batch, (X, y) in enumerate(dataloader):\n",
    "        X, y = X.to(device), y.to(device)\n",
    "\n",
    "        # Compute prediction error\n",
    "        pred = model(X)\n",
    "        loss = loss_fn(pred, y)\n",
    "        total_loss += loss.item()  # Accumulate loss\n",
    "    \n",
    "        # Backpropagation\n",
    "        model.zero_grad()\n",
    "        loss.backward()\n",
    "        optimizer.step()\n",
    "\n",
    "        # Calculate accuracy\n",
    "        correct += (pred.argmax(1) == y).type(torch.float).sum().item()\n",
    "\n",
    "        if batch % 100 == 0:\n",
    "            loss, current = loss.item(), (batch + 1) * len(X)\n",
    "            print(f\"loss: {loss:>7f}  [{current:>5d}/{size:>5d}]\")\n",
    "    avg_loss = total_loss / len(dataloader)  # Calculate average loss for the epoch\n",
    "    avg_accuracy = correct / size\n",
    "\n",
    "    train_losses.append(avg_loss)  # Store the average loss for the epoch\n",
    "    train_accuracies.append(avg_accuracy) # Store the average accuracy for the epoch\n",
    "\n",
    "    print(f\"Train loss: {avg_loss:>7f}, Accuracy: {(100*avg_accuracy):>0.1f}%\")"
   ]
  },
  {
   "cell_type": "code",
   "execution_count": 17,
   "metadata": {},
   "outputs": [],
   "source": [
    "def test(dataloader, model, loss_fn):\n",
    "    size = len(dataloader.dataset)\n",
    "    num_batches = len(dataloader)\n",
    "    model.eval()\n",
    "    test_loss, correct = 0, 0\n",
    "    with torch.no_grad():\n",
    "        for X, y in dataloader:\n",
    "            X, y = X.to(device), y.to(device)\n",
    "            pred = model(X)\n",
    "            test_loss += loss_fn(pred, y).item()\n",
    "            correct += (pred.argmax(1) == y).type(torch.float).sum().item()\n",
    "    test_loss /= num_batches\n",
    "    correct /= size\n",
    "    test_losses.append(test_loss)  # Store the test loss for the epoch\n",
    "    test_accuracies.append(correct)\n",
    "\n",
    "    print(f\"Test Error: \\n Avg loss: {test_loss:>8f}, Accuracy: {(100*correct):>0.1f}% \\n\")"
   ]
  },
  {
   "cell_type": "code",
   "execution_count": 18,
   "metadata": {},
   "outputs": [
    {
     "name": "stdout",
     "output_type": "stream",
     "text": [
      "Epoch 1\n",
      "-------------------------------\n",
      "loss: 2.303428  [   64/60000]\n",
      "loss: 2.280500  [ 6464/60000]\n",
      "loss: 2.293591  [12864/60000]\n",
      "loss: 2.295424  [19264/60000]\n",
      "loss: 2.322136  [25664/60000]\n",
      "loss: 2.304033  [32064/60000]\n",
      "loss: 2.289366  [38464/60000]\n",
      "loss: 2.308487  [44864/60000]\n",
      "loss: 2.297442  [51264/60000]\n",
      "loss: 2.286233  [57664/60000]\n",
      "Train loss: 2.299889, Accuracy: 10.2%\n",
      "Test Error: \n",
      " Avg loss: 2.297599, Accuracy: 10.1% \n",
      "\n",
      "Epoch 2\n",
      "-------------------------------\n",
      "loss: 2.298695  [   64/60000]\n",
      "loss: 2.278872  [ 6464/60000]\n",
      "loss: 2.290168  [12864/60000]\n",
      "loss: 2.291185  [19264/60000]\n",
      "loss: 2.314636  [25664/60000]\n",
      "loss: 2.299459  [32064/60000]\n",
      "loss: 2.284841  [38464/60000]\n",
      "loss: 2.303258  [44864/60000]\n",
      "loss: 2.293161  [51264/60000]\n",
      "loss: 2.280756  [57664/60000]\n",
      "Train loss: 2.294805, Accuracy: 13.6%\n",
      "Test Error: \n",
      " Avg loss: 2.291877, Accuracy: 18.4% \n",
      "\n",
      "Epoch 3\n",
      "-------------------------------\n",
      "loss: 2.292976  [   64/60000]\n",
      "loss: 2.275494  [ 6464/60000]\n",
      "loss: 2.284938  [12864/60000]\n",
      "loss: 2.285588  [19264/60000]\n",
      "loss: 2.306619  [25664/60000]\n",
      "loss: 2.293236  [32064/60000]\n",
      "loss: 2.276984  [38464/60000]\n",
      "loss: 2.296515  [44864/60000]\n",
      "loss: 2.286724  [51264/60000]\n",
      "loss: 2.271726  [57664/60000]\n",
      "Train loss: 2.288028, Accuracy: 19.9%\n",
      "Test Error: \n",
      " Avg loss: 2.283560, Accuracy: 20.5% \n",
      "\n",
      "Epoch 4\n",
      "-------------------------------\n",
      "loss: 2.284603  [   64/60000]\n",
      "loss: 2.267922  [ 6464/60000]\n",
      "loss: 2.277272  [12864/60000]\n",
      "loss: 2.276221  [19264/60000]\n",
      "loss: 2.296476  [25664/60000]\n",
      "loss: 2.282967  [32064/60000]\n",
      "loss: 2.263188  [38464/60000]\n",
      "loss: 2.286508  [44864/60000]\n",
      "loss: 2.275457  [51264/60000]\n",
      "loss: 2.257417  [57664/60000]\n",
      "Train loss: 2.277530, Accuracy: 20.9%\n",
      "Test Error: \n",
      " Avg loss: 2.269726, Accuracy: 23.5% \n",
      "\n",
      "Epoch 5\n",
      "-------------------------------\n",
      "loss: 2.271147  [   64/60000]\n",
      "loss: 2.253403  [ 6464/60000]\n",
      "loss: 2.264078  [12864/60000]\n",
      "loss: 2.259021  [19264/60000]\n",
      "loss: 2.279529  [25664/60000]\n",
      "loss: 2.263827  [32064/60000]\n",
      "loss: 2.235596  [38464/60000]\n",
      "loss: 2.266712  [44864/60000]\n",
      "loss: 2.252184  [51264/60000]\n",
      "loss: 2.227557  [57664/60000]\n",
      "Train loss: 2.257890, Accuracy: 27.6%\n",
      "Test Error: \n",
      " Avg loss: 2.241219, Accuracy: 31.6% \n",
      "\n",
      "Epoch 6\n",
      "-------------------------------\n",
      "loss: 2.243718  [   64/60000]\n",
      "loss: 2.220588  [ 6464/60000]\n",
      "loss: 2.234931  [12864/60000]\n",
      "loss: 2.219775  [19264/60000]\n",
      "loss: 2.242799  [25664/60000]\n",
      "loss: 2.217831  [32064/60000]\n",
      "loss: 2.169044  [38464/60000]\n",
      "loss: 2.217216  [44864/60000]\n",
      "loss: 2.189618  [51264/60000]\n",
      "loss: 2.144767  [57664/60000]\n",
      "Train loss: 2.210493, Accuracy: 37.0%\n",
      "Test Error: \n",
      " Avg loss: 2.161268, Accuracy: 43.9% \n",
      "\n",
      "Epoch 7\n",
      "-------------------------------\n",
      "loss: 2.168124  [   64/60000]\n",
      "loss: 2.118962  [ 6464/60000]\n",
      "loss: 2.147776  [12864/60000]\n",
      "loss: 2.094579  [19264/60000]\n",
      "loss: 2.122956  [25664/60000]\n",
      "loss: 2.055950  [32064/60000]\n",
      "loss: 1.927616  [38464/60000]\n",
      "loss: 2.039405  [44864/60000]\n",
      "loss: 1.954264  [51264/60000]\n",
      "loss: 1.807977  [57664/60000]\n",
      "Train loss: 2.043559, Accuracy: 46.3%\n",
      "Test Error: \n",
      " Avg loss: 1.845235, Accuracy: 49.6% \n",
      "\n",
      "Epoch 8\n",
      "-------------------------------\n",
      "loss: 1.879211  [   64/60000]\n",
      "loss: 1.724993  [ 6464/60000]\n",
      "loss: 1.794406  [12864/60000]\n",
      "loss: 1.628081  [19264/60000]\n",
      "loss: 1.654616  [25664/60000]\n",
      "loss: 1.534361  [32064/60000]\n",
      "loss: 1.262263  [38464/60000]\n",
      "loss: 1.547177  [44864/60000]\n",
      "loss: 1.366143  [51264/60000]\n",
      "loss: 1.154175  [57664/60000]\n",
      "Train loss: 1.539516, Accuracy: 57.0%\n",
      "Test Error: \n",
      " Avg loss: 1.195241, Accuracy: 65.9% \n",
      "\n",
      "Epoch 9\n",
      "-------------------------------\n",
      "loss: 1.274290  [   64/60000]\n",
      "loss: 1.039827  [ 6464/60000]\n",
      "loss: 1.142565  [12864/60000]\n",
      "loss: 0.943541  [19264/60000]\n",
      "loss: 1.040447  [25664/60000]\n",
      "loss: 0.945893  [32064/60000]\n",
      "loss: 0.752347  [38464/60000]\n",
      "loss: 1.073111  [44864/60000]\n",
      "loss: 0.860914  [51264/60000]\n",
      "loss: 0.812075  [57664/60000]\n",
      "Train loss: 0.972800, Accuracy: 72.0%\n",
      "Test Error: \n",
      " Avg loss: 0.775143, Accuracy: 76.5% \n",
      "\n",
      "Epoch 10\n",
      "-------------------------------\n",
      "loss: 0.843697  [   64/60000]\n",
      "loss: 0.618400  [ 6464/60000]\n",
      "loss: 0.717072  [12864/60000]\n",
      "loss: 0.596405  [19264/60000]\n",
      "loss: 0.776768  [25664/60000]\n",
      "loss: 0.641182  [32064/60000]\n",
      "loss: 0.532839  [38464/60000]\n",
      "loss: 0.805257  [44864/60000]\n",
      "loss: 0.644323  [51264/60000]\n",
      "loss: 0.693731  [57664/60000]\n",
      "Train loss: 0.686941, Accuracy: 79.4%\n",
      "Test Error: \n",
      " Avg loss: 0.603976, Accuracy: 81.7% \n",
      "\n",
      "Epoch 11\n",
      "-------------------------------\n",
      "loss: 0.684318  [   64/60000]\n",
      "loss: 0.473238  [ 6464/60000]\n",
      "loss: 0.549795  [12864/60000]\n",
      "loss: 0.488998  [19264/60000]\n",
      "loss: 0.658236  [25664/60000]\n",
      "loss: 0.525807  [32064/60000]\n",
      "loss: 0.437537  [38464/60000]\n",
      "loss: 0.683862  [44864/60000]\n",
      "loss: 0.566476  [51264/60000]\n",
      "loss: 0.640112  [57664/60000]\n",
      "Train loss: 0.570523, Accuracy: 82.7%\n",
      "Test Error: \n",
      " Avg loss: 0.522914, Accuracy: 84.3% \n",
      "\n",
      "Epoch 12\n",
      "-------------------------------\n",
      "loss: 0.600180  [   64/60000]\n",
      "loss: 0.413541  [ 6464/60000]\n",
      "loss: 0.474574  [12864/60000]\n",
      "loss: 0.440690  [19264/60000]\n",
      "loss: 0.578290  [25664/60000]\n",
      "loss: 0.477336  [32064/60000]\n",
      "loss: 0.384602  [38464/60000]\n",
      "loss: 0.618224  [44864/60000]\n",
      "loss: 0.518874  [51264/60000]\n",
      "loss: 0.597194  [57664/60000]\n",
      "Train loss: 0.508144, Accuracy: 84.7%\n",
      "Test Error: \n",
      " Avg loss: 0.469907, Accuracy: 85.8% \n",
      "\n",
      "Epoch 13\n",
      "-------------------------------\n",
      "loss: 0.536201  [   64/60000]\n",
      "loss: 0.377971  [ 6464/60000]\n",
      "loss: 0.425513  [12864/60000]\n",
      "loss: 0.409296  [19264/60000]\n",
      "loss: 0.510667  [25664/60000]\n",
      "loss: 0.449721  [32064/60000]\n",
      "loss: 0.346780  [38464/60000]\n",
      "loss: 0.573527  [44864/60000]\n",
      "loss: 0.477854  [51264/60000]\n",
      "loss: 0.557266  [57664/60000]\n",
      "Train loss: 0.463490, Accuracy: 86.1%\n",
      "Test Error: \n",
      " Avg loss: 0.428795, Accuracy: 86.9% \n",
      "\n",
      "Epoch 14\n",
      "-------------------------------\n",
      "loss: 0.480264  [   64/60000]\n",
      "loss: 0.356209  [ 6464/60000]\n",
      "loss: 0.384256  [12864/60000]\n",
      "loss: 0.385850  [19264/60000]\n",
      "loss: 0.451234  [25664/60000]\n",
      "loss: 0.426991  [32064/60000]\n",
      "loss: 0.313173  [38464/60000]\n",
      "loss: 0.539161  [44864/60000]\n",
      "loss: 0.439618  [51264/60000]\n",
      "loss: 0.522300  [57664/60000]\n",
      "Train loss: 0.426622, Accuracy: 87.3%\n",
      "Test Error: \n",
      " Avg loss: 0.394167, Accuracy: 88.1% \n",
      "\n",
      "Epoch 15\n",
      "-------------------------------\n",
      "loss: 0.432956  [   64/60000]\n",
      "loss: 0.339588  [ 6464/60000]\n",
      "loss: 0.348136  [12864/60000]\n",
      "loss: 0.366873  [19264/60000]\n",
      "loss: 0.396544  [25664/60000]\n",
      "loss: 0.406047  [32064/60000]\n",
      "loss: 0.281306  [38464/60000]\n",
      "loss: 0.511812  [44864/60000]\n",
      "loss: 0.403129  [51264/60000]\n",
      "loss: 0.489300  [57664/60000]\n",
      "Train loss: 0.394590, Accuracy: 88.3%\n",
      "Test Error: \n",
      " Avg loss: 0.364129, Accuracy: 88.9% \n",
      "\n",
      "Done!\n"
     ]
    }
   ],
   "source": [
    "epochs = 15\n",
    "for t in range(epochs):\n",
    "    print(f\"Epoch {t+1}\\n-------------------------------\")\n",
    "    train(train_dataloader, model, loss_fn, optimizer)\n",
    "    test(test_dataloader, model, loss_fn)\n",
    "print(\"Done!\")"
   ]
  },
  {
   "cell_type": "code",
   "execution_count": 19,
   "metadata": {},
   "outputs": [
    {
     "data": {
      "image/png": "[encoded data removed]",
      "text/plain": [
       "<Figure size 640x480 with 1 Axes>"
      ]
     },
     "metadata": {},
     "output_type": "display_data"
    },
    {
     "data": {
      "image/png": "[encoded data removed]",
      "text/plain": [
       "<Figure size 640x480 with 1 Axes>"
      ]
     },
     "metadata": {},
     "output_type": "display_data"
    }
   ],
   "source": [
    "plt.subplot(2,1,1)\n",
    "plt.plot(range(1, epochs+1), train_losses, label=\"Train Loss\")\n",
    "plt.plot(range(1, epochs+1), test_losses, label=\"Test Loss\")\n",
    "plt.xlabel(\"Epochs\")\n",
    "plt.ylabel(\"Loss\")\n",
    "plt.title(\"Training and Testing Loss over Epochs\")\n",
    "plt.legend()\n",
    "plt.show()\n",
    "\n",
    "plt.subplot(2,1,2)\n",
    "plt.plot(range(1, epochs+1), train_accuracies, label=\"Train Accuracy\")\n",
    "plt.plot(range(1, epochs+1), test_accuracies, label=\"Test Accuracy\")\n",
    "plt.xlabel(\"Epochs\")\n",
    "plt.ylabel(\"Accuracy\")\n",
    "plt.title(\"Training and Testing Accuracy over Epochs\")\n",
    "plt.legend()\n",
    "plt.show()\n"
   ]
  },
  {
   "cell_type": "code",
   "execution_count": 20,
   "metadata": {},
   "outputs": [
    {
     "name": "stdout",
     "output_type": "stream",
     "text": [
      "Predicted: \"7 - seven\", Actual: \"7 - seven\"\n"
     ]
    },
    {
     "data": {
      "image/png": "[encoded data removed]",
      "text/plain": [
       "<Figure size 640x480 with 1 Axes>"
      ]
     },
     "metadata": {},
     "output_type": "display_data"
    }
   ],
   "source": [
    "model.eval()\n",
    "idx = 0\n",
    "x, y = test_data[idx][0], test_data[idx][1]\n",
    "plt.imshow(x.permute(1,2,0), cmap = 'gray')\n",
    "with torch.no_grad():\n",
    "    x = x.to(device)\n",
    "    pred = model(x.unsqueeze(0))\n",
    "    predicted, actual = classes[pred[0].argmax(0)], classes[y]\n",
    "    print(f'Predicted: \"{predicted}\", Actual: \"{actual}\"')\n"
   ]
  },
  {
   "cell_type": "code",
   "execution_count": 37,
   "metadata": {},
   "outputs": [
    {
     "data": {
      "image/png": "[encoded data removed]",
      "text/plain": [
       "<Figure size 640x480 with 1 Axes>"
      ]
     },
     "metadata": {},
     "output_type": "display_data"
    },
    {
     "name": "stdout",
     "output_type": "stream",
     "text": [
      "Predicted: \"6 - six\", Actual: \"5 - five\"\n"
     ]
    }
   ],
   "source": [
    "import matplotlib.pyplot as plt\n",
    "\n",
    "# Function to display the image and its prediction\n",
    "def show_prediction(idx):\n",
    "    model.eval()  # Set the model to evaluation mode\n",
    "    x, y = test_data[idx][0], test_data[idx][1]  # Get image and label by index\n",
    "    \n",
    "    # Display the image\n",
    "    plt.imshow(x.permute(1, 2, 0), cmap='gray')\n",
    "    plt.title(f\"Actual: {classes[y]}\")\n",
    "    plt.show()\n",
    "\n",
    "    # Move the image tensor to the correct device\n",
    "    with torch.no_grad():\n",
    "        x = x.to(device)  # Move input to the device (e.g., DirectML or CPU)\n",
    "        pred = model(x.unsqueeze(0))  # Add batch dimension and make a prediction\n",
    "        \n",
    "        # Get predicted and actual classes\n",
    "        predicted, actual = classes[pred[0].argmax(0)], classes[y]\n",
    "        print(f'Predicted: \"{predicted}\", Actual: \"{actual}\"')\n",
    "\n",
    "# Example usage: Show prediction for a specific image (e.g., idx = 10)\n",
    "idx = 8\n",
    "show_prediction(idx)"
   ]
  }
 ],
 "metadata": {
  "kernelspec": {
   "display_name": ".venv",
   "language": "python",
   "name": "python3"
  },
  "language_info": {
   "codemirror_mode": {
    "name": "ipython",
    "version": 3
   },
   "file_extension": ".py",
   "mimetype": "text/x-python",
   "name": "python",
   "nbconvert_exporter": "python",
   "pygments_lexer": "ipython3",
   "version": "3.10.11"
  }
 },
 "nbformat": 4,
 "nbformat_minor": 2
}
