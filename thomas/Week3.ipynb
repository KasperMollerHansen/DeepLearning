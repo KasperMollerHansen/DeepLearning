{
 "cells": [
  {
   "cell_type": "markdown",
   "metadata": {},
   "source": [
    "# Part 1"
   ]
  },
  {
   "cell_type": "code",
   "execution_count": 1,
   "metadata": {},
   "outputs": [],
   "source": [
    "import torch\n",
    "from torch import nn\n",
    "from torch.utils.data import DataLoader\n",
    "from torchvision import datasets\n",
    "from torchvision.transforms import ToTensor\n",
    "import matplotlib.pyplot as plt\n",
    "from torchsummary import summary"
   ]
  },
  {
   "cell_type": "code",
   "execution_count": 2,
   "metadata": {},
   "outputs": [
    {
     "name": "stdout",
     "output_type": "stream",
     "text": [
      "Downloading http://yann.lecun.com/exdb/mnist/train-images-idx3-ubyte.gz\n",
      "Failed to download (trying next):\n",
      "HTTP Error 403: Forbidden\n",
      "\n",
      "Downloading https://ossci-datasets.s3.amazonaws.com/mnist/train-images-idx3-ubyte.gz\n",
      "Downloading https://ossci-datasets.s3.amazonaws.com/mnist/train-images-idx3-ubyte.gz to data\\MNIST\\raw\\train-images-idx3-ubyte.gz\n"
     ]
    },
    {
     "name": "stderr",
     "output_type": "stream",
     "text": [
      "100.0%\n"
     ]
    },
    {
     "name": "stdout",
     "output_type": "stream",
     "text": [
      "Extracting data\\MNIST\\raw\\train-images-idx3-ubyte.gz to data\\MNIST\\raw\n",
      "\n",
      "Downloading http://yann.lecun.com/exdb/mnist/train-labels-idx1-ubyte.gz\n",
      "Failed to download (trying next):\n",
      "HTTP Error 403: Forbidden\n",
      "\n",
      "Downloading https://ossci-datasets.s3.amazonaws.com/mnist/train-labels-idx1-ubyte.gz\n",
      "Downloading https://ossci-datasets.s3.amazonaws.com/mnist/train-labels-idx1-ubyte.gz to data\\MNIST\\raw\\train-labels-idx1-ubyte.gz\n"
     ]
    },
    {
     "name": "stderr",
     "output_type": "stream",
     "text": [
      "100.0%\n"
     ]
    },
    {
     "name": "stdout",
     "output_type": "stream",
     "text": [
      "Extracting data\\MNIST\\raw\\train-labels-idx1-ubyte.gz to data\\MNIST\\raw\n",
      "\n",
      "Downloading http://yann.lecun.com/exdb/mnist/t10k-images-idx3-ubyte.gz\n",
      "Failed to download (trying next):\n",
      "HTTP Error 403: Forbidden\n",
      "\n",
      "Downloading https://ossci-datasets.s3.amazonaws.com/mnist/t10k-images-idx3-ubyte.gz\n",
      "Downloading https://ossci-datasets.s3.amazonaws.com/mnist/t10k-images-idx3-ubyte.gz to data\\MNIST\\raw\\t10k-images-idx3-ubyte.gz\n"
     ]
    },
    {
     "name": "stderr",
     "output_type": "stream",
     "text": [
      "100.0%\n"
     ]
    },
    {
     "name": "stdout",
     "output_type": "stream",
     "text": [
      "Extracting data\\MNIST\\raw\\t10k-images-idx3-ubyte.gz to data\\MNIST\\raw\n",
      "\n",
      "Downloading http://yann.lecun.com/exdb/mnist/t10k-labels-idx1-ubyte.gz\n",
      "Failed to download (trying next):\n",
      "HTTP Error 403: Forbidden\n",
      "\n",
      "Downloading https://ossci-datasets.s3.amazonaws.com/mnist/t10k-labels-idx1-ubyte.gz\n",
      "Downloading https://ossci-datasets.s3.amazonaws.com/mnist/t10k-labels-idx1-ubyte.gz to data\\MNIST\\raw\\t10k-labels-idx1-ubyte.gz\n"
     ]
    },
    {
     "name": "stderr",
     "output_type": "stream",
     "text": [
      "100.0%"
     ]
    },
    {
     "name": "stdout",
     "output_type": "stream",
     "text": [
      "Extracting data\\MNIST\\raw\\t10k-labels-idx1-ubyte.gz to data\\MNIST\\raw\n",
      "\n"
     ]
    },
    {
     "name": "stderr",
     "output_type": "stream",
     "text": [
      "\n"
     ]
    }
   ],
   "source": [
    "# Download training data from open datasets.\n",
    "training_data = datasets.MNIST(\n",
    "    root=\"data\",\n",
    "    train=True,\n",
    "    download=True,\n",
    "    transform=ToTensor(),\n",
    ")\n",
    "\n",
    "# Download test data from open datasets.\n",
    "test_data = datasets.MNIST(\n",
    "    root=\"data\",\n",
    "    train=False,\n",
    "    download=True,\n",
    "    transform=ToTensor(),\n",
    ")"
   ]
  },
  {
   "cell_type": "code",
   "execution_count": 3,
   "metadata": {},
   "outputs": [
    {
     "name": "stdout",
     "output_type": "stream",
     "text": [
      "['0 - zero', '1 - one', '2 - two', '3 - three', '4 - four', '5 - five', '6 - six', '7 - seven', '8 - eight', '9 - nine']\n",
      "Number of samples in the training data: 60000\n",
      "Number of samples in the test data: 10000\n"
     ]
    }
   ],
   "source": [
    "classes = training_data.classes\n",
    "print(classes)\n",
    "\n",
    "num_training_samples = len(training_data)\n",
    "print(f\"Number of samples in the training data: {num_training_samples}\")\n",
    "\n",
    "num_test_samples = len(test_data)\n",
    "print(f\"Number of samples in the test data: {num_test_samples}\")"
   ]
  },
  {
   "cell_type": "code",
   "execution_count": 4,
   "metadata": {},
   "outputs": [
    {
     "name": "stdout",
     "output_type": "stream",
     "text": [
      "Shape of X [N, C, H, W]: torch.Size([64, 1, 28, 28])\n",
      "Shape of y: torch.Size([64]) torch.int64\n"
     ]
    },
    {
     "data": {
      "image/png": "[encoded data removed]",
      "text/plain": [
       "<Figure size 1000x1000 with 6 Axes>"
      ]
     },
     "metadata": {},
     "output_type": "display_data"
    }
   ],
   "source": [
    "batch_size = 64 # we will talk about it later\n",
    "\n",
    "# Create data loaders.\n",
    "train_dataloader = DataLoader(training_data, batch_size=batch_size)\n",
    "test_dataloader = DataLoader(test_data, batch_size=batch_size)\n",
    "\n",
    "for X, y in train_dataloader:\n",
    "    print(f\"Shape of X [N, C, H, W]: {X.shape}\")\n",
    "    print(f\"Shape of y: {y.shape} {y.dtype}\")\n",
    "\n",
    "    fig, axes = plt.subplots(1, 6, figsize=(10, 10))\n",
    "    axes = axes.flatten()\n",
    "\n",
    "    for i in range(6):\n",
    "        img = X[i].squeeze().numpy()\n",
    "        axes[i].imshow(img, cmap=\"gray\")\n",
    "        axes[i].set_title(f\"Label: {y[i]}\")\n",
    "        axes[i].axis('off')\n",
    "\n",
    "    plt.tight_layout()\n",
    "    plt.show()\n",
    "\n",
    "    break"
   ]
  },
  {
   "cell_type": "code",
   "execution_count": 5,
   "metadata": {},
   "outputs": [
    {
     "name": "stdout",
     "output_type": "stream",
     "text": [
      "Using cpu device\n",
      "NeuralNetwork(\n",
      "  (flatten): Flatten(start_dim=1, end_dim=-1)\n",
      "  (linear_relu_stack): Sequential(\n",
      "    (0): Linear(in_features=784, out_features=512, bias=True)\n",
      "    (1): ReLU(inplace=True)\n",
      "    (2): Linear(in_features=512, out_features=512, bias=True)\n",
      "    (3): ReLU(inplace=True)\n",
      "    (4): Linear(in_features=512, out_features=10, bias=True)\n",
      "  )\n",
      ")\n"
     ]
    }
   ],
   "source": [
    "# Get cpu, gpu or mps device for training.\n",
    "device = (\n",
    "    \"cuda\" if torch.cuda.is_available()\n",
    "     else \"cpu\"\n",
    ")\n",
    "print(f\"Using {device} device\")\n",
    "\n",
    "# Define model\n",
    "class NeuralNetwork(nn.Module):\n",
    "    def __init__(self):\n",
    "        super().__init__()\n",
    "        self.flatten = nn.Flatten()\n",
    "        self.linear_relu_stack = nn.Sequential(\n",
    "            nn.Linear(28*28, 512),\n",
    "            nn.ReLU(inplace=True),\n",
    "            nn.Linear(512, 512),\n",
    "            nn.ReLU(inplace=True),\n",
    "            nn.Linear(512, 10)\n",
    "        )\n",
    "\n",
    "    def forward(self, x):\n",
    "        x = self.flatten(x)\n",
    "        logits = self.linear_relu_stack(x)\n",
    "        return logits\n",
    "\n",
    "model = NeuralNetwork().to(device)\n",
    "print(model)"
   ]
  },
  {
   "cell_type": "code",
   "execution_count": 6,
   "metadata": {},
   "outputs": [
    {
     "name": "stdout",
     "output_type": "stream",
     "text": [
      "----------------------------------------------------------------\n",
      "        Layer (type)               Output Shape         Param #\n",
      "================================================================\n",
      "           Flatten-1                  [-1, 784]               0\n",
      "            Linear-2                  [-1, 512]         401,920\n",
      "              ReLU-3                  [-1, 512]               0\n",
      "            Linear-4                  [-1, 512]         262,656\n",
      "              ReLU-5                  [-1, 512]               0\n",
      "            Linear-6                   [-1, 10]           5,130\n",
      "================================================================\n",
      "Total params: 669,706\n",
      "Trainable params: 669,706\n",
      "Non-trainable params: 0\n",
      "----------------------------------------------------------------\n",
      "Input size (MB): 0.00\n",
      "Forward/backward pass size (MB): 0.02\n",
      "Params size (MB): 2.55\n",
      "Estimated Total Size (MB): 2.58\n",
      "----------------------------------------------------------------\n"
     ]
    }
   ],
   "source": [
    "summary(model, input_size=(1, 28, 28), device=device)"
   ]
  },
  {
   "cell_type": "code",
   "execution_count": 9,
   "metadata": {},
   "outputs": [],
   "source": [
    "loss_fn = nn.CrossEntropyLoss()\n",
    "optimizer = torch.optim.SGD(model.parameters(), lr=1e-3) # Let's use stocastic gradient descent (We will talk about it in the coming weeks)"
   ]
  },
  {
   "cell_type": "code",
   "execution_count": 10,
   "metadata": {},
   "outputs": [],
   "source": [
    "train_losses = []\n",
    "test_losses = []\n",
    "train_accuracies = []\n",
    "test_accuracies = []\n",
    "\n",
    "\n",
    "def train(dataloader, model, loss_fn, optimizer):\n",
    "    size = len(dataloader.dataset)\n",
    "    model.train()\n",
    "    total_loss, correct = 0, 0  # Track the total loss for the epoch\n",
    "\n",
    "    for batch, (X, y) in enumerate(dataloader):\n",
    "        X, y = X.to(device), y.to(device)\n",
    "\n",
    "        # Compute prediction error\n",
    "        pred = model(X)\n",
    "        loss = loss_fn(pred, y)\n",
    "        total_loss += loss.item()  # Accumulate loss\n",
    "\n",
    "        # Backpropagation\n",
    "        loss.backward()\n",
    "        optimizer.step()\n",
    "        optimizer.zero_grad()\n",
    "\n",
    "        # Calculate accuracy\n",
    "        correct += (pred.argmax(1) == y).type(torch.float).sum().item()\n",
    "\n",
    "        if batch % 100 == 0:\n",
    "            loss, current = loss.item(), (batch + 1) * len(X)\n",
    "            print(f\"loss: {loss:>7f}  [{current:>5d}/{size:>5d}]\")\n",
    "    avg_loss = total_loss / len(dataloader)  # Calculate average loss for the epoch\n",
    "    avg_accuracy = correct / size\n",
    "\n",
    "    train_losses.append(avg_loss)  # Store the average loss for the epoch\n",
    "    train_accuracies.append(avg_accuracy) # Store the average accuracy for the epoch\n",
    "\n",
    "    print(f\"Train loss: {avg_loss:>7f}, Accuracy: {(100*avg_accuracy):>0.1f}%\")"
   ]
  },
  {
   "cell_type": "code",
   "execution_count": 11,
   "metadata": {},
   "outputs": [],
   "source": [
    "def test(dataloader, model, loss_fn):\n",
    "    size = len(dataloader.dataset)\n",
    "    num_batches = len(dataloader)\n",
    "    model.eval()\n",
    "    test_loss, correct = 0, 0\n",
    "    with torch.no_grad():\n",
    "        for X, y in dataloader:\n",
    "            X, y = X.to(device), y.to(device)\n",
    "            pred = model(X)\n",
    "            test_loss += loss_fn(pred, y).item()\n",
    "            correct += (pred.argmax(1) == y).type(torch.float).sum().item()\n",
    "    test_loss /= num_batches\n",
    "    correct /= size\n",
    "    test_losses.append(test_loss)  # Store the test loss for the epoch\n",
    "    test_accuracies.append(correct)\n",
    "\n",
    "    print(f\"Test Error: \\n Avg loss: {test_loss:>8f}, Accuracy: {(100*correct):>0.1f}% \\n\")\n"
   ]
  },
  {
   "cell_type": "code",
   "execution_count": 12,
   "metadata": {},
   "outputs": [
    {
     "name": "stdout",
     "output_type": "stream",
     "text": [
      "Epoch 1\n",
      "-------------------------------\n",
      "loss: 2.303144  [   64/60000]\n",
      "loss: 2.305617  [ 6464/60000]\n",
      "loss: 2.304868  [12864/60000]\n",
      "loss: 2.293095  [19264/60000]\n",
      "loss: 2.288146  [25664/60000]\n",
      "loss: 2.283595  [32064/60000]\n",
      "loss: 2.267622  [38464/60000]\n",
      "loss: 2.285887  [44864/60000]\n",
      "loss: 2.273601  [51264/60000]\n",
      "loss: 2.263497  [57664/60000]\n",
      "Train loss: 2.283917, Accuracy: 27.6%\n",
      "Test Error: \n",
      " Avg loss: 2.262055, Accuracy: 34.9% \n",
      "\n",
      "Epoch 2\n",
      "-------------------------------\n",
      "loss: 2.259858  [   64/60000]\n",
      "loss: 2.260200  [ 6464/60000]\n",
      "loss: 2.268516  [12864/60000]\n",
      "loss: 2.236197  [19264/60000]\n",
      "loss: 2.245085  [25664/60000]\n",
      "loss: 2.239758  [32064/60000]\n",
      "loss: 2.213222  [38464/60000]\n",
      "loss: 2.245093  [44864/60000]\n",
      "loss: 2.217285  [51264/60000]\n",
      "loss: 2.202762  [57664/60000]\n",
      "Train loss: 2.236233, Accuracy: 39.0%\n",
      "Test Error: \n",
      " Avg loss: 2.203408, Accuracy: 44.5% \n",
      "\n",
      "Epoch 3\n",
      "-------------------------------\n",
      "loss: 2.199300  [   64/60000]\n",
      "loss: 2.194442  [ 6464/60000]\n",
      "loss: 2.216723  [12864/60000]\n",
      "loss: 2.152393  [19264/60000]\n",
      "loss: 2.177794  [25664/60000]\n",
      "loss: 2.168422  [32064/60000]\n",
      "loss: 2.124960  [38464/60000]\n",
      "loss: 2.175868  [44864/60000]\n",
      "loss: 2.124599  [51264/60000]\n",
      "loss: 2.102995  [57664/60000]\n",
      "Train loss: 2.161140, Accuracy: 51.8%\n",
      "Test Error: \n",
      " Avg loss: 2.103981, Accuracy: 58.3% \n",
      "\n",
      "Epoch 4\n",
      "-------------------------------\n",
      "loss: 2.097268  [   64/60000]\n",
      "loss: 2.081429  [ 6464/60000]\n",
      "loss: 2.126072  [12864/60000]\n",
      "loss: 2.013251  [19264/60000]\n",
      "loss: 2.059856  [25664/60000]\n",
      "loss: 2.041823  [32064/60000]\n",
      "loss: 1.971949  [38464/60000]\n",
      "loss: 2.053366  [44864/60000]\n",
      "loss: 1.965625  [51264/60000]\n",
      "loss: 1.932891  [57664/60000]\n",
      "Train loss: 2.030861, Accuracy: 61.8%\n",
      "Test Error: \n",
      " Avg loss: 1.932385, Accuracy: 66.0% \n",
      "\n",
      "Epoch 5\n",
      "-------------------------------\n",
      "loss: 1.925715  [   64/60000]\n",
      "loss: 1.889978  [ 6464/60000]\n",
      "loss: 1.962325  [12864/60000]\n",
      "loss: 1.793519  [19264/60000]\n",
      "loss: 1.854019  [25664/60000]\n",
      "loss: 1.826254  [32064/60000]\n",
      "loss: 1.729432  [38464/60000]\n",
      "loss: 1.853668  [44864/60000]\n",
      "loss: 1.717576  [51264/60000]\n",
      "loss: 1.674804  [57664/60000]\n",
      "Train loss: 1.817195, Accuracy: 68.3%\n",
      "Test Error: \n",
      " Avg loss: 1.667496, Accuracy: 71.2% \n",
      "\n",
      "Done!\n"
     ]
    }
   ],
   "source": [
    "epochs = 5\n",
    "for t in range(epochs):\n",
    "    print(f\"Epoch {t+1}\\n-------------------------------\")\n",
    "    train(train_dataloader, model, loss_fn, optimizer)\n",
    "    test(test_dataloader, model, loss_fn)\n",
    "print(\"Done!\")\n"
   ]
  },
  {
   "cell_type": "code",
   "execution_count": 13,
   "metadata": {},
   "outputs": [
    {
     "data": {
      "image/png": "[encoded data removed]",
      "text/plain": [
       "<Figure size 640x480 with 1 Axes>"
      ]
     },
     "metadata": {},
     "output_type": "display_data"
    },
    {
     "data": {
      "image/png": "[encoded data removed]",
      "text/plain": [
       "<Figure size 640x480 with 1 Axes>"
      ]
     },
     "metadata": {},
     "output_type": "display_data"
    }
   ],
   "source": [
    "plt.subplot(2,1,1)\n",
    "plt.plot(range(1, epochs+1), train_losses, label=\"Train Loss\")\n",
    "plt.plot(range(1, epochs+1), test_losses, label=\"Test Loss\")\n",
    "plt.xlabel(\"Epochs\")\n",
    "plt.ylabel(\"Loss\")\n",
    "plt.title(\"Training and Testing Loss over Epochs\")\n",
    "plt.legend()\n",
    "plt.show()\n",
    "\n",
    "plt.subplot(2,1,2)\n",
    "plt.plot(range(1, epochs+1), train_accuracies, label=\"Train Accuracy\")\n",
    "plt.plot(range(1, epochs+1), test_accuracies, label=\"Test Accuracy\")\n",
    "plt.xlabel(\"Epochs\")\n",
    "plt.ylabel(\"Accuracy\")\n",
    "plt.title(\"Training and Testing Accuracy over Epochs\")\n",
    "plt.legend()\n",
    "plt.show()"
   ]
  },
  {
   "cell_type": "code",
   "execution_count": 14,
   "metadata": {},
   "outputs": [
    {
     "name": "stdout",
     "output_type": "stream",
     "text": [
      "Predicted: \"7 - seven\", Actual: \"7 - seven\"\n"
     ]
    },
    {
     "data": {
      "image/png": "[encoded data removed]",
      "text/plain": [
       "<Figure size 640x480 with 1 Axes>"
      ]
     },
     "metadata": {},
     "output_type": "display_data"
    }
   ],
   "source": [
    "model.eval()\n",
    "idx = 0\n",
    "x, y = test_data[idx][0], test_data[idx][1]\n",
    "plt.imshow(x.permute(1,2,0), cmap = 'gray')\n",
    "with torch.no_grad():\n",
    "    x = x.to(device)\n",
    "    pred = model(x)\n",
    "    predicted, actual = classes[pred[0].argmax(0)], classes[y]\n",
    "    print(f'Predicted: \"{predicted}\", Actual: \"{actual}\"')"
   ]
  },
  {
   "cell_type": "markdown",
   "metadata": {},
   "source": [
    "# Part 2"
   ]
  },
  {
   "cell_type": "code",
   "execution_count": 37,
   "metadata": {},
   "outputs": [],
   "source": [
    "# Download training data from open datasets.\n",
    "training_data = datasets.MNIST(\n",
    "    root=\"data\",\n",
    "    train=True,\n",
    "    download=True,\n",
    "    transform=ToTensor(),\n",
    ")\n",
    "\n",
    "# Download test data from open datasets.\n",
    "test_data = datasets.MNIST(\n",
    "    root=\"data\",\n",
    "    train=False,\n",
    "    download=True,\n",
    "    transform=ToTensor(),\n",
    ")"
   ]
  },
  {
   "cell_type": "code",
   "execution_count": 38,
   "metadata": {},
   "outputs": [
    {
     "name": "stdout",
     "output_type": "stream",
     "text": [
      "['0 - zero', '1 - one', '2 - two', '3 - three', '4 - four', '5 - five', '6 - six', '7 - seven', '8 - eight', '9 - nine']\n",
      "Number of samples in the training data: 60000\n",
      "Number of samples in the test data: 10000\n"
     ]
    }
   ],
   "source": [
    "classes = training_data.classes\n",
    "print(classes)\n",
    "\n",
    "num_training_samples = len(training_data)\n",
    "print(f\"Number of samples in the training data: {num_training_samples}\")\n",
    "\n",
    "num_test_samples = len(test_data)\n",
    "print(f\"Number of samples in the test data: {num_test_samples}\")\n"
   ]
  },
  {
   "cell_type": "code",
   "execution_count": 39,
   "metadata": {},
   "outputs": [
    {
     "name": "stdout",
     "output_type": "stream",
     "text": [
      "Shape of X [N, C, H, W]: torch.Size([64, 1, 28, 28])\n",
      "Shape of y: torch.Size([64]) torch.int64\n"
     ]
    },
    {
     "data": {
      "image/png": "[encoded data removed]",
      "text/plain": [
       "<Figure size 1000x1000 with 6 Axes>"
      ]
     },
     "metadata": {},
     "output_type": "display_data"
    }
   ],
   "source": [
    "batch_size = 64 # we will talk about it later\n",
    "\n",
    "# Create data loaders.\n",
    "train_dataloader = DataLoader(training_data, batch_size=batch_size)\n",
    "test_dataloader = DataLoader(test_data, batch_size=batch_size)\n",
    "\n",
    "for X, y in train_dataloader:\n",
    "    print(f\"Shape of X [N, C, H, W]: {X.shape}\")\n",
    "    print(f\"Shape of y: {y.shape} {y.dtype}\")\n",
    "\n",
    "    fig, axes = plt.subplots(1, 6, figsize=(10, 10))\n",
    "    axes = axes.flatten()\n",
    "\n",
    "    for i in range(6):\n",
    "        img = X[i].squeeze().numpy()\n",
    "        axes[i].imshow(img, cmap=\"gray\")\n",
    "        axes[i].set_title(f\"Label: {y[i]}\")\n",
    "        axes[i].axis('off')\n",
    "\n",
    "    plt.tight_layout()\n",
    "    plt.show()\n",
    "\n",
    "    break"
   ]
  },
  {
   "cell_type": "code",
   "execution_count": 40,
   "metadata": {},
   "outputs": [
    {
     "name": "stdout",
     "output_type": "stream",
     "text": [
      "Using cpu device\n",
      "NeuralNetwork(\n",
      "  (flatten): Flatten(start_dim=1, end_dim=-1)\n",
      "  (linear_relu_stack): Sequential(\n",
      "    (0): Linear(in_features=784, out_features=512, bias=True)\n",
      "    (1): ReLU(inplace=True)\n",
      "    (2): Linear(in_features=512, out_features=512, bias=True)\n",
      "    (3): ReLU(inplace=True)\n",
      "    (4): Linear(in_features=512, out_features=10, bias=True)\n",
      "  )\n",
      ")\n"
     ]
    }
   ],
   "source": [
    "# Get cpu, gpu or mps device for training.\n",
    "device = (\n",
    "    \"cuda\" if torch.cuda.is_available()\n",
    "     else \"cpu\"\n",
    ")\n",
    "print(f\"Using {device} device\")\n",
    "\n",
    "# Define model\n",
    "class NeuralNetwork(nn.Module):\n",
    "    def __init__(self):\n",
    "        super().__init__()\n",
    "        self.flatten = nn.Flatten()\n",
    "        self.linear_relu_stack = nn.Sequential(\n",
    "            nn.Linear(28*28, 512),\n",
    "            nn.ReLU(inplace=True),\n",
    "            nn.Linear(512, 512),\n",
    "            nn.ReLU(inplace=True),\n",
    "            nn.Linear(512, 10)\n",
    "        )\n",
    "\n",
    "    def forward(self, x):\n",
    "        x = self.flatten(x)\n",
    "        logits = self.linear_relu_stack(x)\n",
    "        return logits\n",
    "\n",
    "model = NeuralNetwork().to(device)\n",
    "print(model)"
   ]
  },
  {
   "cell_type": "code",
   "execution_count": 41,
   "metadata": {},
   "outputs": [
    {
     "name": "stdout",
     "output_type": "stream",
     "text": [
      "----------------------------------------------------------------\n",
      "        Layer (type)               Output Shape         Param #\n",
      "================================================================\n",
      "           Flatten-1                  [-1, 784]               0\n",
      "            Linear-2                  [-1, 512]         401,920\n",
      "              ReLU-3                  [-1, 512]               0\n",
      "            Linear-4                  [-1, 512]         262,656\n",
      "              ReLU-5                  [-1, 512]               0\n",
      "            Linear-6                   [-1, 10]           5,130\n",
      "================================================================\n",
      "Total params: 669,706\n",
      "Trainable params: 669,706\n",
      "Non-trainable params: 0\n",
      "----------------------------------------------------------------\n",
      "Input size (MB): 0.00\n",
      "Forward/backward pass size (MB): 0.02\n",
      "Params size (MB): 2.55\n",
      "Estimated Total Size (MB): 2.58\n",
      "----------------------------------------------------------------\n"
     ]
    }
   ],
   "source": [
    "summary(model, input_size=(1, 28, 28), device=device)"
   ]
  },
  {
   "cell_type": "code",
   "execution_count": 42,
   "metadata": {},
   "outputs": [],
   "source": [
    "loss_fn = nn.CrossEntropyLoss()\n",
    "optimizer = torch.optim.SGD(model.parameters(), lr=1e-3) # Let's use stocastic gradient descent (We will talk about it in the coming weeks)"
   ]
  },
  {
   "cell_type": "code",
   "execution_count": 43,
   "metadata": {},
   "outputs": [],
   "source": [
    "train_losses = []\n",
    "test_losses = []\n",
    "train_accuracies = []\n",
    "test_accuracies = []\n",
    "\n",
    "\n",
    "def train(dataloader, model, loss_fn, optimizer):\n",
    "    size = len(dataloader.dataset)\n",
    "    model.train()\n",
    "    total_loss, correct = 0, 0  # Track the total loss for the epoch\n",
    "\n",
    "    for batch, (X, y) in enumerate(dataloader):\n",
    "        X, y = X.to(device), y.to(device)\n",
    "\n",
    "        # Compute prediction error\n",
    "        pred = model(X)\n",
    "        loss = loss_fn(pred, y)\n",
    "        total_loss += loss.item()  # Accumulate loss\n",
    "\n",
    "        # Backpropagation\n",
    "        loss.backward()\n",
    "        optimizer.step()\n",
    "        optimizer.zero_grad()\n",
    "\n",
    "        # Calculate accuracy\n",
    "        correct += (pred.argmax(1) == y).type(torch.float).sum().item()\n",
    "\n",
    "        if batch % 100 == 0:\n",
    "            loss, current = loss.item(), (batch + 1) * len(X)\n",
    "            print(f\"loss: {loss:>7f}  [{current:>5d}/{size:>5d}]\")\n",
    "    avg_loss = total_loss / len(dataloader)  # Calculate average loss for the epoch\n",
    "    avg_accuracy = correct / size\n",
    "\n",
    "    train_losses.append(avg_loss)  # Store the average loss for the epoch\n",
    "    train_accuracies.append(avg_accuracy) # Store the average accuracy for the epoch\n",
    "\n",
    "    print(f\"Train loss: {avg_loss:>7f}, Accuracy: {(100*avg_accuracy):>0.1f}%\")"
   ]
  },
  {
   "cell_type": "code",
   "execution_count": 44,
   "metadata": {},
   "outputs": [],
   "source": [
    "def test(dataloader, model, loss_fn):\n",
    "    size = len(dataloader.dataset)\n",
    "    num_batches = len(dataloader)\n",
    "    model.eval()\n",
    "    test_loss, correct = 0, 0\n",
    "    with torch.no_grad():\n",
    "        for X, y in dataloader:\n",
    "            X, y = X.to(device), y.to(device)\n",
    "            pred = model(X)\n",
    "            test_loss += loss_fn(pred, y).item()\n",
    "            correct += (pred.argmax(1) == y).type(torch.float).sum().item()\n",
    "    test_loss /= num_batches\n",
    "    correct /= size\n",
    "    test_losses.append(test_loss)  # Store the test loss for the epoch\n",
    "    test_accuracies.append(correct)\n",
    "\n",
    "    print(f\"Test Error: \\n Avg loss: {test_loss:>8f}, Accuracy: {(100*correct):>0.1f}% \\n\")"
   ]
  },
  {
   "cell_type": "code",
   "execution_count": 45,
   "metadata": {},
   "outputs": [
    {
     "name": "stdout",
     "output_type": "stream",
     "text": [
      "Epoch 1\n",
      "-------------------------------\n",
      "loss: 2.304713  [   64/60000]\n",
      "loss: 2.301173  [ 6464/60000]\n",
      "loss: 2.306280  [12864/60000]\n",
      "loss: 2.283988  [19264/60000]\n",
      "loss: 2.282345  [25664/60000]\n",
      "loss: 2.272712  [32064/60000]\n",
      "loss: 2.263439  [38464/60000]\n",
      "loss: 2.277617  [44864/60000]\n",
      "loss: 2.261913  [51264/60000]\n",
      "loss: 2.257351  [57664/60000]\n",
      "Train loss: 2.277358, Accuracy: 19.1%\n",
      "Test Error: \n",
      " Avg loss: 2.249173, Accuracy: 28.7% \n",
      "\n",
      "Epoch 2\n",
      "-------------------------------\n",
      "loss: 2.251143  [   64/60000]\n",
      "loss: 2.241962  [ 6464/60000]\n",
      "loss: 2.259499  [12864/60000]\n",
      "loss: 2.211158  [19264/60000]\n",
      "loss: 2.228851  [25664/60000]\n",
      "loss: 2.214410  [32064/60000]\n",
      "loss: 2.190980  [38464/60000]\n",
      "loss: 2.224682  [44864/60000]\n",
      "loss: 2.187773  [51264/60000]\n",
      "loss: 2.179598  [57664/60000]\n",
      "Train loss: 2.215603, Accuracy: 42.9%\n",
      "Test Error: \n",
      " Avg loss: 2.172050, Accuracy: 53.6% \n",
      "\n",
      "Epoch 3\n",
      "-------------------------------\n",
      "loss: 2.174132  [   64/60000]\n",
      "loss: 2.155836  [ 6464/60000]\n",
      "loss: 2.189343  [12864/60000]\n",
      "loss: 2.102713  [19264/60000]\n",
      "loss: 2.141471  [25664/60000]\n",
      "loss: 2.119142  [32064/60000]\n",
      "loss: 2.073419  [38464/60000]\n",
      "loss: 2.133663  [44864/60000]\n",
      "loss: 2.067264  [51264/60000]\n",
      "loss: 2.050105  [57664/60000]\n",
      "Train loss: 2.116835, Accuracy: 58.5%\n",
      "Test Error: \n",
      " Avg loss: 2.041542, Accuracy: 65.0% \n",
      "\n",
      "Epoch 4\n",
      "-------------------------------\n",
      "loss: 2.044937  [   64/60000]\n",
      "loss: 2.010704  [ 6464/60000]\n",
      "loss: 2.066183  [12864/60000]\n",
      "loss: 1.926375  [19264/60000]\n",
      "loss: 1.984661  [25664/60000]\n",
      "loss: 1.951621  [32064/60000]\n",
      "loss: 1.878229  [38464/60000]\n",
      "loss: 1.973582  [44864/60000]\n",
      "loss: 1.865678  [51264/60000]\n",
      "loss: 1.837792  [57664/60000]\n",
      "Train loss: 1.948656, Accuracy: 67.3%\n",
      "Test Error: \n",
      " Avg loss: 1.823346, Accuracy: 71.6% \n",
      "\n",
      "Epoch 5\n",
      "-------------------------------\n",
      "loss: 1.835142  [   64/60000]\n",
      "loss: 1.773152  [ 6464/60000]\n",
      "loss: 1.851676  [12864/60000]\n",
      "loss: 1.659086  [19264/60000]\n",
      "loss: 1.721552  [25664/60000]\n",
      "loss: 1.678496  [32064/60000]\n",
      "loss: 1.588578  [38464/60000]\n",
      "loss: 1.724145  [44864/60000]\n",
      "loss: 1.574590  [51264/60000]\n",
      "loss: 1.539671  [57664/60000]\n",
      "Train loss: 1.687684, Accuracy: 72.0%\n",
      "Test Error: \n",
      " Avg loss: 1.514757, Accuracy: 74.3% \n",
      "\n",
      "Epoch 6\n",
      "-------------------------------\n",
      "loss: 1.548916  [   64/60000]\n",
      "loss: 1.450488  [ 6464/60000]\n",
      "loss: 1.542524  [12864/60000]\n",
      "loss: 1.339008  [19264/60000]\n",
      "loss: 1.386982  [25664/60000]\n",
      "loss: 1.340932  [32064/60000]\n",
      "loss: 1.258354  [38464/60000]\n",
      "loss: 1.422933  [44864/60000]\n",
      "loss: 1.270446  [51264/60000]\n",
      "loss: 1.233471  [57664/60000]\n",
      "Train loss: 1.372098, Accuracy: 74.5%\n",
      "Test Error: \n",
      " Avg loss: 1.201525, Accuracy: 77.2% \n",
      "\n",
      "Epoch 7\n",
      "-------------------------------\n",
      "loss: 1.264091  [   64/60000]\n",
      "loss: 1.141380  [ 6464/60000]\n",
      "loss: 1.229755  [12864/60000]\n",
      "loss: 1.067913  [19264/60000]\n",
      "loss: 1.098120  [25664/60000]\n",
      "loss: 1.053085  [32064/60000]\n",
      "loss: 0.989512  [38464/60000]\n",
      "loss: 1.161952  [44864/60000]\n",
      "loss: 1.040665  [51264/60000]\n",
      "loss: 1.001994  [57664/60000]\n",
      "Train loss: 1.098839, Accuracy: 77.6%\n",
      "Test Error: \n",
      " Avg loss: 0.969337, Accuracy: 79.5% \n",
      "\n",
      "Epoch 8\n",
      "-------------------------------\n",
      "loss: 1.053234  [   64/60000]\n",
      "loss: 0.922987  [ 6464/60000]\n",
      "loss: 0.994179  [12864/60000]\n",
      "loss: 0.884335  [19264/60000]\n",
      "loss: 0.901826  [25664/60000]\n",
      "loss: 0.856641  [32064/60000]\n",
      "loss: 0.808022  [38464/60000]\n",
      "loss: 0.975438  [44864/60000]\n",
      "loss: 0.888927  [51264/60000]\n",
      "loss: 0.850322  [57664/60000]\n",
      "Train loss: 0.908369, Accuracy: 80.0%\n",
      "Test Error: \n",
      " Avg loss: 0.815446, Accuracy: 81.3% \n",
      "\n",
      "Epoch 9\n",
      "-------------------------------\n",
      "loss: 0.909882  [   64/60000]\n",
      "loss: 0.779968  [ 6464/60000]\n",
      "loss: 0.833854  [12864/60000]\n",
      "loss: 0.765082  [19264/60000]\n",
      "loss: 0.771765  [25664/60000]\n",
      "loss: 0.727228  [32064/60000]\n",
      "loss: 0.685094  [38464/60000]\n",
      "loss: 0.847040  [44864/60000]\n",
      "loss: 0.786473  [51264/60000]\n",
      "loss: 0.750980  [57664/60000]\n",
      "Train loss: 0.780982, Accuracy: 81.7%\n",
      "Test Error: \n",
      " Avg loss: 0.711417, Accuracy: 82.7% \n",
      "\n",
      "Epoch 10\n",
      "-------------------------------\n",
      "loss: 0.809276  [   64/60000]\n",
      "loss: 0.681470  [ 6464/60000]\n",
      "loss: 0.722974  [12864/60000]\n",
      "loss: 0.685091  [19264/60000]\n",
      "loss: 0.680092  [25664/60000]\n",
      "loss: 0.639314  [32064/60000]\n",
      "loss: 0.596587  [38464/60000]\n",
      "loss: 0.756939  [44864/60000]\n",
      "loss: 0.712730  [51264/60000]\n",
      "loss: 0.682769  [57664/60000]\n",
      "Train loss: 0.692580, Accuracy: 83.0%\n",
      "Test Error: \n",
      " Avg loss: 0.637493, Accuracy: 84.0% \n",
      "\n",
      "Epoch 11\n",
      "-------------------------------\n",
      "loss: 0.735052  [   64/60000]\n",
      "loss: 0.609113  [ 6464/60000]\n",
      "loss: 0.642705  [12864/60000]\n",
      "loss: 0.628947  [19264/60000]\n",
      "loss: 0.611632  [25664/60000]\n",
      "loss: 0.577589  [32064/60000]\n",
      "loss: 0.529844  [38464/60000]\n",
      "loss: 0.691845  [44864/60000]\n",
      "loss: 0.656553  [51264/60000]\n",
      "loss: 0.633757  [57664/60000]\n",
      "Train loss: 0.628251, Accuracy: 84.1%\n",
      "Test Error: \n",
      " Avg loss: 0.582505, Accuracy: 85.2% \n",
      "\n",
      "Epoch 12\n",
      "-------------------------------\n",
      "loss: 0.677572  [   64/60000]\n",
      "loss: 0.553326  [ 6464/60000]\n",
      "loss: 0.582038  [12864/60000]\n",
      "loss: 0.587560  [19264/60000]\n",
      "loss: 0.558495  [25664/60000]\n",
      "loss: 0.533034  [32064/60000]\n",
      "loss: 0.477990  [38464/60000]\n",
      "loss: 0.643280  [44864/60000]\n",
      "loss: 0.612104  [51264/60000]\n",
      "loss: 0.596995  [57664/60000]\n",
      "Train loss: 0.579497, Accuracy: 85.0%\n",
      "Test Error: \n",
      " Avg loss: 0.540060, Accuracy: 86.1% \n",
      "\n",
      "Epoch 13\n",
      "-------------------------------\n",
      "loss: 0.631392  [   64/60000]\n",
      "loss: 0.508890  [ 6464/60000]\n",
      "loss: 0.534436  [12864/60000]\n",
      "loss: 0.555649  [19264/60000]\n",
      "loss: 0.516128  [25664/60000]\n",
      "loss: 0.499903  [32064/60000]\n",
      "loss: 0.436863  [38464/60000]\n",
      "loss: 0.605877  [44864/60000]\n",
      "loss: 0.576111  [51264/60000]\n",
      "loss: 0.568654  [57664/60000]\n",
      "Train loss: 0.541313, Accuracy: 85.9%\n",
      "Test Error: \n",
      " Avg loss: 0.506324, Accuracy: 86.7% \n",
      "\n",
      "Epoch 14\n",
      "-------------------------------\n",
      "loss: 0.593098  [   64/60000]\n",
      "loss: 0.472824  [ 6464/60000]\n",
      "loss: 0.496048  [12864/60000]\n",
      "loss: 0.530076  [19264/60000]\n",
      "loss: 0.481580  [25664/60000]\n",
      "loss: 0.474627  [32064/60000]\n",
      "loss: 0.403559  [38464/60000]\n",
      "loss: 0.576208  [44864/60000]\n",
      "loss: 0.546373  [51264/60000]\n",
      "loss: 0.546296  [57664/60000]\n",
      "Train loss: 0.510612, Accuracy: 86.6%\n",
      "Test Error: \n",
      " Avg loss: 0.478897, Accuracy: 87.3% \n",
      "\n",
      "Epoch 15\n",
      "-------------------------------\n",
      "loss: 0.560620  [   64/60000]\n",
      "loss: 0.443280  [ 6464/60000]\n",
      "loss: 0.464283  [12864/60000]\n",
      "loss: 0.508946  [19264/60000]\n",
      "loss: 0.452972  [25664/60000]\n",
      "loss: 0.454863  [32064/60000]\n",
      "loss: 0.376266  [38464/60000]\n",
      "loss: 0.552143  [44864/60000]\n",
      "loss: 0.521478  [51264/60000]\n",
      "loss: 0.528218  [57664/60000]\n",
      "Train loss: 0.485405, Accuracy: 87.1%\n",
      "Test Error: \n",
      " Avg loss: 0.456188, Accuracy: 87.8% \n",
      "\n",
      "Done!\n"
     ]
    }
   ],
   "source": [
    "epochs = 15\n",
    "for t in range(epochs):\n",
    "    print(f\"Epoch {t+1}\\n-------------------------------\")\n",
    "    train(train_dataloader, model, loss_fn, optimizer)\n",
    "    test(test_dataloader, model, loss_fn)\n",
    "print(\"Done!\")"
   ]
  },
  {
   "cell_type": "code",
   "execution_count": 46,
   "metadata": {},
   "outputs": [
    {
     "data": {
      "image/png": "[encoded data removed]",
      "text/plain": [
       "<Figure size 640x480 with 1 Axes>"
      ]
     },
     "metadata": {},
     "output_type": "display_data"
    },
    {
     "data": {
      "image/png": "[encoded data removed]",
      "text/plain": [
       "<Figure size 640x480 with 1 Axes>"
      ]
     },
     "metadata": {},
     "output_type": "display_data"
    }
   ],
   "source": [
    "plt.subplot(2,1,1)\n",
    "plt.plot(range(1, epochs+1), train_losses, label=\"Train Loss\")\n",
    "plt.plot(range(1, epochs+1), test_losses, label=\"Test Loss\")\n",
    "plt.xlabel(\"Epochs\")\n",
    "plt.ylabel(\"Loss\")\n",
    "plt.title(\"Training and Testing Loss over Epochs\")\n",
    "plt.legend()\n",
    "plt.show()\n",
    "\n",
    "plt.subplot(2,1,2)\n",
    "plt.plot(range(1, epochs+1), train_accuracies, label=\"Train Accuracy\")\n",
    "plt.plot(range(1, epochs+1), test_accuracies, label=\"Test Accuracy\")\n",
    "plt.xlabel(\"Epochs\")\n",
    "plt.ylabel(\"Accuracy\")\n",
    "plt.title(\"Training and Testing Accuracy over Epochs\")\n",
    "plt.legend()\n",
    "plt.show()\n"
   ]
  },
  {
   "cell_type": "code",
   "execution_count": 47,
   "metadata": {},
   "outputs": [
    {
     "name": "stdout",
     "output_type": "stream",
     "text": [
      "Predicted: \"7 - seven\", Actual: \"7 - seven\"\n"
     ]
    },
    {
     "data": {
      "image/png": "[encoded data removed]",
      "text/plain": [
       "<Figure size 640x480 with 1 Axes>"
      ]
     },
     "metadata": {},
     "output_type": "display_data"
    }
   ],
   "source": [
    "model.eval()\n",
    "idx = 0\n",
    "x, y = test_data[idx][0], test_data[idx][1]\n",
    "plt.imshow(x.permute(1,2,0), cmap = 'gray')\n",
    "with torch.no_grad():\n",
    "    x = x.to(device)\n",
    "    pred = model(x.unsqueeze(0))\n",
    "    predicted, actual = classes[pred[0].argmax(0)], classes[y]\n",
    "    print(f'Predicted: \"{predicted}\", Actual: \"{actual}\"')\n"
   ]
  },
  {
   "cell_type": "code",
   "execution_count": null,
   "metadata": {},
   "outputs": [],
   "source": []
  }
 ],
 "metadata": {
  "kernelspec": {
   "display_name": ".venv",
   "language": "python",
   "name": "python3"
  },
  "language_info": {
   "codemirror_mode": {
    "name": "ipython",
    "version": 3
   },
   "file_extension": ".py",
   "mimetype": "text/x-python",
   "name": "python",
   "nbconvert_exporter": "python",
   "pygments_lexer": "ipython3",
   "version": "3.10.11"
  }
 },
 "nbformat": 4,
 "nbformat_minor": 2
}
